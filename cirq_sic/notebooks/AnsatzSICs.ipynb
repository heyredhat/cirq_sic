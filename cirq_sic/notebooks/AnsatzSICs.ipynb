{
 "cells": [
  {
   "cell_type": "code",
   "execution_count": 1,
   "id": "43b4b5f4",
   "metadata": {},
   "outputs": [],
   "source": [
    "from cirq_sic import *\n",
    "from cirq.contrib.svg import SVGCircuit\n",
    "\n",
    "import numpy as np\n",
    "np.set_printoptions(precision=3, suppress=True)\n",
    "\n",
    "import matplotlib.pyplot as plt"
   ]
  },
  {
   "cell_type": "code",
   "execution_count": 2,
   "id": "2a3e6e50",
   "metadata": {},
   "outputs": [],
   "source": [
    "processor_id = \"willow_pink\"\n",
    "globals().update(get_device_data(processor_id))"
   ]
  },
  {
   "cell_type": "code",
   "execution_count": 3,
   "id": "dadb6da8",
   "metadata": {},
   "outputs": [],
   "source": [
    "n = 2\n",
    "d = 2**n\n",
    "phi = load_sic_fiducial(d)\n",
    "\n",
    "q = cirq.GridQubit.rect(2, n, top=5, left=1)\n",
    "system_qubits, ancilla_qubits = q[:n], q[n:]\n",
    "prepare_fiducial = ansatz_circuit(phi)\n",
    "circuit = cirq.Circuit((prepare_fiducial(system_qubits),\\\n",
    "                        simple_wh_povm(system_qubits, ancilla_qubits, prepare_fiducial=prepare_fiducial, measure=True)))\n",
    "optimized_circuit = process_circuit(circuit, connectivity_graph, gateset, system_qubits+ancilla_qubits)\n",
    "device.validate_circuit(optimized_circuit)"
   ]
  },
  {
   "cell_type": "code",
   "execution_count": 4,
   "id": "0e449662",
   "metadata": {},
   "outputs": [
    {
     "data": {
      "text/plain": [
       "array([0.252, 0.049, 0.052, 0.051, 0.05 , 0.045, 0.05 , 0.048, 0.053,\n",
       "       0.047, 0.052, 0.047, 0.053, 0.048, 0.051, 0.052])"
      ]
     },
     "execution_count": 4,
     "metadata": {},
     "output_type": "execute_result"
    }
   ],
   "source": [
    "# Exact simulation\n",
    "N = 10000\n",
    "s = cirq.Simulator()\n",
    "samples = s.run(optimized_circuit, repetitions=N)\n",
    "counts = samples.histogram(key=\"result\")\n",
    "exact_freqs =  np.array([v for k, v in sorted(counts.items())])/N\n",
    "exact_freqs"
   ]
  },
  {
   "cell_type": "code",
   "execution_count": null,
   "id": "8fc49e3a",
   "metadata": {},
   "outputs": [],
   "source": [
    "# Noisy simulation\n",
    "N = 10000\n",
    "samples = sampler.run(optimized_circuit, repetitions=N)\n",
    "counts = samples.histogram(key=\"result\")\n",
    "noisy_freqs = np.array([v for k, v in sorted(counts.items())])/N; noisy_freqs"
   ]
  },
  {
   "cell_type": "code",
   "execution_count": 5,
   "id": "27a1a607",
   "metadata": {},
   "outputs": [
    {
     "name": "stdout",
     "output_type": "stream",
     "text": [
      "--- Gate Counts (by type) ---\n",
      "PhasedXPowGate: 31\n",
      "CZPowGate: 21\n",
      "ZPowGate: 4\n",
      "PhasedXZGate: 13\n",
      "MeasurementGate: 1\n"
     ]
    }
   ],
   "source": [
    "get_gate_counts(optimized_circuit)"
   ]
  },
  {
   "cell_type": "code",
   "execution_count": null,
   "id": "a7cd4e5d",
   "metadata": {},
   "outputs": [
    {
     "data": {
      "text/plain": [
       "34"
      ]
     },
     "execution_count": 6,
     "metadata": {},
     "output_type": "execute_result"
    }
   ],
   "source": [
    "len(optimized_circuit.moments)"
   ]
  }
 ],
 "metadata": {
  "kernelspec": {
   "display_name": "cirq_sic",
   "language": "python",
   "name": "python3"
  },
  "language_info": {
   "codemirror_mode": {
    "name": "ipython",
    "version": 3
   },
   "file_extension": ".py",
   "mimetype": "text/x-python",
   "name": "python",
   "nbconvert_exporter": "python",
   "pygments_lexer": "ipython3",
   "version": "3.13.7"
  }
 },
 "nbformat": 4,
 "nbformat_minor": 5
}
