{
 "cells": [
  {
   "cell_type": "code",
   "execution_count": 2,
   "id": "43b4b5f4",
   "metadata": {},
   "outputs": [],
   "source": [
    "from cirq_sic import *\n",
    "from cirq.contrib.svg import SVGCircuit\n",
    "\n",
    "import numpy as np\n",
    "np.set_printoptions(precision=3, suppress=True)\n",
    "\n",
    "import matplotlib.pyplot as plt"
   ]
  },
  {
   "cell_type": "code",
   "execution_count": 3,
   "id": "2a3e6e50",
   "metadata": {},
   "outputs": [],
   "source": [
    "processor_id = \"willow_pink\"\n",
    "globals().update(get_device_data(processor_id))"
   ]
  },
  {
   "cell_type": "code",
   "execution_count": 23,
   "id": "dadb6da8",
   "metadata": {},
   "outputs": [],
   "source": [
    "n = 2\n",
    "d = 2**n\n",
    "phi = load_sic_fiducial(d)\n",
    "\n",
    "q = cirq.GridQubit.rect(2, n, top=5, left=1)\n",
    "A, B = q[:n], q[n:]\n",
    "prepare_ansatz = ansatz_circuit(phi)\n",
    "circuit = cirq.Circuit((prepare_ansatz(A),\\\n",
    "                        simple_wh_povm(A, B, prepare_ansatz, measure=True)))\n",
    "optimized_circuit = process_circuit(circuit, connectivity_graph, gateset, A+B)\n",
    "device.validate_circuit(optimized_circuit)"
   ]
  },
  {
   "cell_type": "code",
   "execution_count": 24,
   "id": "0e449662",
   "metadata": {},
   "outputs": [
    {
     "data": {
      "text/plain": [
       "array([0.25 , 0.051, 0.052, 0.052, 0.053, 0.048, 0.052, 0.051, 0.046,\n",
       "       0.048, 0.049, 0.049, 0.048, 0.054, 0.05 , 0.048])"
      ]
     },
     "execution_count": 24,
     "metadata": {},
     "output_type": "execute_result"
    }
   ],
   "source": [
    "# Exact simulation\n",
    "N = 10000\n",
    "s = cirq.Simulator()\n",
    "samples = s.run(optimized_circuit, repetitions=N)\n",
    "counts = samples.histogram(key=\"result\")\n",
    "exact_freqs =  np.array([v for k, v in sorted(counts.items())])/N\n",
    "exact_freqs"
   ]
  },
  {
   "cell_type": "code",
   "execution_count": 25,
   "id": "8fc49e3a",
   "metadata": {},
   "outputs": [
    {
     "data": {
      "text/plain": [
       "array([0.234, 0.059, 0.052, 0.036, 0.049, 0.051, 0.063, 0.058, 0.049,\n",
       "       0.059, 0.062, 0.053, 0.048, 0.049, 0.045, 0.033])"
      ]
     },
     "execution_count": 25,
     "metadata": {},
     "output_type": "execute_result"
    }
   ],
   "source": [
    "# Noisy simulation\n",
    "N = 10000\n",
    "samples = sampler.run(optimized_circuit, repetitions=N)\n",
    "counts = samples.histogram(key=\"result\")\n",
    "noisy_freqs = np.array([v for k, v in sorted(counts.items())])/N; noisy_freqs"
   ]
  },
  {
   "cell_type": "code",
   "execution_count": 29,
   "id": "27a1a607",
   "metadata": {},
   "outputs": [
    {
     "name": "stdout",
     "output_type": "stream",
     "text": [
      "--- Gate Counts (by type) ---\n",
      "PhasedXPowGate: 34\n",
      "CZPowGate: 26\n",
      "ZPowGate: 2\n",
      "PhasedXZGate: 19\n",
      "MeasurementGate: 1\n"
     ]
    }
   ],
   "source": [
    "get_gate_counts(optimized_circuit)"
   ]
  },
  {
   "cell_type": "code",
   "execution_count": 30,
   "id": "a7cd4e5d",
   "metadata": {},
   "outputs": [
    {
     "data": {
      "text/plain": [
       "43"
      ]
     },
     "execution_count": 30,
     "metadata": {},
     "output_type": "execute_result"
    }
   ],
   "source": [
    " len(optimized_circuit.moments)"
   ]
  },
  {
   "cell_type": "code",
   "execution_count": null,
   "id": "09724961",
   "metadata": {},
   "outputs": [],
   "source": []
  }
 ],
 "metadata": {
  "kernelspec": {
   "display_name": "cirq_sic",
   "language": "python",
   "name": "python3"
  },
  "language_info": {
   "codemirror_mode": {
    "name": "ipython",
    "version": 3
   },
   "file_extension": ".py",
   "mimetype": "text/x-python",
   "name": "python",
   "nbconvert_exporter": "python",
   "pygments_lexer": "ipython3",
   "version": "3.13.7"
  }
 },
 "nbformat": 4,
 "nbformat_minor": 5
}
