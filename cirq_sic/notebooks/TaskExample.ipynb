{
 "cells": [
  {
   "cell_type": "code",
   "execution_count": 1,
   "id": "828d86e5",
   "metadata": {},
   "outputs": [],
   "source": [
    "from cirq_sic import *\n",
    "import matplotlib.pyplot as plt\n",
    "\n",
    "EXPERIMENT_NAME = \"sky_ground\"\n",
    "BASE_DIR = f'../experiments/data/{EXPERIMENT_NAME}'"
   ]
  },
  {
   "cell_type": "code",
   "execution_count": 2,
   "id": "e1278734",
   "metadata": {},
   "outputs": [
    {
     "name": "stdout",
     "output_type": "stream",
     "text": [
      "Task already exists. Skipping.\n"
     ]
    }
   ],
   "source": [
    "n = 1\n",
    "d = 2**n\n",
    "\n",
    "program, data_label = sky_ground_programs[0]\n",
    "dataset_id = \"test\"\n",
    "process_id = \"willow_pink\"\n",
    "run_type = \"clean\"\n",
    "wh_implementation = \"simple\"\n",
    "n_shots = 1000\n",
    "flag = \"numerical_sic\"\n",
    "if flag == \"numerical_sic\":\n",
    "    prepare_fiducial = ansatz_circuit(load_sic_fiducial(d))\n",
    "elif flag == \"d4_monomial\":\n",
    "    prepare_fiducial = d4_sic_fiducial\n",
    "description = program.__name__\n",
    "qubits = cirq.GridQubit.rect(2 if wh_implementation == \"simple\" \\\n",
    "                               else 3, n, top=4, left=2)\n",
    "\n",
    "task = WHSkyGroundTask(dataset_id=dataset_id,\\\n",
    "                       processor_id=process_id,\\\n",
    "                       run_type=run_type,\\\n",
    "                       wh_implementation=wh_implementation,\n",
    "                       description=description,\\\n",
    "                       n_shots=n_shots,\n",
    "                       qubits=qubits,\\\n",
    "                       flag=flag,\\\n",
    "                       d=d)\n",
    "results = task.run(program, prepare_fiducial=prepare_fiducial, base_dir=BASE_DIR)"
   ]
  },
  {
   "cell_type": "code",
   "execution_count": 3,
   "id": "9d955a75",
   "metadata": {},
   "outputs": [
    {
     "data": {
      "text/plain": [
       "1"
      ]
     },
     "execution_count": 3,
     "metadata": {},
     "output_type": "execute_result"
    }
   ],
   "source": [
    "records = recirq.load_records(dataset_id=dataset_id, base_dir=BASE_DIR)\n",
    "len(records)"
   ]
  },
  {
   "cell_type": "code",
   "execution_count": 7,
   "id": "c1a8fde9",
   "metadata": {},
   "outputs": [
    {
     "data": {
      "text/plain": [
       "{'P': array([[0.497, 0.169, 0.146, 0.188],\n",
       "        [0.142, 0.511, 0.153, 0.194],\n",
       "        [0.151, 0.182, 0.503, 0.164],\n",
       "        [0.173, 0.178, 0.154, 0.495]])}"
      ]
     },
     "execution_count": 7,
     "metadata": {},
     "output_type": "execute_result"
    }
   ],
   "source": [
    "record = records[-1]\n",
    "processed = program.process_results(record[\"task\"], record[\"data\"], n_shots=1000)\n",
    "processed"
   ]
  }
 ],
 "metadata": {
  "kernelspec": {
   "display_name": "cirq_sic",
   "language": "python",
   "name": "python3"
  },
  "language_info": {
   "codemirror_mode": {
    "name": "ipython",
    "version": 3
   },
   "file_extension": ".py",
   "mimetype": "text/x-python",
   "name": "python",
   "nbconvert_exporter": "python",
   "pygments_lexer": "ipython3",
   "version": "3.13.7"
  }
 },
 "nbformat": 4,
 "nbformat_minor": 5
}
