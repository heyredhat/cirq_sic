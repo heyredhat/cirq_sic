{
 "cells": [
  {
   "cell_type": "code",
   "execution_count": 2,
   "id": "828d86e5",
   "metadata": {},
   "outputs": [],
   "source": [
    "from cirq_sic import *\n",
    "import matplotlib.pyplot as plt\n",
    "\n",
    "EXPERIMENT_NAME = \"sky_ground\"\n",
    "BASE_DIR = f'../experiments/data/{EXPERIMENT_NAME}'"
   ]
  },
  {
   "cell_type": "code",
   "execution_count": 32,
   "id": "e1278734",
   "metadata": {},
   "outputs": [
    {
     "name": "stdout",
     "output_type": "stream",
     "text": [
      "Starting task d2/CharacterizeWHReferenceDevice_numerical_sic__d2__ak__willow_pink__clean__100k__Qq(4, 2)q(5, 2)q(6, 2)...\n",
      "Creating circuits...\n",
      "Optimizing...\n",
      "Sampling...\n",
      "Saving...\n",
      "Done!\n"
     ]
    }
   ],
   "source": [
    "n = 1\n",
    "d = 2**n\n",
    "\n",
    "program, data_label = sky_ground_programs[0]\n",
    "dataset_id = \"d2\"\n",
    "process_id = \"willow_pink\"\n",
    "run_type = \"clean\"\n",
    "wh_implementation = \"ak\"\n",
    "n_shots = 100000\n",
    "flag = \"numerical_sic\"\n",
    "if flag == \"numerical_sic\":\n",
    "    prepare_fiducial = ansatz_circuit(load_sic_fiducial(d))\n",
    "elif flag == \"d4_monomial\":\n",
    "    prepare_fiducial = d4_sic_fiducial\n",
    "description = program.__name__\n",
    "qubits = cirq.GridQubit.rect(2 if wh_implementation == \"simple\" \\\n",
    "                               else 3, n, top=4, left=2)\n",
    "\n",
    "task = WHSkyGroundTask(dataset_id=dataset_id,\\\n",
    "                       processor_id=process_id,\\\n",
    "                       run_type=run_type,\\\n",
    "                       wh_implementation=wh_implementation,\n",
    "                       description=description,\\\n",
    "                       n_shots=n_shots,\n",
    "                       qubits=qubits,\\\n",
    "                       flag=flag,\\\n",
    "                       d=d)\n",
    "results = task.run(program, prepare_fiducial=prepare_fiducial, base_dir=BASE_DIR)"
   ]
  },
  {
   "cell_type": "code",
   "execution_count": 12,
   "id": "9d955a75",
   "metadata": {},
   "outputs": [],
   "source": [
    "records = recirq.load_records(dataset_id=dataset_id, base_dir=BASE_DIR)"
   ]
  }
 ],
 "metadata": {
  "kernelspec": {
   "display_name": "cirq_sic",
   "language": "python",
   "name": "python3"
  },
  "language_info": {
   "codemirror_mode": {
    "name": "ipython",
    "version": 3
   },
   "file_extension": ".py",
   "mimetype": "text/x-python",
   "name": "python",
   "nbconvert_exporter": "python",
   "pygments_lexer": "ipython3",
   "version": "3.13.7"
  }
 },
 "nbformat": 4,
 "nbformat_minor": 5
}
