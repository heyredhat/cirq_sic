{
 "cells": [
  {
   "cell_type": "code",
   "execution_count": 1,
   "id": "828d86e5",
   "metadata": {},
   "outputs": [],
   "source": [
    "from cirq_sic import *\n",
    "import matplotlib.pyplot as plt\n",
    "\n",
    "EXPERIMENT_NAME = \"sky_ground\"\n",
    "BASE_DIR = f'../experiments/data/{EXPERIMENT_NAME}'"
   ]
  },
  {
   "cell_type": "code",
   "execution_count": 21,
   "id": "e1278734",
   "metadata": {},
   "outputs": [
    {
     "name": "stdout",
     "output_type": "stream",
     "text": [
      "Starting task test/CharacterizeWHReferenceDevice__d4_monomial__d4__ak__willow_pink__clean__1k__Qq(4, 2)q(4, 3)q(5, 2)q(5, 3)q(6, 2)q(6, 3)...\n",
      "Creating circuits...\n",
      "Optimizing...\n",
      "Sampling...\n",
      "Saving...\n",
      "Done!\n"
     ]
    }
   ],
   "source": [
    "n = 2\n",
    "d = 2**n\n",
    "program, data_label = sky_ground_programs[0]\n",
    "dataset_id = \"test\"\n",
    "process_id = \"willow_pink\"\n",
    "run_type = \"clean\"\n",
    "wh_implementation = \"ak\"\n",
    "n_shots = 1000\n",
    "flags = \"d4_monomial\"\n",
    "if flags == \"numerical_sic\":\n",
    "    prepare_fiducial = ansatz_circuit(load_sic_fiducial(d))\n",
    "elif flags == \"d4_monomial\":\n",
    "    prepare_fiducial = d4_sic_fiducial\n",
    "description = program.__name__ + \"__%s\" % flags\n",
    "qubits = cirq.GridQubit.rect(2 if wh_implementation == \"simple\" \\\n",
    "                               else 3, n, top=4, left=2)\n",
    "\n",
    "task = WHSkyGroundTask(dataset_id=dataset_id,\\\n",
    "                       processor_id=process_id,\\\n",
    "                       run_type=run_type,\\\n",
    "                       wh_implementation=wh_implementation,\n",
    "                       description=description,\\\n",
    "                       n_shots=n_shots,\n",
    "                       qubits=qubits,\\\n",
    "                       d=d)\n",
    "results = task.run(program, prepare_fiducial=prepare_fiducial, base_dir=BASE_DIR)\n"
   ]
  },
  {
   "cell_type": "code",
   "execution_count": 22,
   "id": "f65cb46c",
   "metadata": {},
   "outputs": [
    {
     "data": {
      "text/plain": [
       "array([0.255, 0.254, 0.241, 0.242, 0.248, 0.242, 0.267, 0.251, 0.249,\n",
       "       0.275, 0.247, 0.249, 0.258, 0.28 , 0.261, 0.248])"
      ]
     },
     "execution_count": 22,
     "metadata": {},
     "output_type": "execute_result"
    }
   ],
   "source": [
    "P = results[data_label]\n",
    "np.diag(P)"
   ]
  },
  {
   "cell_type": "code",
   "execution_count": 20,
   "id": "9d955a75",
   "metadata": {},
   "outputs": [],
   "source": [
    "records = recirq.load_records(dataset_id=dataset_id, base_dir=BASE_DIR)"
   ]
  },
  {
   "cell_type": "code",
   "execution_count": null,
   "id": "deb03682",
   "metadata": {},
   "outputs": [],
   "source": []
  }
 ],
 "metadata": {
  "kernelspec": {
   "display_name": "cirq_sic",
   "language": "python",
   "name": "python3"
  },
  "language_info": {
   "codemirror_mode": {
    "name": "ipython",
    "version": 3
   },
   "file_extension": ".py",
   "mimetype": "text/x-python",
   "name": "python",
   "nbconvert_exporter": "python",
   "pygments_lexer": "ipython3",
   "version": "3.13.7"
  }
 },
 "nbformat": 4,
 "nbformat_minor": 5
}
