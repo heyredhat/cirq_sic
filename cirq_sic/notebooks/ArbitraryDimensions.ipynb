{
 "cells": [
  {
   "cell_type": "code",
   "execution_count": 1,
   "id": "9250b540",
   "metadata": {},
   "outputs": [],
   "source": [
    "import cirq\n",
    "import numpy as np\n",
    "\n",
    "from cirq_sic import *"
   ]
  },
  {
   "cell_type": "markdown",
   "id": "44907cfe",
   "metadata": {},
   "source": [
    "This modular addition algorithm works by temporarily calculating values like a+k. Since a and k can both be as large as d-1, their sum can reach up to (d-1) + (d-1) = 2d-2.\n",
    "\n",
    "Your qubit register can only represent integers from 0 to $2^n-1$. For the algorithm's logic (especially the part that checks for overflow using the most significant bit) to be reliable, the temporary sum must not exceed the register's capacity.\n",
    "\n",
    "This leads to the requirement: $2d-2 < 2^n$. Thus we can encode a qudit in $n$ qubits with $d$ satisfying\n",
    "\n",
    "$$d \\leq 2^{n-1}  $$\n",
    "\n",
    "https://github.com/pifparfait/Efficient-Quantum-Modular-Arithmetics/blob/main/quantum_modular_artihmetics.ipynb"
   ]
  },
  {
   "cell_type": "code",
   "execution_count": 5,
   "id": "2d28fa0e",
   "metadata": {},
   "outputs": [],
   "source": [
    "def sum_k(k, wires):\n",
    "    for j, wire in enumerate(wires):\n",
    "        angle = k * np.pi / (2**j)\n",
    "        if angle != 0:\n",
    "            yield cirq.ZPowGate(exponent=angle/np.pi)(wires[j])"
   ]
  },
  {
   "cell_type": "code",
   "execution_count": 6,
   "id": "393a8c65",
   "metadata": {},
   "outputs": [],
   "source": [
    "def add_in_k_N(k, N, q, aux, is_in_standard_basis=True):\n",
    "    wires_a = [aux[0]] + q\n",
    "    if is_in_standard_basis:\n",
    "        yield cirq.qft(*wires_a)\n",
    "    yield from sum_k(k, wires_a)\n",
    "    yield from cirq.inverse(list(sum_k(N, wires_a)))\n",
    "    yield cirq.inverse(cirq.qft(*wires_a))\n",
    "    yield cirq.CNOT(wires_a[0], aux[1])\n",
    "    yield cirq.qft(*wires_a)\n",
    "    yield from [op.controlled_by(aux[1]) for op in sum_k(N, wires_a)]\n",
    "    yield from cirq.inverse(list(sum_k(k, wires_a)))\n",
    "    yield cirq.inverse(cirq.qft(*wires_a))\n",
    "    yield cirq.X(wires_a[0])\n",
    "    yield cirq.CNOT(wires_a[0], aux[1])\n",
    "    yield cirq.X(wires_a[0])\n",
    "    yield cirq.qft(*wires_a)\n",
    "    yield from sum_k(k, wires_a)\n",
    "    if is_in_standard_basis:\n",
    "        yield cirq.inverse(cirq.qft(*wires_a))"
   ]
  },
  {
   "cell_type": "code",
   "execution_count": 7,
   "id": "97079f48",
   "metadata": {},
   "outputs": [],
   "source": [
    "def add_in_N(N, wires_a, wires_b, aux, is_in_standard_basis=True):\n",
    "    new_wires_b = [aux[0]] + wires_b\n",
    "    if is_in_standard_basis:\n",
    "        yield cirq.qft(*new_wires_b)\n",
    "    for i, control_qubit in enumerate(wires_a):\n",
    "        value = 2**(len(wires_a) - 1 - i)\n",
    "        adder_ops = list(add_in_k_N(value, N, wires_b, aux, is_in_standard_basis=False))\n",
    "        controlled_adder_ops = [op.controlled_by(control_qubit) for op in adder_ops]\n",
    "        yield from controlled_adder_ops\n",
    "    if is_in_standard_basis:\n",
    "        yield cirq.inverse(cirq.qft(*new_wires_b))\n",
    "\n",
    "def add_in_N_dag(N, wires_a, wires_b, aux, is_in_standard_basis=True):\n",
    "    yield cirq.inverse(list(add_in_N(N, wires_a, wires_b, aux, is_in_standard_basis=is_in_standard_basis)))"
   ]
  },
  {
   "cell_type": "code",
   "execution_count": 87,
   "id": "3365b46e",
   "metadata": {},
   "outputs": [],
   "source": [
    "def qft_in_N(d, qubits, inverse=False):\n",
    "    if inverse:\n",
    "        yield from cirq.inverse(qft_in_N(d, qubits))\n",
    "        return\n",
    "    n = len(qubits)\n",
    "    F = np.array([[np.exp(2*np.pi*1j*i*j/d) for j in range(d)] for i in range(d)])/np.sqrt(d)\n",
    "    Fd_gate = cirq.MatrixGate(sc.linalg.block_diag(F, np.eye(2**n - d)), name=f\"DFT({d})\")\n",
    "    yield from cirq.decompose(cirq.Circuit((Fd_gate.on(*qubits))))"
   ]
  },
  {
   "cell_type": "code",
   "execution_count": 88,
   "id": "a2388214",
   "metadata": {},
   "outputs": [],
   "source": [
    "n = 2\n",
    "d = 2**n\n",
    "phi = rand_ket(d)\n",
    "ansatz_preparation = ansatz_circuit(phi)\n",
    "\n",
    "system_qubits = cirq.LineQubit.range(n)\n",
    "ancilla_qubits = cirq.LineQubit.range(n, 2*n)\n",
    "aux = [cirq.NamedQubit(\"aux1\"), cirq.NamedQubit(\"aux2\")]\n",
    "sim = cirq.Simulator()"
   ]
  },
  {
   "cell_type": "code",
   "execution_count": 89,
   "id": "fbbb6080",
   "metadata": {},
   "outputs": [],
   "source": [
    "circ1 = cirq.Circuit((ansatz_preparation(system_qubits, conjugate=False),\n",
    "                     cirq.qft(*system_qubits),\n",
    "                     sum_k(1, system_qubits),\n",
    "                     cirq.inverse(cirq.qft(*system_qubits))))\n",
    "circ2 = cirq.Circuit((ansatz_preparation(system_qubits, conjugate=False),\n",
    "                      X(system_qubits)))\n",
    "circ3 = cirq.Circuit((ansatz_preparation(system_qubits, conjugate=False),\n",
    "                      add_in_k_N(1, d, system_qubits, aux)))\n",
    "\n",
    "res1, res2, res3 = sim.simulate(circ1),sim.simulate(circ2), sim.simulate(circ3)\n",
    "rho1, rho2, rho3 = res1.density_matrix_of(system_qubits),\\\n",
    "                   res2.density_matrix_of(system_qubits),\\\n",
    "                   res3.density_matrix_of(system_qubits)\n",
    "assert np.allclose(rho1, rho2)\n",
    "assert np.allclose(rho2, rho3)"
   ]
  },
  {
   "cell_type": "code",
   "execution_count": 90,
   "id": "398a6e91",
   "metadata": {},
   "outputs": [],
   "source": [
    "circ1 = cirq.Circuit((ansatz_preparation(ancilla_qubits, conjugate=True),\n",
    "                      ansatz_preparation(system_qubits, conjugate=False),\n",
    "                      CX(ancilla_qubits, system_qubits)))\n",
    "circ2 = cirq.Circuit((ansatz_preparation(ancilla_qubits, conjugate=True),\n",
    "                      ansatz_preparation(system_qubits, conjugate=False),\n",
    "                      add_in_N(d, ancilla_qubits, system_qubits, aux)))\n",
    "res1, res2 = sim.simulate(circ1), sim.simulate(circ2)\n",
    "rho1, rho2 = res1.density_matrix_of(ancilla_qubits+system_qubits),\\\n",
    "             res2.density_matrix_of(ancilla_qubits+system_qubits)\n",
    "assert np.allclose(rho1, rho2)"
   ]
  },
  {
   "cell_type": "code",
   "execution_count": 93,
   "id": "af7af05a",
   "metadata": {},
   "outputs": [
    {
     "name": "stdout",
     "output_type": "stream",
     "text": [
      "00000000: -0.07+-0.15j: 0.027\n",
      "00000100: -0.35+0.26j: 0.190\n",
      "00001000: -0.15+0.17j: 0.051\n",
      "00100000: -0.11+-0.34j: 0.129\n",
      "00100100: -0.33+-0.29j: 0.190\n",
      "00101000: -0.19+0.09j: 0.046\n",
      "01000000: -0.13+-0.48j: 0.244\n",
      "01000100: 0.03+-0.10j: 0.011\n",
      "01001000: -0.00+-0.33j: 0.112\n"
     ]
    }
   ],
   "source": [
    "n = 3\n",
    "d = 2**n\n",
    "d_s = 3\n",
    "phi = load_sic_fiducial(d_s)\n",
    "ket = rand_ket(d_s)\n",
    "embedded_phi = np.concatenate([phi, np.zeros(d-d_s)])\n",
    "embedded_ket = np.concatenate([ket, np.zeros(d-d_s)])\n",
    "prepare_fiducial = ansatz_circuit(embedded_phi)\n",
    "prepare_system = ansatz_circuit(embedded_ket)\n",
    "\n",
    "system_qubits = cirq.LineQubit.range(n)\n",
    "ancilla_qubits = cirq.LineQubit.range(n, 2*n)\n",
    "aux = [cirq.NamedQubit(\"aux1\"), cirq.NamedQubit(\"aux2\")]\n",
    "sim = cirq.Simulator()\n",
    "\n",
    "circ = cirq.Circuit((prepare_system(system_qubits, conjugate=False),\n",
    "                     prepare_fiducial(ancilla_qubits, conjugate=True),\n",
    "                     add_in_N_dag(d_s, ancilla_qubits, system_qubits, aux),\n",
    "                     qft_in_N(d_s, ancilla_qubits, inverse=True)))\n",
    "res = sim.simulate(circ)\n",
    "V = dirac(res.state_vector());"
   ]
  },
  {
   "cell_type": "code",
   "execution_count": 94,
   "id": "85f0a9cf",
   "metadata": {},
   "outputs": [
    {
     "data": {
      "text/plain": [
       "array([0.027, 0.19 , 0.051, 0.129, 0.19 , 0.046, 0.244, 0.011, 0.112])"
      ]
     },
     "execution_count": 94,
     "metadata": {},
     "output_type": "execute_result"
    }
   ],
   "source": [
    "E = wh_povm(phi)\n",
    "change_conjugate_convention(np.array([ket.conj() @ e @ ket for e in E]).real)"
   ]
  },
  {
   "cell_type": "code",
   "execution_count": null,
   "id": "6125bbc7",
   "metadata": {},
   "outputs": [],
   "source": []
  }
 ],
 "metadata": {
  "kernelspec": {
   "display_name": "cirq_sic",
   "language": "python",
   "name": "python3"
  },
  "language_info": {
   "codemirror_mode": {
    "name": "ipython",
    "version": 3
   },
   "file_extension": ".py",
   "mimetype": "text/x-python",
   "name": "python",
   "nbconvert_exporter": "python",
   "pygments_lexer": "ipython3",
   "version": "3.13.7"
  }
 },
 "nbformat": 4,
 "nbformat_minor": 5
}
