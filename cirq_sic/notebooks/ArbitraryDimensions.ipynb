{
 "cells": [
  {
   "cell_type": "code",
   "execution_count": 1,
   "id": "9250b540",
   "metadata": {},
   "outputs": [],
   "source": [
    "import cirq\n",
    "import numpy as np\n",
    "\n",
    "from cirq_sic import *"
   ]
  },
  {
   "cell_type": "markdown",
   "id": "44907cfe",
   "metadata": {},
   "source": [
    "This modular addition algorithm works by temporarily calculating values like a+k. Since a and k can both be as large as d-1, their sum can reach up to (d-1) + (d-1) = 2d-2.\n",
    "\n",
    "Your qubit register can only represent integers from 0 to $2^n-1$. For the algorithm's logic (especially the part that checks for overflow using the most significant bit) to be reliable, the temporary sum must not exceed the register's capacity.\n",
    "\n",
    "This leads to the requirement: $2d-2 < 2^n$. Thus we can encode a qudit in $n$ qubits with $d$ satisfying\n",
    "\n",
    "$$d \\leq 2^{n-1}  $$\n",
    "\n",
    "https://github.com/pifparfait/Efficient-Quantum-Modular-Arithmetics/blob/main/quantum_modular_artihmetics.ipynb"
   ]
  },
  {
   "cell_type": "code",
   "execution_count": null,
   "id": "99643ed4",
   "metadata": {},
   "outputs": [],
   "source": [
    "def Z_d(d, qubits, aux, k=1):\n",
    "    \"\"\"Z acting on the first d basis vectors of n qubits. Requires two auxilliary qubits. Note d <= 2^{n-1}\"\"\"\n",
    "    extended_qubits = [aux[0]] + qubits\n",
    "    yield from Z(extended_qubits, k=k)\n",
    "    yield from Z(extended_qubits, k=-d)\n",
    "    yield from qft(extended_qubits, inverse=True)\n",
    "    yield cirq.CNOT(extended_qubits[0], aux[1])\n",
    "    yield from qft(extended_qubits)\n",
    "    yield from [op.controlled_by(aux[1]) for op in Z(extended_qubits, k=d)]\n",
    "    yield from Z(extended_qubits, k=-k)\n",
    "    yield from qft(extended_qubits, inverse=True)\n",
    "    yield cirq.X(extended_qubits[0])\n",
    "    yield cirq.CNOT(extended_qubits[0], aux[1])\n",
    "    yield cirq.X(extended_qubits[0])\n",
    "    yield from qft(extended_qubits)\n",
    "    yield from Z(extended_qubits, k=k)\n",
    "\n",
    "def X_d(d, qubits, aux, k=1):\n",
    "    \"\"\"X acting on the first d basis vectors of n qubits. Requires two auxilliary qubits. Note d <= 2^{n-1}\"\"\"\n",
    "    extended_qubits = [aux[0]] + qubits\n",
    "    yield from qft(extended_qubits)\n",
    "    yield from Z_d(d, qubits, aux, k=k)\n",
    "    yield from qft(extended_qubits, inverse=True)"
   ]
  },
  {
   "cell_type": "code",
   "execution_count": null,
   "id": "d176f7a2",
   "metadata": {},
   "outputs": [],
   "source": [
    "def CZ_d(d, control_qubits, target_qubits, aux, inverse=False):\n",
    "    \"\"\"CZ acting on the first d basis vectors of two pairs of n qubits. Requires two auxilliary qubits. Note d <= 2^{n-1}\"\"\"\n",
    "    if inverse:\n",
    "        yield from cirq.inverse(list(CZ_d(d, control_qubits, target_qubits, aux)))\n",
    "        return\n",
    "    for i, control_qubit in enumerate(control_qubits):\n",
    "        k = 2**(len(control_qubits) - 1 - i)\n",
    "        yield from [op.controlled_by(control_qubit) for op in Z_d(d, target_qubits, aux, k=k)]\n",
    "\n",
    "def CX_d(d, control_qubits, target_qubits, aux, inverse=False):\n",
    "    \"\"\"CX acting on the first d basis vectors of two pairs of n qubits. Requires two auxilliary qubits. Note d <= 2^{n-1}\"\"\"\n",
    "    extended_target_qubits = [aux[0]] + target_qubits\n",
    "    yield from qft(extended_target_qubits)\n",
    "    yield from CZ_d(d, control_qubits, target_qubits, aux, inverse=inverse)\n",
    "    yield from qft(extended_target_qubits, inverse=True)"
   ]
  },
  {
   "cell_type": "code",
   "execution_count": null,
   "id": "3365b46e",
   "metadata": {},
   "outputs": [],
   "source": [
    "def qft_d(d, qubits, inverse=False):\n",
    "    \"\"\"QFT acting on the first d basis vectors of two pairs of n qubits.\"\"\"\n",
    "    if inverse:\n",
    "        yield from cirq.inverse(qft_d(d, qubits))\n",
    "        return\n",
    "    n = len(qubits)\n",
    "    F = np.array([[np.exp(2*np.pi*1j*i*j/d) for j in range(d)] for i in range(d)])/np.sqrt(d)\n",
    "    Fd_gate = cirq.MatrixGate(sc.linalg.block_diag(F, np.eye(2**n - d)), name=f\"DFT({d})\")\n",
    "    yield from cirq.decompose(cirq.Circuit((Fd_gate.on(*qubits))))"
   ]
  },
  {
   "cell_type": "code",
   "execution_count": 59,
   "id": "9284ebd8",
   "metadata": {},
   "outputs": [],
   "source": [
    "def mod_d_outcome_mask(d, n, m):\n",
    "    \"\"\"When working on computations mod d encoded in n-qubits, with m groups of n-qubits.\"\"\"\n",
    "    d_b = 2**n\n",
    "    return sum([kron(*[np.eye(d_b, dtype=int)[i] for i in ind]) for ind in np.ndindex(*[d_b]*m) if np.all(np.array(ind) < d)])\n",
    "\n",
    "def mod_d_probabilities(p, d, n, m):\n",
    "    return p[np.where(mod_d_outcome_mask(d, n, m)==1)]"
   ]
  },
  {
   "cell_type": "code",
   "execution_count": 57,
   "id": "a2388214",
   "metadata": {},
   "outputs": [],
   "source": [
    "n = 2\n",
    "d = 2**n\n",
    "phi = rand_ket(d)\n",
    "ansatz_preparation = ansatz_circuit(phi)\n",
    "\n",
    "system_qubits = cirq.LineQubit.range(n)\n",
    "ancilla_qubits = cirq.LineQubit.range(n, 2*n)\n",
    "aux = [cirq.NamedQubit(\"aux1\"), cirq.NamedQubit(\"aux2\")]\n",
    "sim = cirq.Simulator()\n",
    "\n",
    "circ1 = cirq.Circuit((ansatz_preparation(system_qubits, conjugate=False),\n",
    "                      X(system_qubits)))\n",
    "circ2 = cirq.Circuit((ansatz_preparation(system_qubits, conjugate=False),\n",
    "                      X_d(d, system_qubits, aux, k=1)))\n",
    "\n",
    "res1, res2 = sim.simulate(circ1),sim.simulate(circ2)\n",
    "rho1, rho2= res1.density_matrix_of(system_qubits), res2.density_matrix_of(system_qubits)\n",
    "assert np.allclose(rho1, rho2)\n",
    "\n",
    "circ1 = cirq.Circuit((ansatz_preparation(ancilla_qubits, conjugate=True),\n",
    "                      ansatz_preparation(system_qubits, conjugate=False),\n",
    "                      CX(ancilla_qubits, system_qubits)))\n",
    "circ2 = cirq.Circuit((ansatz_preparation(ancilla_qubits, conjugate=True),\n",
    "                      ansatz_preparation(system_qubits, conjugate=False),\n",
    "                      CX_d(d, ancilla_qubits, system_qubits, aux)))\n",
    "res1, res2 = sim.simulate(circ1), sim.simulate(circ2)\n",
    "rho1, rho2 = res1.density_matrix_of(ancilla_qubits+system_qubits),\\\n",
    "             res2.density_matrix_of(ancilla_qubits+system_qubits)\n",
    "assert np.allclose(rho1, rho2)"
   ]
  },
  {
   "cell_type": "code",
   "execution_count": null,
   "id": "398a6e91",
   "metadata": {},
   "outputs": [],
   "source": []
  },
  {
   "cell_type": "code",
   "execution_count": 60,
   "id": "af7af05a",
   "metadata": {},
   "outputs": [],
   "source": [
    "n = 3\n",
    "d = 2**n\n",
    "d_s = 3\n",
    "phi = load_sic_fiducial(d_s)\n",
    "ket = rand_ket(d_s)\n",
    "embedded_phi = np.concatenate([phi, np.zeros(d-d_s)])\n",
    "embedded_ket = np.concatenate([ket, np.zeros(d-d_s)])\n",
    "prepare_fiducial = ansatz_circuit(embedded_phi)\n",
    "prepare_system = ansatz_circuit(embedded_ket)\n",
    "\n",
    "system_qubits = cirq.LineQubit.range(n)\n",
    "ancilla_qubits = cirq.LineQubit.range(n, 2*n)\n",
    "aux = [cirq.NamedQubit(\"aux1\"), cirq.NamedQubit(\"aux2\")]\n",
    "sim = cirq.Simulator()\n",
    "\n",
    "circ = cirq.Circuit((prepare_system(system_qubits, conjugate=False),\n",
    "                     prepare_fiducial(ancilla_qubits, conjugate=True),\n",
    "                     CX_d(d_s, ancilla_qubits, system_qubits, aux, inverse=True),\n",
    "                     qft_d(d_s, ancilla_qubits, inverse=True)))\n",
    "res = sim.simulate(circ)\n",
    "total_p = np.diag(res.density_matrix_of(system_qubits+ancilla_qubits)).real\n",
    "p = mod_d_probabilities(total_p, d_s, n, 2)\n",
    "\n",
    "E = wh_povm(phi)\n",
    "p2 = change_conjugate_convention(np.array([ket.conj() @ e @ ket for e in E]).real)\n",
    "assert np.allclose(p, p2)"
   ]
  }
 ],
 "metadata": {
  "kernelspec": {
   "display_name": "cirq_sic",
   "language": "python",
   "name": "python3"
  },
  "language_info": {
   "codemirror_mode": {
    "name": "ipython",
    "version": 3
   },
   "file_extension": ".py",
   "mimetype": "text/x-python",
   "name": "python",
   "nbconvert_exporter": "python",
   "pygments_lexer": "ipython3",
   "version": "3.13.7"
  }
 },
 "nbformat": 4,
 "nbformat_minor": 5
}
