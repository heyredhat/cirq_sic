{
 "cells": [
  {
   "cell_type": "code",
   "execution_count": 1,
   "id": "ec541e03",
   "metadata": {},
   "outputs": [],
   "source": [
    "from cirq_sic import *\n",
    "from cirq.contrib.svg import SVGCircuit\n",
    "\n",
    "# https://github.com/pifparfait/Efficient-Quantum-Modular-Arithmetics/blob/main/quantum_modular_artihmetics.ipynb"
   ]
  },
  {
   "cell_type": "code",
   "execution_count": 2,
   "id": "98d3fa97",
   "metadata": {},
   "outputs": [
    {
     "data": {
      "text/plain": [
       "(array([[ 0.194+0.j   ,  0.176-0.211j, -0.173-0.225j],\n",
       "        [ 0.176+0.211j,  0.391+0.j   ,  0.087-0.393j],\n",
       "        [-0.173+0.225j,  0.087+0.393j,  0.415+0.j   ]], dtype=complex64),\n",
       " array([1.+0.j, 0.+0.j], dtype=complex64))"
      ]
     },
     "execution_count": 2,
     "metadata": {},
     "output_type": "execute_result"
    }
   ],
   "source": [
    "def F(q):\n",
    "    yield cirq.qft(*q, without_reverse=False)\n",
    "\n",
    "def Fdag(q):\n",
    "    yield cirq.qft(*q, inverse=True, without_reverse=False)\n",
    "\n",
    "def add_k(q, k):\n",
    "    \"\"\"\n",
    "    Apply a rotation gate to each qubit in q rotating by an angle 'k * pi / 2^j'.\n",
    "    \"\"\"\n",
    "    n = len(q)\n",
    "    for j in range(n):\n",
    "        angle = k * np.pi  / (2**j)\n",
    "        yield cirq.Rz(rads=angle)(q[j])\n",
    "\n",
    "def controlled_add_k(q, c, k):\n",
    "    n = len(q)\n",
    "    for j in range(n):\n",
    "        angle = k * np.pi  / (2**j)\n",
    "        yield cirq.Rz(rads=angle).on(q[j]).controlled_by(c)\n",
    "\n",
    "def add_k_mod_d(q, c, k, d, is_in_standard_basis=True):\n",
    "    \"\"\"\n",
    "    Perform in-place modular addition of 'k' modulo d to the qubits in q. c is an auxiliary qubit.\n",
    "    'is_in_standard_basis' specifies whether the input state is in the standard basis (True) or Fourier basis (False).\n",
    "    \"\"\"\n",
    "    sig_bit = q[0]\n",
    "\n",
    "    # Set the Fourier basis if 'is_in_standard_basis' is True\n",
    "    if is_in_standard_basis:\n",
    "        yield F(q)\n",
    "    \n",
    "    # Step 1: Add 'k' to the register\n",
    "    yield add_k(q, k)\n",
    "    \n",
    "    # Step 2: Subtract 'd'\n",
    "    yield add_k(q, -d)\n",
    "    \n",
    "    # Step 3: Conditionally add 'd' back\n",
    "    yield Fdag(q)\n",
    "    yield cirq.CNOT(sig_bit, c)\n",
    "    yield F(q)\n",
    "\n",
    "    # Step 4: Add 'd' to the register conditionally\n",
    "    yield controlled_add_k(q, c, d)\n",
    "    \n",
    "    # Step 5: Clear the auxiliary bit\n",
    "    yield add_k(q, -k)\n",
    "    \n",
    "    # Step 6: Conditionally add 'd' back\n",
    "    yield Fdag(q)\n",
    "    yield cirq.X(sig_bit)\n",
    "    yield cirq.CNOT(sig_bit, c)  # Use the most significant bit to control the auxiliary bit\n",
    "    yield cirq.X(sig_bit)\n",
    "    yield F(q) \n",
    "\n",
    "    # Step 7: Add 'k' to the register\n",
    "    yield add_k(q, k)\n",
    "    \n",
    "    # Recover the standard basis if 'is_in_standard_basis' is True\n",
    "    if is_in_standard_basis:\n",
    "        yield Fdag(q)\n",
    "\n",
    "n = 3\n",
    "d = 3\n",
    "q = cirq.LineQubit.range(n)\n",
    "c = cirq.NamedQubit(\"cntrl\")\n",
    "circ = cirq.Circuit((add_k_mod_d(q, c, 2, d)))\n",
    "sim = cirq.Simulator()\n",
    "ket = rand_ket(d)\n",
    "initial_state = np.kron(np.concatenate([ket, np.zeros(2**n-d)]), np.eye(2)[0])\n",
    "result = sim.simulate(circ, initial_state=initial_state, qubit_order=q+[c])\n",
    "result.density_matrix_of(q)[:d, :d], np.diag(result.density_matrix_of([c]))"
   ]
  },
  {
   "cell_type": "code",
   "execution_count": 3,
   "id": "9645a6fd",
   "metadata": {},
   "outputs": [
    {
     "data": {
      "text/plain": [
       "array([[ 0.415-0.j   , -0.141-0.246j, -0.397-0.07j ],\n",
       "       [-0.141+0.246j,  0.194-0.j   ,  0.176-0.211j],\n",
       "       [-0.397+0.07j ,  0.176+0.211j,  0.391-0.j   ]])"
      ]
     },
     "execution_count": 3,
     "metadata": {},
     "output_type": "execute_result"
    }
   ],
   "source": [
    "np.outer(ket,ket.conj())"
   ]
  },
  {
   "cell_type": "markdown",
   "id": "7c21ad27",
   "metadata": {},
   "source": [
    "This modular addition algorithm works by temporarily calculating values like a+k. Since a and k can both be as large as d-1, their sum can reach up to (d-1) + (d-1) = 2d-2.\n",
    "\n",
    "Your qubit register can only represent integers from 0 to $2^n-1$. For the algorithm's logic (especially the part that checks for overflow using the most significant bit) to be reliable, the temporary sum must not exceed the register's capacity.\n",
    "\n",
    "This leads to the requirement: $2d-2 < 2^n$. Thus we can encode a qudit in $n$ qubits with $d$ satisfying\n",
    "\n",
    "$$d \\leq 2^{n-1}  $$"
   ]
  },
  {
   "cell_type": "code",
   "execution_count": 4,
   "id": "1184834f",
   "metadata": {},
   "outputs": [],
   "source": [
    "import inspect\n",
    "\n",
    "def make_controlled_version_recursive(control_qubit, circuit_generator):\n",
    "    \"\"\"\n",
    "    Recursively unpacks nested generators and applies a control\n",
    "    to every operation.\n",
    "    \"\"\"\n",
    "    # Iterate through all items yielded by the generator\n",
    "    for item in circuit_generator:\n",
    "        # Case 1: The item is a standard Cirq Operation\n",
    "        if isinstance(item, cirq.Operation):\n",
    "            yield item.controlled_by(control_qubit)\n",
    "        # Case 2: The item is another generator\n",
    "        elif inspect.isgenerator(item):\n",
    "            # If so, recursively call this function on the sub-generator\n",
    "            # and yield all of its controlled operations.\n",
    "            yield from make_controlled_version_recursive(control_qubit, item)\n",
    "        # You could add other cases here if needed (e.g., for lists of ops)"
   ]
  },
  {
   "cell_type": "code",
   "execution_count": 5,
   "id": "5b553f1d",
   "metadata": {},
   "outputs": [],
   "source": [
    "def add_mod_d(d, c, t, aux1, aux2):\n",
    "    new_t = [aux1] + t\n",
    "    yield F(new_t)\n",
    "    for i in range(len(c)):\n",
    "        k = 2**(len(c) - 1 - i) % d\n",
    "        yield make_controlled_version_recursive(c[i], add_k_mod_d(new_t, aux2, k, d, is_in_standard_basis=False) )\n",
    "    yield Fdag(new_t)"
   ]
  },
  {
   "cell_type": "code",
   "execution_count": 13,
   "id": "87222580",
   "metadata": {},
   "outputs": [],
   "source": [
    "n = 2\n",
    "d = 2\n",
    "c = cirq.LineQubit.range(n)\n",
    "t = cirq.LineQubit.range(n, 2*n)\n",
    "aux1 = cirq.NamedQubit(\"aux1\")\n",
    "aux2 = cirq.NamedQubit(\"aux2\")\n",
    "\n",
    "circ = cirq.Circuit((add_mod_d(d, c, t, aux1, aux2)))"
   ]
  },
  {
   "cell_type": "code",
   "execution_count": 18,
   "id": "94328e33",
   "metadata": {},
   "outputs": [
    {
     "data": {
      "text/plain": [
       "(array([0., 0., 0., 0., 1., 0., 0., 0., 0., 0., 0., 0., 0., 0., 0., 0.],\n",
       "       dtype=float32),\n",
       " array([0., 0., 0., 0., 1., 0., 0., 0., 0., 0., 0., 0., 0., 0., 0., 0.]))"
      ]
     },
     "execution_count": 18,
     "metadata": {},
     "output_type": "execute_result"
    }
   ],
   "source": [
    "a = 1\n",
    "b = 1\n",
    "initial_state = kron(np.eye(2**n)[a],np.eye(2**n)[b],np.eye(4)[0])\n",
    "final_state = kron(np.eye(2**n)[a],np.eye(2**n)[(a+b)%d])\n",
    "sim = cirq.Simulator()\n",
    "result = sim.simulate(circ, initial_state=initial_state, qubit_order=c+t+[aux1, aux2])\n",
    "res_vec = np.diag(result.density_matrix_of(c+t)).real\n",
    "res_vec, final_state"
   ]
  },
  {
   "cell_type": "code",
   "execution_count": null,
   "id": "66f14809",
   "metadata": {},
   "outputs": [],
   "source": []
  }
 ],
 "metadata": {
  "kernelspec": {
   "display_name": "cirq_sic",
   "language": "python",
   "name": "python3"
  },
  "language_info": {
   "codemirror_mode": {
    "name": "ipython",
    "version": 3
   },
   "file_extension": ".py",
   "mimetype": "text/x-python",
   "name": "python",
   "nbconvert_exporter": "python",
   "pygments_lexer": "ipython3",
   "version": "3.13.7"
  }
 },
 "nbformat": 4,
 "nbformat_minor": 5
}
