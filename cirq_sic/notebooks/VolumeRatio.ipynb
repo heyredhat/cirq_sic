{
 "cells": [
  {
   "cell_type": "code",
   "execution_count": 1,
   "id": "2c86c3fc",
   "metadata": {},
   "outputs": [
    {
     "name": "stdout",
     "output_type": "stream",
     "text": [
      "Setting up for d=2 (n=d^2=4)...\n",
      "Running simulation with 2,000,000 samples...\n"
     ]
    },
    {
     "name": "stderr",
     "output_type": "stream",
     "text": [
      "Monte Carlo Progress: 100%|██████████| 2000000/2000000 [00:32<00:00, 61248.35it/s]"
     ]
    },
    {
     "name": "stdout",
     "output_type": "stream",
     "text": [
      "\n",
      "--- Results ---\n",
      "Dimension (d): 2\n",
      "Number of samples: 2,000,000\n",
      "---------------\n",
      "Monte Carlo Estimated Ratio: 0.03736450\n",
      "Analytical (True) Ratio:    0.03703704\n",
      "Absolute Error:             0.00032746\n"
     ]
    },
    {
     "name": "stderr",
     "output_type": "stream",
     "text": [
      "\n"
     ]
    }
   ],
   "source": [
    "import numpy as np\n",
    "from tqdm import tqdm\n",
    "\n",
    "def get_sic_vertices(d: int) -> np.ndarray:\n",
    "    \"\"\"\n",
    "    Constructs the matrix whose columns are the SIC simplex vertices.\n",
    "\n",
    "    Args:\n",
    "        d: The dimension of the Hilbert space.\n",
    "\n",
    "    Returns:\n",
    "        A (d^2, d^2) numpy array where each column is a SIC vertex.\n",
    "    \"\"\"\n",
    "    n = d**2\n",
    "    vertices = np.zeros((n, n))\n",
    "    \n",
    "    # The term (1 / (d * (d + 1))) is common to all elements\n",
    "    common_factor = 1.0 / (d * (d + 1))\n",
    "    \n",
    "    # Create the matrix of all ones\n",
    "    all_ones = np.ones((n, n))\n",
    "    \n",
    "    # Create the scaled identity matrix for the delta term\n",
    "    identity_term = d * np.identity(n)\n",
    "    \n",
    "    # The vertices are the columns of the resulting matrix\n",
    "    vertices = common_factor * (identity_term + all_ones)\n",
    "    \n",
    "    return vertices\n",
    "\n",
    "def is_in_convex_hull(p: np.ndarray, V_inv: np.ndarray) -> bool:\n",
    "    \"\"\"\n",
    "    Checks if a point p is inside the convex hull of the vertices V.\n",
    "\n",
    "    A point is inside the convex hull if it can be written as a convex\n",
    "    combination of the vertices, which means the coefficients (alpha)\n",
    "    solved from p = V * alpha are all non-negative.\n",
    "\n",
    "    Args:\n",
    "        p: The random point to check.\n",
    "        V_inv: The pre-calculated inverse of the vertex matrix.\n",
    "\n",
    "    Returns:\n",
    "        True if the point is inside the hull, False otherwise.\n",
    "    \"\"\"\n",
    "    # Solve the system V * alpha = p for alpha\n",
    "    alpha = V_inv @ p\n",
    "    \n",
    "    # Check if all coefficients are non-negative.\n",
    "    # A small tolerance is used to account for floating-point inaccuracies.\n",
    "    return np.all(alpha >= -1e-9)\n",
    "\n",
    "def estimate_volume_ratio(d: int, num_samples: int) -> float:\n",
    "    \"\"\"\n",
    "    Estimates the ratio of the SIC simplex volume to the probability simplex volume\n",
    "    using a Monte Carlo method.\n",
    "\n",
    "    Args:\n",
    "        d: The dimension of the Hilbert space.\n",
    "        num_samples: The number of random points to generate for the simulation.\n",
    "\n",
    "    Returns:\n",
    "        The estimated volume ratio.\n",
    "    \"\"\"\n",
    "    n = d**2\n",
    "    \n",
    "    print(f\"Setting up for d={d} (n=d^2={n})...\")\n",
    "    \n",
    "    # 1. Get the SIC vertices and pre-calculate the inverse of the vertex matrix.\n",
    "    # This is a significant optimization as the inverse is constant for all samples.\n",
    "    V = get_sic_vertices(d)\n",
    "    try:\n",
    "        V_inv = np.linalg.inv(V)\n",
    "    except np.linalg.LinAlgError:\n",
    "        print(\"Error: The vertex matrix is singular and cannot be inverted.\")\n",
    "        return 0.0\n",
    "\n",
    "    # 2. Run the Monte Carlo simulation.\n",
    "    inside_count = 0\n",
    "    print(f\"Running simulation with {num_samples:,} samples...\")\n",
    "    \n",
    "    for _ in tqdm(range(num_samples), desc=\"Monte Carlo Progress\"):\n",
    "        # Generate a random point uniformly distributed in the probability simplex.\n",
    "        # This is done by sampling from an exponential distribution and normalizing.\n",
    "        random_exponentials = np.random.exponential(1.0, size=n)\n",
    "        p = random_exponentials / np.sum(random_exponentials)\n",
    "        \n",
    "        # Check if the point lies within the SIC simplex (the convex hull of V).\n",
    "        if is_in_convex_hull(p, V_inv):\n",
    "            inside_count += 1\n",
    "            \n",
    "    # 3. The estimated ratio is the fraction of points that fell inside.\n",
    "    return inside_count / num_samples\n",
    "\n",
    "def main():\n",
    "    \"\"\"\n",
    "    Main function to run the simulation and display results.\n",
    "    \"\"\"\n",
    "    # --- Simulation Parameters ---\n",
    "    d = 2  # Dimension. Note: d > 2 is computationally infeasible.\n",
    "    num_samples = 2_000_000  # Number of Monte Carlo samples. More is better.\n",
    "    \n",
    "    if d > 2:\n",
    "        print(f\"Warning: Monte Carlo estimation for d={d} is not practical.\")\n",
    "        print(\"The true volume ratio is extremely small, and an enormous number\")\n",
    "        print(\"of samples would be needed to get a meaningful result.\\n\")\n",
    "\n",
    "    # --- Run Simulation ---\n",
    "    estimated_ratio = estimate_volume_ratio(d, num_samples)\n",
    "    \n",
    "    # --- Calculate Analytical Result ---\n",
    "    true_ratio = (1 / (d + 1))**(d**2 - 1)\n",
    "    \n",
    "    # --- Display Results ---\n",
    "    print(\"\\n--- Results ---\")\n",
    "    print(f\"Dimension (d): {d}\")\n",
    "    print(f\"Number of samples: {num_samples:,}\")\n",
    "    print(\"-\" * 15)\n",
    "    print(f\"Monte Carlo Estimated Ratio: {estimated_ratio:.8f}\")\n",
    "    print(f\"Analytical (True) Ratio:    {true_ratio:.8f}\")\n",
    "    print(f\"Absolute Error:             {abs(estimated_ratio - true_ratio):.8f}\")\n",
    "\n",
    "if __name__ == \"__main__\":\n",
    "    main()\n"
   ]
  },
  {
   "cell_type": "code",
   "execution_count": 7,
   "id": "fc53b889",
   "metadata": {},
   "outputs": [
    {
     "data": {
      "text/plain": [
       "0.3333333333333333"
      ]
     },
     "execution_count": 7,
     "metadata": {},
     "output_type": "execute_result"
    }
   ],
   "source": [
    "import math\n",
    "\n",
    "d = 2\n",
    "d/math.factorial(d**2-1)"
   ]
  },
  {
   "cell_type": "code",
   "execution_count": null,
   "id": "b982475b",
   "metadata": {},
   "outputs": [],
   "source": []
  },
  {
   "cell_type": "code",
   "execution_count": 8,
   "id": "73bf0f73",
   "metadata": {},
   "outputs": [
    {
     "data": {
      "text/plain": [
       "array([[0.5       , 0.16666667, 0.16666667, 0.16666667],\n",
       "       [0.16666667, 0.5       , 0.16666667, 0.16666667],\n",
       "       [0.16666667, 0.16666667, 0.5       , 0.16666667],\n",
       "       [0.16666667, 0.16666667, 0.16666667, 0.5       ]])"
      ]
     },
     "execution_count": 8,
     "metadata": {},
     "output_type": "execute_result"
    }
   ],
   "source": [
    "get_sic_vertices(2)"
   ]
  },
  {
   "cell_type": "code",
   "execution_count": 1,
   "id": "97b2592b",
   "metadata": {},
   "outputs": [],
   "source": [
    "import numpy as np"
   ]
  },
  {
   "cell_type": "code",
   "execution_count": 3,
   "id": "1fe86500",
   "metadata": {},
   "outputs": [
    {
     "data": {
      "text/plain": [
       "array([[ 0.1316285 , -0.08525514, -0.64936486, -0.33787555],\n",
       "       [-0.30212997, -0.97877979,  0.75209679,  2.20162709],\n",
       "       [ 0.38275558,  0.77453701,  1.11665022, -0.50611898],\n",
       "       [-1.34193137,  1.26599323,  0.20879645,  0.92909578],\n",
       "       [-0.80640376, -0.20585447, -0.52628588,  0.55416066],\n",
       "       [-0.367277  ,  0.56016837, -1.40588212, -0.01163235],\n",
       "       [ 0.52771807,  1.36586582, -0.40366818, -2.53118717],\n",
       "       [ 1.84544533, -0.10004747,  0.82872325,  1.43425753],\n",
       "       [-0.62156097,  1.17884826,  1.03757362, -1.75852017],\n",
       "       [ 0.87154209, -0.03563278,  0.66069258,  0.44346111]])"
      ]
     },
     "execution_count": 3,
     "metadata": {},
     "output_type": "execute_result"
    }
   ],
   "source": [
    "H = np.random.randn(10, 4); H"
   ]
  },
  {
   "cell_type": "code",
   "execution_count": null,
   "id": "bb4a1126",
   "metadata": {},
   "outputs": [],
   "source": []
  },
  {
   "cell_type": "code",
   "execution_count": null,
   "id": "7a2b592e",
   "metadata": {},
   "outputs": [],
   "source": [
    "np.linalg."
   ]
  }
 ],
 "metadata": {
  "kernelspec": {
   "display_name": "cirq_sic",
   "language": "python",
   "name": "python3"
  },
  "language_info": {
   "codemirror_mode": {
    "name": "ipython",
    "version": 3
   },
   "file_extension": ".py",
   "mimetype": "text/x-python",
   "name": "python",
   "nbconvert_exporter": "python",
   "pygments_lexer": "ipython3",
   "version": "3.13.7"
  }
 },
 "nbformat": 4,
 "nbformat_minor": 5
}
