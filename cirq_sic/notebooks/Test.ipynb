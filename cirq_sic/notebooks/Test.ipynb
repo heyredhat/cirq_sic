{
 "cells": [
  {
   "cell_type": "code",
   "execution_count": 1,
   "id": "da3d33ad",
   "metadata": {},
   "outputs": [],
   "source": [
    "from cirq_sic import *"
   ]
  },
  {
   "cell_type": "code",
   "execution_count": 24,
   "id": "974ce45f",
   "metadata": {},
   "outputs": [
    {
     "data": {
      "text/plain": [
       "array([[ 1.+0.j,  0.+0.j,  0.+0.j],\n",
       "       [ 0.+0.j, -1.+0.j,  0.+0.j],\n",
       "       [ 0.+0.j,  0.+0.j,  1.+0.j]])"
      ]
     },
     "execution_count": 24,
     "metadata": {},
     "output_type": "execute_result"
    }
   ],
   "source": [
    "d_s = 2\n",
    "d_b = 3\n",
    "w_s = np.exp(2*np.pi*1j/d_s)\n",
    "w_b = np.exp(2*np.pi*1j/d_b)\n",
    "Z = np.diag([w_s**i for i in range(d)]+[1]*(d_b-d_s)); Z"
   ]
  },
  {
   "cell_type": "code",
   "execution_count": 30,
   "id": "b7560831",
   "metadata": {},
   "outputs": [
    {
     "data": {
      "text/plain": [
       "array([[ 0.577+0.j,  0.577+0.j,  0.577+0.j],\n",
       "       [ 0.577+0.j, -0.577+0.j,  0.577-0.j],\n",
       "       [ 0.577+0.j,  0.577-0.j,  0.577-0.j]])"
      ]
     },
     "execution_count": 30,
     "metadata": {},
     "output_type": "execute_result"
    }
   ],
   "source": [
    "F = np.array([[w_s**(i*j) for j in range(d_b)] for i in range(d_b)])/np.sqrt(d_b); F"
   ]
  },
  {
   "cell_type": "code",
   "execution_count": 31,
   "id": "8f9442b3",
   "metadata": {},
   "outputs": [
    {
     "data": {
      "text/plain": [
       "array([[0.333+0.j, 1.   -0.j, 0.333-0.j],\n",
       "       [1.   +0.j, 0.333+0.j, 1.   -0.j],\n",
       "       [0.333+0.j, 1.   +0.j, 0.333+0.j]])"
      ]
     },
     "execution_count": 31,
     "metadata": {},
     "output_type": "execute_result"
    }
   ],
   "source": [
    "F.conj().T @ Z @ F"
   ]
  },
  {
   "cell_type": "code",
   "execution_count": 32,
   "id": "503b62a6",
   "metadata": {},
   "outputs": [
    {
     "data": {
      "text/plain": [
       "array([[0, 1, 0],\n",
       "       [1, 0, 0],\n",
       "       [0, 0, 1]])"
      ]
     },
     "execution_count": 32,
     "metadata": {},
     "output_type": "execute_result"
    }
   ],
   "source": [
    "X = np.array([[0,1,0],[1,0,0], [0,0,1]]); X"
   ]
  },
  {
   "cell_type": "code",
   "execution_count": 33,
   "id": "8bca925a",
   "metadata": {},
   "outputs": [
    {
     "data": {
      "text/plain": [
       "array([[ 1.   +0.j,  0.333+0.j,  1.   +0.j],\n",
       "       [ 0.333-0.j, -0.333-0.j,  0.333+0.j],\n",
       "       [ 1.   -0.j,  0.333-0.j,  1.   -0.j]])"
      ]
     },
     "execution_count": 33,
     "metadata": {},
     "output_type": "execute_result"
    }
   ],
   "source": [
    "F @ X @ F.conj().T"
   ]
  },
  {
   "cell_type": "code",
   "execution_count": null,
   "id": "57bb179e",
   "metadata": {},
   "outputs": [],
   "source": []
  }
 ],
 "metadata": {
  "kernelspec": {
   "display_name": "cirq_sic",
   "language": "python",
   "name": "python3"
  },
  "language_info": {
   "codemirror_mode": {
    "name": "ipython",
    "version": 3
   },
   "file_extension": ".py",
   "mimetype": "text/x-python",
   "name": "python",
   "nbconvert_exporter": "python",
   "pygments_lexer": "ipython3",
   "version": "3.13.7"
  }
 },
 "nbformat": 4,
 "nbformat_minor": 5
}
