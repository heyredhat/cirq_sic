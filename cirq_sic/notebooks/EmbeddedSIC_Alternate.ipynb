{
 "cells": [
  {
   "cell_type": "code",
   "execution_count": null,
   "id": "491d76b5",
   "metadata": {},
   "outputs": [
    {
     "name": "stdout",
     "output_type": "stream",
     "text": [
      "--- Testing: (1 + 2) mod 4 ---\n",
      "Expected result in register 'b': 3\n",
      "Actual result from simulation:   3\n",
      ">>> PASS\n",
      "\n",
      "--- Testing: (3 + 3) mod 4 ---\n",
      "Expected result in register 'b': 2\n",
      "Actual result from simulation:   2\n",
      ">>> PASS\n",
      "\n",
      "--- Testing: (5 + 3) mod 8 ---\n",
      "Expected result in register 'b': 0\n",
      "Actual result from simulation:   0\n",
      ">>> PASS\n",
      "\n",
      "--- Testing: (7 + 7) mod 8 ---\n",
      "Expected result in register 'b': 6\n",
      "Actual result from simulation:   6\n",
      ">>> PASS\n",
      "\n",
      "--- Testing: (6 + 5) mod 11 ---\n",
      "Expected result in register 'b': 0\n",
      "Actual result from simulation:   0\n",
      ">>> PASS\n",
      "\n",
      "--- Testing: (10 + 15) mod 16 ---\n",
      "Expected result in register 'b': 9\n",
      "Actual result from simulation:   9\n",
      ">>> PASS\n",
      "\n",
      "--- Test Summary ---\n",
      "6 / 6 tests passed.\n"
     ]
    }
   ],
   "source": [
    "import cirq\n",
    "import numpy as np\n",
    "\n",
    "# Z\n",
    "def sum_k_cirq(k, wires):\n",
    "    \"\"\"\n",
    "    Generates gates for a phase shift sum.\n",
    "\n",
    "    This applies a rotation gate to each wire, rotating by an angle 'k * pi / 2^j'.\n",
    "\n",
    "    Args:\n",
    "        k (int): The integer to be added in the phase.\n",
    "        wires (list[cirq.Qid]): A list of qubits to apply the rotations to.\n",
    "\n",
    "    Yields:\n",
    "        cirq.Operation: The RZ gate operations.\n",
    "    \"\"\"\n",
    "    for j, wire in enumerate(wires):\n",
    "        angle = k * np.pi / (2**j)\n",
    "        if angle != 0:\n",
    "            yield cirq.rz(angle).on(wire)\n",
    "\n",
    "\n",
    "def add_in_k_N_cirq(k, N, wires_a, wires_aux, is_in_standard_basis=True):\n",
    "    \"\"\"\n",
    "    Generates a circuit for in-place modular addition of a classical integer 'k'.\n",
    "\n",
    "    Args:\n",
    "        k (int): The classical integer to add.\n",
    "        N (int): The modulus.\n",
    "        wires_a (list[cirq.Qid]): The qubit register to add 'k' into.\n",
    "        wires_aux (list[cirq.Qid]): A list containing a single auxiliary qubit.\n",
    "        is_in_standard_basis (bool): If True, applies QFT at the beginning and end.\n",
    "\n",
    "    Yields:\n",
    "        cirq.Operation: The operations for the modular adder.\n",
    "    \"\"\"\n",
    "    if is_in_standard_basis:\n",
    "        yield cirq.qft(*wires_a)\n",
    "\n",
    "    # Step 1: Add 'k' to the register via phase shifts\n",
    "    yield from sum_k_cirq(k, wires_a)\n",
    "\n",
    "    # Step 2: Subtract 'N'\n",
    "    yield from cirq.inverse(list(sum_k_cirq(N, wires_a)))\n",
    "\n",
    "    # Step 3: Conditionally add 'N' back\n",
    "    yield cirq.inverse(cirq.qft(*wires_a))\n",
    "    yield cirq.CNOT(wires_a[0], wires_aux[0]) # Use MSB to control aux bit\n",
    "    yield cirq.qft(*wires_a)\n",
    "\n",
    "    # Step 4: Add 'N' to the register conditionally\n",
    "    # qml.ctrl(op, control=c) is equivalent to op.controlled_by(c)\n",
    "    controlled_sum_N = [\n",
    "        op.controlled_by(wires_aux[0]) for op in sum_k_cirq(N, wires_a)\n",
    "    ]\n",
    "    yield from controlled_sum_N\n",
    "\n",
    "    # Step 5: Clear the auxiliary bit\n",
    "    yield from cirq.inverse(list(sum_k_cirq(k, wires_a)))\n",
    "\n",
    "    # Step 6: Conditionally add 'N' back (undo)\n",
    "    yield cirq.inverse(cirq.qft(*wires_a))\n",
    "    yield cirq.X(wires_a[0])\n",
    "    yield cirq.CNOT(wires_a[0], wires_aux[0])\n",
    "    yield cirq.X(wires_a[0])\n",
    "    yield cirq.qft(*wires_a)\n",
    "\n",
    "    # Step 7: Add 'k' to the register\n",
    "    yield from sum_k_cirq(k, wires_a)\n",
    "\n",
    "    # Recover the standard basis if needed\n",
    "    if is_in_standard_basis:\n",
    "        yield cirq.inverse(cirq.qft(*wires_a))\n",
    "\n",
    "\n",
    "def add_in_N_cirq(N, wires_a, wires_b, aux1, aux2):\n",
    "    \"\"\"\n",
    "    Generates a circuit for inplace modular addition of two quantum registers.\n",
    "    This is the Cirq equivalent of the PennyLane function add_in_N.\n",
    "\n",
    "    Args:\n",
    "        N (int): The modulus.\n",
    "        wires_a (list[cirq.Qid]): Quantum register for the first input number.\n",
    "        wires_b (list[cirq.Qid]): Quantum register for the second input number.\n",
    "        aux1 (list[cirq.Qid]): A list containing one auxiliary qubit.\n",
    "        aux2 (list[cirq.Qid]): A list containing one auxiliary qubit.\n",
    "\n",
    "    Yields:\n",
    "        cirq.Operation: The operations for the full modular addition.\n",
    "    \"\"\"\n",
    "    # The adder circuit works on a register combining wires_b and an auxiliary qubit.\n",
    "    new_wires_b = aux1 + wires_b\n",
    "\n",
    "    # Apply the quantum Fourier transform to the target register\n",
    "    yield cirq.qft(*new_wires_b)\n",
    "\n",
    "    # Create controlled modular adders, controlled by each qubit in wires_a\n",
    "    for i, control_qubit in enumerate(wires_a):\n",
    "        value = 2**(len(wires_a) - 1 - i)\n",
    "\n",
    "        # Generate the operations for the modular adder for 'value'\n",
    "        adder_ops = list(\n",
    "            add_in_k_N_cirq(value, N, new_wires_b, aux2, is_in_standard_basis=False)\n",
    "        )\n",
    "\n",
    "        # Control each operation by the corresponding qubit from the 'a' register\n",
    "        controlled_adder_ops = [op.controlled_by(control_qubit) for op in adder_ops]\n",
    "        yield from controlled_adder_ops\n",
    "\n",
    "    # Inverse quantum Fourier transform on 'wires_b'\n",
    "    yield cirq.inverse(cirq.qft(*new_wires_b))\n",
    "\n",
    "def add_in_N_cirq_inverse(N, wires_a, wires_b, aux1, aux2):\n",
    "    yield cirq.inverse(list(add_in_N_cirq(N, wires_a, wires_b, aux1, aux2)))\n",
    "    \n",
    "def test_modular_adder(a, b, N):\n",
    "    \"\"\"\n",
    "    Tests the modular adder circuit for specific inputs a, b, and N.\n",
    "\n",
    "    Args:\n",
    "        a (int): The first number to add.\n",
    "        b (int): The second number to add.\n",
    "        N (int): The modulus.\n",
    "\n",
    "    Returns:\n",
    "        bool: True if the test passes, False otherwise.\n",
    "    \"\"\"\n",
    "    # Determine the number of qubits needed to represent numbers up to N-1\n",
    "    n_qubits = (N - 1).bit_length()\n",
    "\n",
    "    # Define the qubit registers\n",
    "    wires_a = [cirq.NamedQubit(f'a{i}') for i in range(n_qubits)]\n",
    "    wires_b = [cirq.NamedQubit(f'b{i}') for i in range(n_qubits)]\n",
    "    aux1 = [cirq.NamedQubit('aux1')]\n",
    "    aux2 = [cirq.NamedQubit('aux2')]\n",
    "    all_qubits = wires_a + wires_b + aux1 + aux2\n",
    "\n",
    "    # Create a circuit\n",
    "    circuit = cirq.Circuit()\n",
    "\n",
    "    # --- Prepare the initial state ---\n",
    "    # Set register 'a' to |a>\n",
    "    for i, bit in enumerate(f'{a:0{n_qubits}b}'):\n",
    "        if bit == '1':\n",
    "            circuit.append(cirq.X(wires_a[i]))\n",
    "\n",
    "    # Set register 'b' to |b>\n",
    "    for i, bit in enumerate(f'{b:0{n_qubits}b}'):\n",
    "        if bit == '1':\n",
    "            circuit.append(cirq.X(wires_b[i]))\n",
    "\n",
    "    # --- Add the modular addition circuit ---\n",
    "    # This will compute (a + b) mod N and store it in wires_b\n",
    "    circuit.append(add_in_N_cirq(N, wires_a, wires_b, aux1, aux2))\n",
    "\n",
    "    # --- Measure the result register ---\n",
    "    circuit.append(cirq.measure(*wires_b, key='result_b'))\n",
    "\n",
    "    # --- Simulate and check the result ---\n",
    "    simulator = cirq.Simulator()\n",
    "    result = simulator.run(circuit, repetitions=10) # Run a few times for confidence\n",
    "    \n",
    "    # Get the measurement outcome and convert from bitstring to integer\n",
    "    measurement = result.measurements['result_b'][0]\n",
    "    actual_result = int(\"\".join(map(str, measurement)), 2)\n",
    "    \n",
    "    expected_result = (a + b) % N\n",
    "\n",
    "    # --- Print results ---\n",
    "    print(f\"--- Testing: ({a} + {b}) mod {N} ---\")\n",
    "    print(f\"Expected result in register 'b': {expected_result}\")\n",
    "    print(f\"Actual result from simulation:   {actual_result}\")\n",
    "    \n",
    "    if actual_result == expected_result:\n",
    "        print(\">>> PASS\\n\")\n",
    "        return True\n",
    "    else:\n",
    "        print(\">>> FAIL\\n\")\n",
    "        return False\n",
    "\n",
    "\n",
    "if __name__ == \"__main__\":\n",
    "    # --- Test Suite ---\n",
    "    test_cases = [\n",
    "        (1, 2, 4),\n",
    "        (3, 3, 4),\n",
    "        (5, 3, 8),\n",
    "        (7, 7, 8),\n",
    "        (6, 5, 11),\n",
    "        (10, 15, 16)\n",
    "    ]\n",
    "\n",
    "    passed_count = 0\n",
    "    for a, b, N in test_cases:\n",
    "        if test_modular_adder(a, b, N):\n",
    "            passed_count += 1\n",
    "    \n",
    "    print(\"--- Test Summary ---\")\n",
    "    print(f\"{passed_count} / {len(test_cases)} tests passed.\")\n",
    "\n"
   ]
  },
  {
   "cell_type": "code",
   "execution_count": 247,
   "id": "b4d819e8",
   "metadata": {},
   "outputs": [],
   "source": [
    "from cirq_sic import *\n",
    "\n",
    "n = 1\n",
    "d = 2**n\n",
    "d_s = 2\n",
    "phi = load_sic_fiducial(d_s)\n",
    "embedded_phi = np.concatenate([phi, np.zeros(d-d_s)])\n",
    "ansatz_preparation = ansatz_circuit(embedded_phi)"
   ]
  },
  {
   "cell_type": "code",
   "execution_count": null,
   "id": "57e3c8e0",
   "metadata": {},
   "outputs": [
    {
     "data": {
      "text/plain": [
       "array([[ 0.622+0.j   ,  0.228+0.228j,  0.167-0.j   ,  0.228-0.228j],\n",
       "       [ 0.228-0.228j,  0.167+0.j   ,  0.061-0.061j, -0.   -0.167j],\n",
       "       [ 0.167+0.j   ,  0.061+0.061j,  0.045+0.j   ,  0.061-0.061j],\n",
       "       [ 0.228+0.228j, -0.   +0.167j,  0.061+0.061j,  0.167+0.j   ]],\n",
       "      dtype=complex64)"
      ]
     },
     "execution_count": 260,
     "metadata": {},
     "output_type": "execute_result"
    }
   ],
   "source": [
    "system_qubits = cirq.LineQubit.range(n)\n",
    "ancilla_qubits = cirq.LineQubit.range(n, 2*n)\n",
    "aux1 = [cirq.NamedQubit(\"aux1\")]\n",
    "aux2 = [cirq.NamedQubit(\"aux2\")]\n",
    "\n",
    "circ = cirq.Circuit((ansatz_preparation(ancilla_qubits, conjugate=True),\n",
    "                     ansatz_preparation(system_qubits, conjugate=False),\n",
    "                     CXdag(ancilla_qubits, system_qubits),\n",
    "                     #add_in_N_cirq(d_s, ancilla_qubits, system_qubits, aux1, aux2),\n",
    "                    ))#)Fdag(ancilla_qubits)))\n",
    "                    # cirq.measure(system_qubits+ancilla_qubits, key=\"result\")))\n",
    "res = cirq.Simulator().simulate(circ)\n",
    "res.density_matrix_of(ancilla_qubits+system_qubits)"
   ]
  },
  {
   "cell_type": "code",
   "execution_count": 261,
   "id": "835b0df4",
   "metadata": {},
   "outputs": [
    {
     "data": {
      "text/plain": [
       "array([[ 0.622+0.j   ,  0.228+0.228j, -0.118-0.118j, -0.   +0.322j],\n",
       "       [ 0.228-0.228j,  0.167+0.j   , -0.086-0.j   ,  0.118+0.118j],\n",
       "       [-0.118+0.118j, -0.086+0.j   ,  0.045+0.j   , -0.061-0.061j],\n",
       "       [-0.   -0.322j,  0.118-0.118j, -0.061+0.061j,  0.167+0.j   ]],\n",
       "      dtype=complex64)"
      ]
     },
     "execution_count": 261,
     "metadata": {},
     "output_type": "execute_result"
    }
   ],
   "source": [
    "circ = cirq.Circuit((ansatz_preparation(ancilla_qubits, conjugate=True),\n",
    "                     ansatz_preparation(system_qubits, conjugate=False),\n",
    "                     #CXdag(ancilla_qubits, system_qubits),\n",
    "                     add_in_N_cirq(d_s, ancilla_qubits, system_qubits, aux1, aux2),\n",
    "                    ))#Fdag(ancilla_qubits)\n",
    "                    #))# ))\n",
    "                    # cirq.measure(system_qubits+ancilla_qubits, key=\"result\")))\n",
    "res = cirq.Simulator().simulate(circ)\n",
    "res.density_matrix_of(ancilla_qubits+system_qubits)"
   ]
  },
  {
   "cell_type": "code",
   "execution_count": 52,
   "id": "800efde4",
   "metadata": {},
   "outputs": [],
   "source": [
    "from cirq_sic import *\n",
    "\n",
    "n = 2\n",
    "d = 2**n\n",
    "d_s = 4\n",
    "phi = rand_ket(d_s)\n",
    "embedded_phi = np.concatenate([phi, np.zeros(d-d_s)])\n",
    "ansatz_preparation = ansatz_circuit(embedded_phi)"
   ]
  },
  {
   "cell_type": "code",
   "execution_count": 53,
   "id": "0f27a2b1",
   "metadata": {},
   "outputs": [
    {
     "data": {
      "text/plain": [
       "array([[ 0.585+0.j   , -0.103-0.168j,  0.181+0.183j,  0.084-0.361j],\n",
       "       [-0.103+0.168j,  0.067+0.j   , -0.085+0.02j ,  0.089+0.088j],\n",
       "       [ 0.181-0.183j, -0.085-0.02j ,  0.113+0.j   , -0.087-0.138j],\n",
       "       [ 0.084+0.361j,  0.089-0.088j, -0.087+0.138j,  0.235+0.j   ]],\n",
       "      dtype=complex64)"
      ]
     },
     "execution_count": 53,
     "metadata": {},
     "output_type": "execute_result"
    }
   ],
   "source": [
    "system_qubits = cirq.LineQubit.range(n)\n",
    "aux1 = [cirq.NamedQubit(\"aux1\")]\n",
    "\n",
    "circ = cirq.Circuit((ansatz_preparation(system_qubits, conjugate=False),\n",
    "                    X(system_qubits)))\n",
    "                    #Z(system_qubits)))\n",
    "res = cirq.Simulator().simulate(circ)\n",
    "res.density_matrix_of(system_qubits)"
   ]
  },
  {
   "cell_type": "code",
   "execution_count": 54,
   "id": "91c8e547",
   "metadata": {},
   "outputs": [
    {
     "data": {
      "text/plain": [
       "array([[ 0.585+0.j   ,  0.   +0.j   , -0.181-0.183j,  0.   -0.j   ],\n",
       "       [ 0.   -0.j   ,  0.067+0.j   , -0.   +0.j   , -0.089-0.088j],\n",
       "       [-0.181+0.183j, -0.   -0.j   ,  0.113+0.j   , -0.   +0.j   ],\n",
       "       [ 0.   +0.j   , -0.089+0.088j, -0.   -0.j   ,  0.235+0.j   ]],\n",
       "      dtype=complex64)"
      ]
     },
     "execution_count": 54,
     "metadata": {},
     "output_type": "execute_result"
    }
   ],
   "source": [
    "circ = cirq.Circuit((ansatz_preparation(system_qubits, conjugate=False),\n",
    "                     add_in_k_N_cirq(1, d_s, system_qubits, aux1)))\n",
    "                     #sum_k_cirq(1, system_qubits)))\n",
    "                    #))\n",
    "res = cirq.Simulator().simulate(circ)\n",
    "res.density_matrix_of(system_qubits)"
   ]
  },
  {
   "cell_type": "code",
   "execution_count": null,
   "id": "99c7c34b",
   "metadata": {},
   "outputs": [],
   "source": []
  },
  {
   "cell_type": "code",
   "execution_count": null,
   "id": "fd5684df",
   "metadata": {},
   "outputs": [],
   "source": []
  },
  {
   "cell_type": "markdown",
   "id": "3caed9dd",
   "metadata": {},
   "source": [
    "$$ |a,b\\rangle \\rightarrow |a, a+b \\mod d\\rangle $$"
   ]
  },
  {
   "cell_type": "code",
   "execution_count": 141,
   "id": "a6c3ace5",
   "metadata": {},
   "outputs": [
    {
     "data": {
      "text/plain": [
       "array([1., 0.], dtype=float32)"
      ]
     },
     "execution_count": 141,
     "metadata": {},
     "output_type": "execute_result"
    }
   ],
   "source": [
    "n = 1\n",
    "d_s = 2\n",
    "\n",
    "a = 0\n",
    "b = 0\n",
    "system_qubits = cirq.LineQubit.range(n)\n",
    "ancilla_qubits = cirq.LineQubit.range(n, 2*n)\n",
    "aux1 = [cirq.NamedQubit(\"aux1\")]\n",
    "aux2 = [cirq.NamedQubit(\"aux2\")]\n",
    "\n",
    "circuit = cirq.Circuit((add_in_N_cirq(d_s, ancilla_qubits, system_qubits, aux1, aux2)))\n",
    "initial_state = kron(np.eye(2**n)[a%d_s],np.eye(2**n)[b%d_s],np.eye(4)[0])\n",
    "final_state = kron(np.eye(2**n)[a%d_s],np.eye(2**n)[(a+b)%d_s])\n",
    "sim = cirq.Simulator()\n",
    "result = sim.simulate(circuit, initial_state=initial_state, qubit_order=ancilla_qubits+system_qubits+aux1+aux2)\n",
    "np.diag(result.density_matrix_of(system_qubits)).real"
   ]
  },
  {
   "cell_type": "code",
   "execution_count": null,
   "id": "866c8982",
   "metadata": {},
   "outputs": [],
   "source": [
    "res_vec = np.diag(result.density_matrix_of(ancilla_qubits+system_qubits)).real\n",
    "res_vec, final_state"
   ]
  },
  {
   "cell_type": "code",
   "execution_count": 126,
   "id": "d16c58f1",
   "metadata": {},
   "outputs": [
    {
     "data": {
      "text/plain": [
       "('|001001⟩', '|001001⟩')"
      ]
     },
     "execution_count": 126,
     "metadata": {},
     "output_type": "execute_result"
    }
   ],
   "source": [
    "cirq.dirac_notation(res_vec),  cirq.dirac_notation(final_state)"
   ]
  },
  {
   "cell_type": "code",
   "execution_count": 127,
   "id": "8ca19de5",
   "metadata": {},
   "outputs": [
    {
     "data": {
      "text/plain": [
       "(1, 1)"
      ]
     },
     "execution_count": 127,
     "metadata": {},
     "output_type": "execute_result"
    }
   ],
   "source": [
    "d_res_vec = cirq.dirac_notation(res_vec)[1:-1]\n",
    "d_final_state = cirq.dirac_notation(final_state)[1:-1]\n",
    "int(d_res_vec[:n],2), int(d_res_vec[n:], 2)"
   ]
  },
  {
   "cell_type": "code",
   "execution_count": 128,
   "id": "5d0a6363",
   "metadata": {},
   "outputs": [
    {
     "data": {
      "text/plain": [
       "(1, 1)"
      ]
     },
     "execution_count": 128,
     "metadata": {},
     "output_type": "execute_result"
    }
   ],
   "source": [
    "int(d_final_state[:n],2), int(d_final_state[n:], 2)"
   ]
  },
  {
   "cell_type": "code",
   "execution_count": null,
   "id": "65abf823",
   "metadata": {},
   "outputs": [],
   "source": []
  },
  {
   "cell_type": "code",
   "execution_count": null,
   "id": "7159619e",
   "metadata": {},
   "outputs": [],
   "source": []
  }
 ],
 "metadata": {
  "kernelspec": {
   "display_name": "cirq_sic",
   "language": "python",
   "name": "python3"
  },
  "language_info": {
   "codemirror_mode": {
    "name": "ipython",
    "version": 3
   },
   "file_extension": ".py",
   "mimetype": "text/x-python",
   "name": "python",
   "nbconvert_exporter": "python",
   "pygments_lexer": "ipython3",
   "version": "3.13.7"
  }
 },
 "nbformat": 4,
 "nbformat_minor": 5
}
