{
 "cells": [
  {
   "cell_type": "code",
   "execution_count": 1,
   "id": "43b4b5f4",
   "metadata": {},
   "outputs": [],
   "source": [
    "from cirq_sic import *\n",
    "\n",
    "import numpy as np\n",
    "np.set_printoptions(precision=3, suppress=True)\n",
    "\n",
    "import bqskit as bq\n",
    "from bqskit.ext import bqskit_to_cirq, cirq_to_bqskit"
   ]
  },
  {
   "cell_type": "code",
   "execution_count": 2,
   "id": "e9630ba4",
   "metadata": {},
   "outputs": [],
   "source": [
    "bqskit_willow_gateset = [bq.ir.gates.PhasedXZGate(), # cirq.ops.phased_x_z_gate.PhasedXZGate\n",
    "                         bq.ir.gates.RXGate(), # cirq.ops.phased_x_gate.PhasedXPowGate\n",
    "                         bq.ir.gates.IdentityGate(), # cirq.I\n",
    "                         #bq.ir.gates.MeasurementPlaceholder(), #cirq.ops.measurement_gate.MeasurementGate\n",
    "                         bq.ir.gates.CZGate(), # cirq.CZ\n",
    "                         #bq.ir.gates.BarrierPlaceholder(), # cirq.ops.wait_gate.WaitGate\n",
    "                         bq.ir.gates.HGate(), # cirq.ops.common_gates.HPowGate\n",
    "                         bq.ir.gates.RYGate(), # cirq.ops.common_gates.YPowGate\n",
    "                         bq.ir.gates.Reset(), #  cirq.ops.common_channels.ResetChannel\n",
    "                         bq.ir.gates.SGate(), # cirq.ops.clifford_gate.SingleQubitCliffordGate\n",
    "                         bq.ir.gates.XGate(), # cirq.ops.clifford_gate.SingleQubitCliffordGate\n",
    "                         bq.ir.gates.YGate(), # cirq.ops.clifford_gate.SingleQubitCliffordGate\n",
    "                         bq.ir.gates.ZGate(), # cirq.ops.clifford_gate.SingleQubitCliffordGate  \n",
    "                         bq.ir.gates.RZGate(), # cirq.ops.common_gates.ZPowGate\n",
    "                         #cirq.ops.global_phase_op.GlobalPhaseGate\n",
    "                         #bq.ir.gates.RXGate() # cirq.ops.common_gates.XPowGate\n",
    "]\n",
    "\n",
    "def optimize_circuit(qubits, circuit, processor_id=\"willow_pink\", optimization_level=1):\n",
    "    device = cirq_google.engine.create_device_from_processor_id(processor_id)\n",
    "    gateset = device.metadata.compilation_target_gatesets[0]\n",
    "    connectivity_graph = device.metadata.nx_graph\n",
    "\n",
    "    qubit_index = dict([(q, i) for i, q in enumerate(device.metadata.qubit_set)])\n",
    "    qubit_pairs = list(device.metadata.nx_graph.edges)\n",
    "    full_coupling_graph = [(qubit_index[a], qubit_index[b]) for a, b in qubit_pairs]\n",
    "    used_indices = [qubit_index[qubit] for qubit in qubits]\n",
    "    restricted_coupling_graph = [pair for pair in full_coupling_graph if pair[0] in used_indices and pair[1] in used_indices]\n",
    "    coupling_graph = [(used_indices.index(pair[0]), used_indices.index(pair[1])) for pair in restricted_coupling_graph]\n",
    "\n",
    "    bq_circuit = cirq_to_bqskit(circuit)\n",
    "    model = bq.MachineModel(bq_circuit.num_qudits, gate_set=bqskit_willow_gateset, coupling_graph=coupling_graph)\n",
    "    compiled_bq_circuit, initial_mapping, final_mapping = bq.compile(bq_circuit, model=model, optimization_level=optimization_level, with_mapping=True)\n",
    "\n",
    "    compiled_circuit = bqskit_to_cirq(compiled_bq_circuit)\n",
    "    named_qubits = [cirq.NamedQubit(\"q_%d\" % i) for i in range(len(qubits))]\n",
    "    qubit_map = dict([(nq, qubits[i]) for i, nq in enumerate(named_qubits)])\n",
    "\n",
    "    finished_circuit = cirq.drop_negligible_operations(\\\n",
    "                       cirq.drop_terminal_measurements(\\\n",
    "                            compiled_circuit.transform_qubits(qubit_map)))\n",
    "    final_measurement = None\n",
    "    for op in circuit.all_operations():\n",
    "        if isinstance(op.gate, cirq.MeasurementGate):\n",
    "            final_measurement = op\n",
    "            break \n",
    "    finished_circuit.append(final_measurement)\n",
    "    device.validate_circuit(finished_circuit)\n",
    "    return finished_circuit, final_mapping\n",
    "\n",
    "def results_to_freqs(results, mapping=None):\n",
    "    if mapping is not None:\n",
    "        measurements = results.measurements[\"result\"][:, mapping]\n",
    "    else:\n",
    "        measurements = results.measurements[\"result\"]\n",
    "    n_outcomes = 2**measurements.shape[1]\n",
    "    int_outcomes = [big_endian_bits_to_int(bits) for bits in measurements]\n",
    "    counts = collections.Counter(int_outcomes)\n",
    "    for i in range(n_outcomes):\n",
    "        if i not in counts:\n",
    "            counts[i] = 0\n",
    "    freqs = np.array([v for k, v in sorted(counts.items())])/counts.total()\n",
    "    return freqs"
   ]
  },
  {
   "cell_type": "code",
   "execution_count": 3,
   "id": "09320368",
   "metadata": {},
   "outputs": [],
   "source": [
    "n = 2\n",
    "d = 2**n\n",
    "phi = load_sic_fiducial(d)\n",
    "ket = rand_ket(d)\n",
    "\n",
    "qubits = cirq.GridQubit.rect(2, n, top=5, left=1)\n",
    "system_qubits, ancilla_qubits = qubits[:n], qubits[n:]\n",
    "prepare_fiducial = ansatz_circuit(phi)\n",
    "prepare_system = ansatz_circuit(ket)\n",
    "circuit = cirq.Circuit((prepare_system(system_qubits),\\\n",
    "                        simple_wh_povm(system_qubits, ancilla_qubits, prepare_fiducial=prepare_fiducial, measure=True)))"
   ]
  },
  {
   "cell_type": "code",
   "execution_count": 4,
   "id": "e2835998",
   "metadata": {},
   "outputs": [
    {
     "name": "stderr",
     "output_type": "stream",
     "text": [
      "/Users/heyredhat/miniforge3/envs/cirq_sic/lib/python3.13/site-packages/bqskit/passes/synthesis/leap.py:358: SmallSampleWarning: One or more sample arguments is too small; all returned values will be NaN. See documentation for sample size requirements.\n",
      "  m, y_int, _, _, _ = linregress(best_layers, best_dists)\n",
      "/Users/heyredhat/miniforge3/envs/cirq_sic/lib/python3.13/site-packages/bqskit/passes/synthesis/leap.py:358: SmallSampleWarning: One or more sample arguments is too small; all returned values will be NaN. See documentation for sample size requirements.\n",
      "  m, y_int, _, _, _ = linregress(best_layers, best_dists)\n"
     ]
    },
    {
     "name": "stdout",
     "output_type": "stream",
     "text": [
      "--- Gate Counts (by type) ---\n",
      "Rz: 27\n",
      "Rx: 21\n",
      "CZPowGate: 12\n",
      "MeasurementGate: 1\n"
     ]
    }
   ],
   "source": [
    "optimized_circuit, mapping = optimize_circuit(qubits, circuit, optimization_level=4)\n",
    "get_gate_counts(optimized_circuit)"
   ]
  },
  {
   "cell_type": "code",
   "execution_count": 5,
   "id": "596a0fbc",
   "metadata": {},
   "outputs": [],
   "source": [
    "E = wh_povm(phi)\n",
    "p = change_conjugate_convention(np.array([ket.conj() @ e @ ket for e in E]).real)\n",
    "\n",
    "result = cirq.Simulator().simulate(cirq.drop_terminal_measurements(optimized_circuit),\\\n",
    "                                   qubit_order=[qubits[i] for i in mapping])\n",
    "assert np.allclose(p, abs(result.final_state_vector)**2)"
   ]
  },
  {
   "cell_type": "code",
   "execution_count": 6,
   "id": "4174f35f",
   "metadata": {},
   "outputs": [
    {
     "data": {
      "text/plain": [
       "(array([0.123, 0.008, 0.016, 0.076, 0.17 , 0.134, 0.094, 0.044, 0.034,\n",
       "        0.06 , 0.045, 0.009, 0.012, 0.097, 0.009, 0.069]),\n",
       " array([0.123, 0.008, 0.017, 0.078, 0.169, 0.136, 0.093, 0.045, 0.034,\n",
       "        0.06 , 0.044, 0.009, 0.012, 0.096, 0.009, 0.069]))"
      ]
     },
     "execution_count": 6,
     "metadata": {},
     "output_type": "execute_result"
    }
   ],
   "source": [
    "N = 100000\n",
    "s = cirq.Simulator()\n",
    "results = s.run(optimized_circuit, repetitions=N)\n",
    "results_to_freqs(results, mapping=mapping), p"
   ]
  },
  {
   "cell_type": "markdown",
   "id": "5818e4af",
   "metadata": {},
   "source": [
    "## Compare"
   ]
  },
  {
   "cell_type": "code",
   "execution_count": 7,
   "id": "bfc5c422",
   "metadata": {},
   "outputs": [
    {
     "name": "stdout",
     "output_type": "stream",
     "text": [
      "--- Gate Counts (by type) ---\n",
      "PhasedXPowGate: 31\n",
      "CZPowGate: 21\n",
      "ZPowGate: 4\n",
      "PhasedXZGate: 13\n",
      "MeasurementGate: 1\n"
     ]
    }
   ],
   "source": [
    "device = cirq_google.engine.create_device_from_processor_id(\"willow_pink\")\n",
    "gateset = device.metadata.compilation_target_gatesets[0]\n",
    "connectivity_graph = device.metadata.nx_graph\n",
    "alternate = process_circuit(circuit, connectivity_graph, gateset, qubits)\n",
    "device.validate_circuit(alternate)\n",
    "get_gate_counts(alternate)"
   ]
  },
  {
   "cell_type": "code",
   "execution_count": null,
   "id": "3e8bbf55",
   "metadata": {},
   "outputs": [],
   "source": [
    "#RandomDevicePlacer\n",
    "# Now synthesize with a cached Compiler\n",
    "#CIRCUITS = \"../experiments/circuits/\"\n",
    "#with open(CIRCUITS+\"input.qasm\", \"w\") as f:\n",
    "#    f.write(cirq.qasm(circ)) # args=cirq.QasmArgs(version=\"3.0\"))"
   ]
  }
 ],
 "metadata": {
  "kernelspec": {
   "display_name": "cirq_sic",
   "language": "python",
   "name": "python3"
  },
  "language_info": {
   "codemirror_mode": {
    "name": "ipython",
    "version": 3
   },
   "file_extension": ".py",
   "mimetype": "text/x-python",
   "name": "python",
   "nbconvert_exporter": "python",
   "pygments_lexer": "ipython3",
   "version": "3.13.7"
  }
 },
 "nbformat": 4,
 "nbformat_minor": 5
}
