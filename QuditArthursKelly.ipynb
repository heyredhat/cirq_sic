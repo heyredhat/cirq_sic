{
 "cells": [
  {
   "cell_type": "code",
   "execution_count": 12,
   "id": "3f50b6dd",
   "metadata": {},
   "outputs": [],
   "source": [
    "import cirq \n",
    "from cirq.contrib.svg import SVGCircuit\n",
    "from functools import reduce\n",
    "\n",
    "import numpy as np\n",
    "from numpy.linalg import matrix_power as mpow\n",
    "\n",
    "np.set_printoptions(precision=3, suppress=True)"
   ]
  },
  {
   "cell_type": "markdown",
   "id": "54e7b289",
   "metadata": {},
   "source": [
    "## Utility functions"
   ]
  },
  {
   "cell_type": "code",
   "execution_count": 13,
   "id": "4dcd1c64",
   "metadata": {},
   "outputs": [],
   "source": [
    "def kron(*A):\n",
    "    return reduce(np.kron, A)\n",
    "\n",
    "def rand_ket(d):\n",
    "    ket = np.random.randn(d) + 1j*np.random.randn(d)\n",
    "    return ket/np.linalg.norm(ket)"
   ]
  },
  {
   "cell_type": "markdown",
   "id": "d9e2432f",
   "metadata": {},
   "source": [
    "## Weyl-Heisenberg operators"
   ]
  },
  {
   "cell_type": "code",
   "execution_count": 14,
   "id": "8c27b4ec",
   "metadata": {},
   "outputs": [],
   "source": [
    "def wh_operators(d):\n",
    "    w = np.exp(2*np.pi*1j/d)\n",
    "    Z = np.diag(np.array([w**i for i in range(d)]))\n",
    "    F = np.array([[w**(i*j) for j in range(d)] for i in range(d)])/np.sqrt(d)\n",
    "    X = F.conj().T @ Z @ F\n",
    "    D = np.array([[mpow(X, i) @ mpow(Z, j)  for j in range(d)] for i in range(d)])\n",
    "    return locals()"
   ]
  },
  {
   "cell_type": "markdown",
   "id": "4d497ebb",
   "metadata": {},
   "source": [
    "### Check fundamental WH identities"
   ]
  },
  {
   "cell_type": "code",
   "execution_count": 15,
   "id": "4eb6468b",
   "metadata": {},
   "outputs": [
    {
     "data": {
      "text/plain": [
       "(np.True_, np.True_, np.True_, np.True_, True)"
      ]
     },
     "execution_count": 15,
     "metadata": {},
     "output_type": "execute_result"
    }
   ],
   "source": [
    "d = 4\n",
    "globals().update(wh_operators(d))\n",
    "\n",
    "np.all([np.allclose(D[a], w**(-a[0]*a[1])*mpow(Z, a[1]) @ mpow(X, a[0])) for a in np.ndindex(d,d)]),\\\n",
    "np.all([np.allclose(D[a].conj().T, w**(a[0]*a[1])*D[-a[0] % d, -a[1] % d]) for a in np.ndindex(d,d)]),\\\n",
    "np.all([np.allclose(D[a] @ D[b], w**(a[1]*b[0])*D[(a[0]+b[0])%d, (a[1]+b[1])%d]) for b in np.ndindex(d,d) for a in np.ndindex(d,d)]),\\\n",
    "np.all([np.allclose(D[b] @ D[a] @ D[b].conj().T, w**(a[0]*b[1] - a[1]*b[0])*D[a]) for b in np.ndindex(d,d) for a in np.ndindex(d,d)]),\\\n",
    "np.allclose(np.array([[(D[a].conj().T @ D[b]).trace() for b in np.ndindex(d,d)] for a in np.ndindex(d,d)]), d*np.eye(d**2))"
   ]
  },
  {
   "cell_type": "markdown",
   "id": "e58e227b",
   "metadata": {},
   "source": [
    "## Basic cirq gates"
   ]
  },
  {
   "cell_type": "code",
   "execution_count": 16,
   "id": "ae1aa678",
   "metadata": {},
   "outputs": [],
   "source": [
    "H = cirq.H\n",
    "R = lambda k: cirq.ZPowGate(exponent=2**(1-k))\n",
    "CR = lambda k: cirq.CZPowGate(exponent=2**(1-k))\n",
    "SWAP = cirq.SWAP"
   ]
  },
  {
   "cell_type": "markdown",
   "id": "d7119082",
   "metadata": {},
   "source": [
    "## QFT"
   ]
  },
  {
   "cell_type": "code",
   "execution_count": 17,
   "id": "6d0412a5",
   "metadata": {},
   "outputs": [],
   "source": [
    "def F_(q):\n",
    "    n = len(q)\n",
    "    for i in range(n):\n",
    "        yield H(q[i])\n",
    "        for j in range(i + 1, n):\n",
    "            yield CR(j - i + 1)(q[j], q[i])\n",
    "    for i in range(n // 2):\n",
    "        yield SWAP(q[i], q[n - 1 - i])\n",
    "\n",
    "def Fdag_(q):\n",
    "    yield cirq.inverse(list(F_(q)))"
   ]
  },
  {
   "cell_type": "markdown",
   "id": "4df01577",
   "metadata": {},
   "source": [
    "### Check QFT"
   ]
  },
  {
   "cell_type": "code",
   "execution_count": 18,
   "id": "a41a3930",
   "metadata": {},
   "outputs": [
    {
     "name": "stdout",
     "output_type": "stream",
     "text": [
      "                  ┌───────┐\n",
      "0: ───H───@────────@──────────────────────×───\n",
      "          │        │                      │\n",
      "1: ───────@^0.5────┼─────H────@───────────┼───\n",
      "                   │          │           │\n",
      "2: ────────────────@^0.25─────@^0.5───H───×───\n",
      "                  └───────┘\n"
     ]
    },
    {
     "data": {
      "text/plain": [
       "True"
      ]
     },
     "execution_count": 18,
     "metadata": {},
     "output_type": "execute_result"
    }
   ],
   "source": [
    "n = 3    \n",
    "globals().update(wh_operators(2**n))\n",
    "\n",
    "q = cirq.LineQubit.range(n)\n",
    "circuit = cirq.Circuit(F_(q))\n",
    "print(circuit)\n",
    "\n",
    "ket = rand_ket(2**n)\n",
    "s = cirq.Simulator()\n",
    "final_ket = s.simulate(circuit, initial_state=ket).final_state_vector\n",
    "np.allclose(final_ket, F @ ket)"
   ]
  },
  {
   "cell_type": "markdown",
   "id": "248a0a80",
   "metadata": {},
   "source": [
    "## Clock and shift"
   ]
  },
  {
   "cell_type": "code",
   "execution_count": 19,
   "id": "57f56a74",
   "metadata": {},
   "outputs": [],
   "source": [
    "def Z_(q):\n",
    "    for i in range(len(q)):\n",
    "        yield R(i+1)(q[i])\n",
    "\n",
    "def X_(q):\n",
    "    yield F_(q)\n",
    "    yield Z_(q)\n",
    "    yield Fdag_(q)"
   ]
  },
  {
   "cell_type": "markdown",
   "id": "5bf2d15b",
   "metadata": {},
   "source": [
    "### Check clock and shift"
   ]
  },
  {
   "cell_type": "code",
   "execution_count": 20,
   "id": "6e341aad",
   "metadata": {},
   "outputs": [
    {
     "name": "stdout",
     "output_type": "stream",
     "text": [
      "                  ┌───────┐                                        ┌────────┐\n",
      "0: ───H───@────────@──────────────────────×───Z───×──────────────────@──────────@────────H───\n",
      "          │        │                      │       │                  │          │\n",
      "1: ───────@^0.5────┼─────H────@───────S───┼───────┼───────@─────────H┼──────────@^-0.5───────\n",
      "                   │          │           │       │       │          │\n",
      "2: ────────────────@^0.25─────@^0.5───H───×───T───×───H───@^-0.5─────@^-0.25─────────────────\n",
      "                  └───────┘                                        └────────┘\n"
     ]
    },
    {
     "data": {
      "text/plain": [
       "True"
      ]
     },
     "execution_count": 20,
     "metadata": {},
     "output_type": "execute_result"
    }
   ],
   "source": [
    "n = 3\n",
    "globals().update(wh_operators(2**n))\n",
    "\n",
    "q = cirq.LineQubit.range(n)\n",
    "circuit = cirq.Circuit(X_(q))\n",
    "print(circuit)\n",
    "\n",
    "ket = rand_ket(2**n)\n",
    "s = cirq.Simulator()\n",
    "final_ket = s.simulate(circuit, initial_state=ket).final_state_vector\n",
    "np.allclose(final_ket, X @ ket)"
   ]
  },
  {
   "cell_type": "markdown",
   "id": "3774c380",
   "metadata": {},
   "source": [
    "## Controlled clock and shift"
   ]
  },
  {
   "cell_type": "code",
   "execution_count": 21,
   "id": "4b361130",
   "metadata": {},
   "outputs": [],
   "source": [
    "def QCZ_(c, t):\n",
    "    n = len(t)\n",
    "    for j in range(n):\n",
    "        yield CR(j+1)(c, t[j])\n",
    "\n",
    "def CZ_(c, t):\n",
    "    n = len(c)\n",
    "    for j in range(n):\n",
    "        for k in range(2**j):\n",
    "            yield QCZ_(c[n-j-1], t)\n",
    "\n",
    "def CX_(c, t):\n",
    "    yield F_(t)\n",
    "    yield CZ_(c, t)\n",
    "    yield Fdag_(t)"
   ]
  },
  {
   "cell_type": "markdown",
   "id": "34af8fbd",
   "metadata": {},
   "source": [
    "### Viz qubit controlled clock"
   ]
  },
  {
   "cell_type": "code",
   "execution_count": 22,
   "id": "bd81a375",
   "metadata": {},
   "outputs": [
    {
     "data": {
      "image/svg+xml": [
       "<svg xmlns=\"http://www.w3.org/2000/svg\" width=\"320.6061328125\" height=\"200.0\"><line x1=\"30.0\" x2=\"290.6061328125\" y1=\"25.0\" y2=\"25.0\" stroke=\"#1967d2\" stroke-width=\"1\" /><line x1=\"30.0\" x2=\"290.6061328125\" y1=\"75.0\" y2=\"75.0\" stroke=\"#1967d2\" stroke-width=\"1\" /><line x1=\"30.0\" x2=\"290.6061328125\" y1=\"125.0\" y2=\"125.0\" stroke=\"#1967d2\" stroke-width=\"1\" /><line x1=\"30.0\" x2=\"290.6061328125\" y1=\"175.0\" y2=\"175.0\" stroke=\"#1967d2\" stroke-width=\"1\" /><line x1=\"90.0\" x2=\"90.0\" y1=\"25.0\" y2=\"175.0\" stroke=\"black\" stroke-width=\"3\" /><line x1=\"157.92472656249998\" x2=\"157.92472656249998\" y1=\"75.0\" y2=\"175.0\" stroke=\"black\" stroke-width=\"3\" /><line x1=\"238.22779296875\" x2=\"238.22779296875\" y1=\"125.0\" y2=\"175.0\" stroke=\"black\" stroke-width=\"3\" /><rect x=\"10.0\" y=\"5.0\" width=\"40\" height=\"40\" stroke=\"black\" fill=\"white\" stroke-width=\"0\" /><text x=\"30.0\" y=\"25.0\" dominant-baseline=\"middle\" text-anchor=\"middle\" font-size=\"14px\" font-family=\"sans\\-serif:style=normal:variant=normal:weight=normal:stretch=normal:size=10.0\">0: </text><rect x=\"10.0\" y=\"55.0\" width=\"40\" height=\"40\" stroke=\"black\" fill=\"white\" stroke-width=\"0\" /><text x=\"30.0\" y=\"75.0\" dominant-baseline=\"middle\" text-anchor=\"middle\" font-size=\"14px\" font-family=\"sans\\-serif:style=normal:variant=normal:weight=normal:stretch=normal:size=10.0\">1: </text><rect x=\"10.0\" y=\"105.0\" width=\"40\" height=\"40\" stroke=\"black\" fill=\"white\" stroke-width=\"0\" /><text x=\"30.0\" y=\"125.0\" dominant-baseline=\"middle\" text-anchor=\"middle\" font-size=\"14px\" font-family=\"sans\\-serif:style=normal:variant=normal:weight=normal:stretch=normal:size=10.0\">2: </text><rect x=\"10.0\" y=\"155.0\" width=\"40\" height=\"40\" stroke=\"black\" fill=\"white\" stroke-width=\"0\" /><text x=\"30.0\" y=\"175.0\" dominant-baseline=\"middle\" text-anchor=\"middle\" font-size=\"14px\" font-family=\"sans\\-serif:style=normal:variant=normal:weight=normal:stretch=normal:size=10.0\">c: </text><circle cx=\"90.0\" cy=\"175.0\" r=\"10.0\" /><circle cx=\"90.0\" cy=\"25.0\" r=\"10.0\" /><rect x=\"130.0\" y=\"155.0\" width=\"55.849453125\" height=\"40\" stroke=\"black\" fill=\"white\" stroke-width=\"1\" /><text x=\"157.92472656249998\" y=\"175.0\" dominant-baseline=\"middle\" text-anchor=\"middle\" font-size=\"14px\" font-family=\"sans\\-serif:style=normal:variant=normal:weight=normal:stretch=normal:size=10.0\">@^0.5</text><circle cx=\"157.92472656249998\" cy=\"75.0\" r=\"10.0\" /><rect x=\"205.84945312500003\" y=\"155.0\" width=\"64.7566796875\" height=\"40\" stroke=\"black\" fill=\"white\" stroke-width=\"1\" /><text x=\"238.22779296875\" y=\"175.0\" dominant-baseline=\"middle\" text-anchor=\"middle\" font-size=\"14px\" font-family=\"sans\\-serif:style=normal:variant=normal:weight=normal:stretch=normal:size=10.0\">@^0.25</text><circle cx=\"238.22779296875\" cy=\"125.0\" r=\"10.0\" /></svg>"
      ],
      "text/plain": [
       "<cirq.contrib.svg.svg.SVGCircuit at 0x12286b560>"
      ]
     },
     "execution_count": 22,
     "metadata": {},
     "output_type": "execute_result"
    }
   ],
   "source": [
    "n = 3\n",
    "globals().update(wh_operators(2**n))\n",
    "c = cirq.NamedQubit(\"c\")\n",
    "t = cirq.LineQubit.range(n)\n",
    "circuit = cirq.Circuit(QCZ_(c, t))\n",
    "SVGCircuit(circuit)"
   ]
  },
  {
   "cell_type": "markdown",
   "id": "80fb6667",
   "metadata": {},
   "source": [
    "### Check controlled clock and shift"
   ]
  },
  {
   "cell_type": "code",
   "execution_count": 23,
   "id": "2ffbf05b",
   "metadata": {},
   "outputs": [
    {
     "name": "stdout",
     "output_type": "stream",
     "text": [
      "                  ┌───────┐                                ┌───────┐\n",
      "0: ───@──────────────────@─────────────────────@──────────────────@─────────────────────@────────────────────@────────────────────@────────────────────\n",
      "      │                  │                     │                  │                     │                    │                    │\n",
      "1: ───┼───@──────────────┼────@────────────────┼───@──────────────┼────@────────────────┼───@────────────────┼───@────────────────┼───@────────────────\n",
      "      │   │              │    │                │   │              │    │                │   │                │   │                │   │\n",
      "2: ───┼───┼────────@─────┼────┼───────@────────┼───┼────────@─────┼────┼───────@────────┼───┼───────@────────┼───┼───────@────────┼───┼───────@────────\n",
      "      │   │        │     │    │       │        │   │        │     │    │       │        │   │       │        │   │       │        │   │       │\n",
      "3: ───┼───┼────────┼─────┼────┼───────┼────────┼───┼────────┼─────@────@^0.5───@^0.25───@───@^0.5───@^0.25───@───@^0.5───@^0.25───@───@^0.5───@^0.25───\n",
      "      │   │        │     │    │       │        │   │        │\n",
      "4: ───┼───┼────────┼─────@────@^0.5───@^0.25───@───@^0.5────@^0.25─────────────────────────────────────────────────────────────────────────────────────\n",
      "      │   │        │\n",
      "5: ───@───@^0.5────@^0.25──────────────────────────────────────────────────────────────────────────────────────────────────────────────────────────────\n",
      "                  └───────┘                                └───────┘\n"
     ]
    },
    {
     "data": {
      "text/plain": [
       "True"
      ]
     },
     "execution_count": 23,
     "metadata": {},
     "output_type": "execute_result"
    }
   ],
   "source": [
    "n = 3\n",
    "globals().update(wh_operators(2**n))\n",
    "\n",
    "d = 2**n\n",
    "Pi_pos = np.array([np.diag(np.eye(d)[i]) for i in range(d)])\n",
    "U = sum([kron(Pi_pos[k], mpow(Z, k)) for k in range(d)])\n",
    "\n",
    "t = cirq.LineQubit.range(n)\n",
    "c = cirq.LineQubit.range(n, 2*n)\n",
    "circuit = cirq.Circuit()\n",
    "circuit.append(CZ_(c, t), strategy=cirq.InsertStrategy.NEW_THEN_INLINE)\n",
    "print(circuit)\n",
    "\n",
    "ket = rand_ket(d**2)\n",
    "s = cirq.Simulator()\n",
    "final_ket = s.simulate(circuit, initial_state=ket).final_state_vector\n",
    "np.allclose(final_ket, U @ ket)"
   ]
  },
  {
   "cell_type": "code",
   "execution_count": 24,
   "id": "e11c1c9b",
   "metadata": {},
   "outputs": [
    {
     "data": {
      "image/svg+xml": [
       "<svg xmlns=\"http://www.w3.org/2000/svg\" width=\"1604.2429296875002\" height=\"340.0\"><line x1=\"30.0\" x2=\"1574.2429296875002\" y1=\"45.0\" y2=\"45.0\" stroke=\"#1967d2\" stroke-width=\"1\" /><line x1=\"30.0\" x2=\"1574.2429296875002\" y1=\"95.0\" y2=\"95.0\" stroke=\"#1967d2\" stroke-width=\"1\" /><line x1=\"30.0\" x2=\"1574.2429296875002\" y1=\"145.0\" y2=\"145.0\" stroke=\"#1967d2\" stroke-width=\"1\" /><line x1=\"30.0\" x2=\"1574.2429296875002\" y1=\"195.0\" y2=\"195.0\" stroke=\"#1967d2\" stroke-width=\"1\" /><line x1=\"30.0\" x2=\"1574.2429296875002\" y1=\"245.0\" y2=\"245.0\" stroke=\"#1967d2\" stroke-width=\"1\" /><line x1=\"30.0\" x2=\"1574.2429296875002\" y1=\"295.0\" y2=\"295.0\" stroke=\"#1967d2\" stroke-width=\"1\" /><line x1=\"617.06171875\" x2=\"731.8183984374999\" y1=\"5.0\" y2=\"5.0\" stroke=\"black\" stroke-width=\"1\" /><line x1=\"617.06171875\" x2=\"731.8183984374999\" y1=\"335.0\" y2=\"335.0\" stroke=\"black\" stroke-width=\"1\" /><line x1=\"195.849453125\" x2=\"310.6061328125\" y1=\"5.0\" y2=\"5.0\" stroke=\"black\" stroke-width=\"1\" /><line x1=\"195.849453125\" x2=\"310.6061328125\" y1=\"335.0\" y2=\"335.0\" stroke=\"black\" stroke-width=\"1\" /><line x1=\"90.0\" x2=\"90.0\" y1=\"45.0\" y2=\"295.0\" stroke=\"black\" stroke-width=\"3\" /><line x1=\"157.92472656249998\" x2=\"157.92472656249998\" y1=\"95.0\" y2=\"295.0\" stroke=\"black\" stroke-width=\"3\" /><line x1=\"228.22779296875\" x2=\"228.22779296875\" y1=\"145.0\" y2=\"295.0\" stroke=\"black\" stroke-width=\"3\" /><line x1=\"280.6061328125\" x2=\"280.6061328125\" y1=\"45.0\" y2=\"245.0\" stroke=\"black\" stroke-width=\"3\" /><line x1=\"358.530859375\" x2=\"358.530859375\" y1=\"95.0\" y2=\"245.0\" stroke=\"black\" stroke-width=\"3\" /><line x1=\"438.83392578125\" x2=\"438.83392578125\" y1=\"145.0\" y2=\"245.0\" stroke=\"black\" stroke-width=\"3\" /><line x1=\"511.212265625\" x2=\"511.212265625\" y1=\"45.0\" y2=\"245.0\" stroke=\"black\" stroke-width=\"3\" /><line x1=\"579.1369921875\" x2=\"579.1369921875\" y1=\"95.0\" y2=\"245.0\" stroke=\"black\" stroke-width=\"3\" /><line x1=\"649.44005859375\" x2=\"649.44005859375\" y1=\"145.0\" y2=\"245.0\" stroke=\"black\" stroke-width=\"3\" /><line x1=\"701.8183984374999\" x2=\"701.8183984374999\" y1=\"45.0\" y2=\"195.0\" stroke=\"black\" stroke-width=\"3\" /><line x1=\"779.743125\" x2=\"779.743125\" y1=\"95.0\" y2=\"195.0\" stroke=\"black\" stroke-width=\"3\" /><line x1=\"860.0461914062499\" x2=\"860.0461914062499\" y1=\"145.0\" y2=\"195.0\" stroke=\"black\" stroke-width=\"3\" /><line x1=\"932.4245312499999\" x2=\"932.4245312499999\" y1=\"45.0\" y2=\"195.0\" stroke=\"black\" stroke-width=\"3\" /><line x1=\"1000.3492578124999\" x2=\"1000.3492578124999\" y1=\"95.0\" y2=\"195.0\" stroke=\"black\" stroke-width=\"3\" /><line x1=\"1080.6523242187498\" x2=\"1080.6523242187498\" y1=\"145.0\" y2=\"195.0\" stroke=\"black\" stroke-width=\"3\" /><line x1=\"1153.0306640625\" x2=\"1153.0306640625\" y1=\"45.0\" y2=\"195.0\" stroke=\"black\" stroke-width=\"3\" /><line x1=\"1220.9553906249998\" x2=\"1220.9553906249998\" y1=\"95.0\" y2=\"195.0\" stroke=\"black\" stroke-width=\"3\" /><line x1=\"1301.25845703125\" x2=\"1301.25845703125\" y1=\"145.0\" y2=\"195.0\" stroke=\"black\" stroke-width=\"3\" /><line x1=\"1373.636796875\" x2=\"1373.636796875\" y1=\"45.0\" y2=\"195.0\" stroke=\"black\" stroke-width=\"3\" /><line x1=\"1441.5615234375\" x2=\"1441.5615234375\" y1=\"95.0\" y2=\"195.0\" stroke=\"black\" stroke-width=\"3\" /><line x1=\"1521.86458984375\" x2=\"1521.86458984375\" y1=\"145.0\" y2=\"195.0\" stroke=\"black\" stroke-width=\"3\" /><line x1=\"617.06171875\" x2=\"617.06171875\" y1=\"5.0\" y2=\"15.0\" stroke=\"black\" stroke-width=\"3\" /><line x1=\"731.8183984374999\" x2=\"731.8183984374999\" y1=\"5.0\" y2=\"15.0\" stroke=\"black\" stroke-width=\"3\" /><line x1=\"617.06171875\" x2=\"617.06171875\" y1=\"325.0\" y2=\"335.0\" stroke=\"black\" stroke-width=\"3\" /><line x1=\"731.8183984374999\" x2=\"731.8183984374999\" y1=\"325.0\" y2=\"335.0\" stroke=\"black\" stroke-width=\"3\" /><line x1=\"195.849453125\" x2=\"195.849453125\" y1=\"5.0\" y2=\"15.0\" stroke=\"black\" stroke-width=\"3\" /><line x1=\"310.6061328125\" x2=\"310.6061328125\" y1=\"5.0\" y2=\"15.0\" stroke=\"black\" stroke-width=\"3\" /><line x1=\"195.849453125\" x2=\"195.849453125\" y1=\"325.0\" y2=\"335.0\" stroke=\"black\" stroke-width=\"3\" /><line x1=\"310.6061328125\" x2=\"310.6061328125\" y1=\"325.0\" y2=\"335.0\" stroke=\"black\" stroke-width=\"3\" /><rect x=\"10.0\" y=\"25.0\" width=\"40\" height=\"40\" stroke=\"black\" fill=\"white\" stroke-width=\"0\" /><text x=\"30.0\" y=\"45.0\" dominant-baseline=\"middle\" text-anchor=\"middle\" font-size=\"14px\" font-family=\"sans\\-serif:style=normal:variant=normal:weight=normal:stretch=normal:size=10.0\">0: </text><rect x=\"10.0\" y=\"75.0\" width=\"40\" height=\"40\" stroke=\"black\" fill=\"white\" stroke-width=\"0\" /><text x=\"30.0\" y=\"95.0\" dominant-baseline=\"middle\" text-anchor=\"middle\" font-size=\"14px\" font-family=\"sans\\-serif:style=normal:variant=normal:weight=normal:stretch=normal:size=10.0\">1: </text><rect x=\"10.0\" y=\"125.0\" width=\"40\" height=\"40\" stroke=\"black\" fill=\"white\" stroke-width=\"0\" /><text x=\"30.0\" y=\"145.0\" dominant-baseline=\"middle\" text-anchor=\"middle\" font-size=\"14px\" font-family=\"sans\\-serif:style=normal:variant=normal:weight=normal:stretch=normal:size=10.0\">2: </text><rect x=\"10.0\" y=\"175.0\" width=\"40\" height=\"40\" stroke=\"black\" fill=\"white\" stroke-width=\"0\" /><text x=\"30.0\" y=\"195.0\" dominant-baseline=\"middle\" text-anchor=\"middle\" font-size=\"14px\" font-family=\"sans\\-serif:style=normal:variant=normal:weight=normal:stretch=normal:size=10.0\">3: </text><rect x=\"10.0\" y=\"225.0\" width=\"40\" height=\"40\" stroke=\"black\" fill=\"white\" stroke-width=\"0\" /><text x=\"30.0\" y=\"245.0\" dominant-baseline=\"middle\" text-anchor=\"middle\" font-size=\"14px\" font-family=\"sans\\-serif:style=normal:variant=normal:weight=normal:stretch=normal:size=10.0\">4: </text><rect x=\"10.0\" y=\"275.0\" width=\"40\" height=\"40\" stroke=\"black\" fill=\"white\" stroke-width=\"0\" /><text x=\"30.0\" y=\"295.0\" dominant-baseline=\"middle\" text-anchor=\"middle\" font-size=\"14px\" font-family=\"sans\\-serif:style=normal:variant=normal:weight=normal:stretch=normal:size=10.0\">5: </text><circle cx=\"90.0\" cy=\"295.0\" r=\"10.0\" /><circle cx=\"90.0\" cy=\"45.0\" r=\"10.0\" /><rect x=\"130.0\" y=\"275.0\" width=\"55.849453125\" height=\"40\" stroke=\"black\" fill=\"white\" stroke-width=\"1\" /><text x=\"157.92472656249998\" y=\"295.0\" dominant-baseline=\"middle\" text-anchor=\"middle\" font-size=\"14px\" font-family=\"sans\\-serif:style=normal:variant=normal:weight=normal:stretch=normal:size=10.0\">@^0.5</text><circle cx=\"157.92472656249998\" cy=\"95.0\" r=\"10.0\" /><rect x=\"195.84945312500003\" y=\"275.0\" width=\"64.7566796875\" height=\"40\" stroke=\"black\" fill=\"white\" stroke-width=\"1\" /><text x=\"228.22779296875\" y=\"295.0\" dominant-baseline=\"middle\" text-anchor=\"middle\" font-size=\"14px\" font-family=\"sans\\-serif:style=normal:variant=normal:weight=normal:stretch=normal:size=10.0\">@^0.25</text><circle cx=\"228.22779296875\" cy=\"145.0\" r=\"10.0\" /><circle cx=\"280.6061328125\" cy=\"245.0\" r=\"10.0\" /><circle cx=\"280.6061328125\" cy=\"45.0\" r=\"10.0\" /><rect x=\"330.6061328125\" y=\"225.0\" width=\"55.849453125\" height=\"40\" stroke=\"black\" fill=\"white\" stroke-width=\"1\" /><text x=\"358.530859375\" y=\"245.0\" dominant-baseline=\"middle\" text-anchor=\"middle\" font-size=\"14px\" font-family=\"sans\\-serif:style=normal:variant=normal:weight=normal:stretch=normal:size=10.0\">@^0.5</text><circle cx=\"358.530859375\" cy=\"95.0\" r=\"10.0\" /><rect x=\"406.4555859375\" y=\"225.0\" width=\"64.7566796875\" height=\"40\" stroke=\"black\" fill=\"white\" stroke-width=\"1\" /><text x=\"438.83392578125\" y=\"245.0\" dominant-baseline=\"middle\" text-anchor=\"middle\" font-size=\"14px\" font-family=\"sans\\-serif:style=normal:variant=normal:weight=normal:stretch=normal:size=10.0\">@^0.25</text><circle cx=\"438.83392578125\" cy=\"145.0\" r=\"10.0\" /><circle cx=\"511.212265625\" cy=\"245.0\" r=\"10.0\" /><circle cx=\"511.212265625\" cy=\"45.0\" r=\"10.0\" /><rect x=\"551.212265625\" y=\"225.0\" width=\"55.849453125\" height=\"40\" stroke=\"black\" fill=\"white\" stroke-width=\"1\" /><text x=\"579.1369921875\" y=\"245.0\" dominant-baseline=\"middle\" text-anchor=\"middle\" font-size=\"14px\" font-family=\"sans\\-serif:style=normal:variant=normal:weight=normal:stretch=normal:size=10.0\">@^0.5</text><circle cx=\"579.1369921875\" cy=\"95.0\" r=\"10.0\" /><rect x=\"617.06171875\" y=\"225.0\" width=\"64.7566796875\" height=\"40\" stroke=\"black\" fill=\"white\" stroke-width=\"1\" /><text x=\"649.44005859375\" y=\"245.0\" dominant-baseline=\"middle\" text-anchor=\"middle\" font-size=\"14px\" font-family=\"sans\\-serif:style=normal:variant=normal:weight=normal:stretch=normal:size=10.0\">@^0.25</text><circle cx=\"649.44005859375\" cy=\"145.0\" r=\"10.0\" /><circle cx=\"701.8183984374999\" cy=\"195.0\" r=\"10.0\" /><circle cx=\"701.8183984374999\" cy=\"45.0\" r=\"10.0\" /><rect x=\"751.8183984374999\" y=\"175.0\" width=\"55.849453125\" height=\"40\" stroke=\"black\" fill=\"white\" stroke-width=\"1\" /><text x=\"779.743125\" y=\"195.0\" dominant-baseline=\"middle\" text-anchor=\"middle\" font-size=\"14px\" font-family=\"sans\\-serif:style=normal:variant=normal:weight=normal:stretch=normal:size=10.0\">@^0.5</text><circle cx=\"779.743125\" cy=\"95.0\" r=\"10.0\" /><rect x=\"827.6678515624999\" y=\"175.0\" width=\"64.7566796875\" height=\"40\" stroke=\"black\" fill=\"white\" stroke-width=\"1\" /><text x=\"860.0461914062499\" y=\"195.0\" dominant-baseline=\"middle\" text-anchor=\"middle\" font-size=\"14px\" font-family=\"sans\\-serif:style=normal:variant=normal:weight=normal:stretch=normal:size=10.0\">@^0.25</text><circle cx=\"860.0461914062499\" cy=\"145.0\" r=\"10.0\" /><circle cx=\"932.4245312499999\" cy=\"195.0\" r=\"10.0\" /><circle cx=\"932.4245312499999\" cy=\"45.0\" r=\"10.0\" /><rect x=\"972.4245312499999\" y=\"175.0\" width=\"55.849453125\" height=\"40\" stroke=\"black\" fill=\"white\" stroke-width=\"1\" /><text x=\"1000.3492578124999\" y=\"195.0\" dominant-baseline=\"middle\" text-anchor=\"middle\" font-size=\"14px\" font-family=\"sans\\-serif:style=normal:variant=normal:weight=normal:stretch=normal:size=10.0\">@^0.5</text><circle cx=\"1000.3492578124999\" cy=\"95.0\" r=\"10.0\" /><rect x=\"1048.2739843749998\" y=\"175.0\" width=\"64.7566796875\" height=\"40\" stroke=\"black\" fill=\"white\" stroke-width=\"1\" /><text x=\"1080.6523242187498\" y=\"195.0\" dominant-baseline=\"middle\" text-anchor=\"middle\" font-size=\"14px\" font-family=\"sans\\-serif:style=normal:variant=normal:weight=normal:stretch=normal:size=10.0\">@^0.25</text><circle cx=\"1080.6523242187498\" cy=\"145.0\" r=\"10.0\" /><circle cx=\"1153.0306640625\" cy=\"195.0\" r=\"10.0\" /><circle cx=\"1153.0306640625\" cy=\"45.0\" r=\"10.0\" /><rect x=\"1193.0306640625\" y=\"175.0\" width=\"55.849453125\" height=\"40\" stroke=\"black\" fill=\"white\" stroke-width=\"1\" /><text x=\"1220.9553906249998\" y=\"195.0\" dominant-baseline=\"middle\" text-anchor=\"middle\" font-size=\"14px\" font-family=\"sans\\-serif:style=normal:variant=normal:weight=normal:stretch=normal:size=10.0\">@^0.5</text><circle cx=\"1220.9553906249998\" cy=\"95.0\" r=\"10.0\" /><rect x=\"1268.8801171875\" y=\"175.0\" width=\"64.7566796875\" height=\"40\" stroke=\"black\" fill=\"white\" stroke-width=\"1\" /><text x=\"1301.25845703125\" y=\"195.0\" dominant-baseline=\"middle\" text-anchor=\"middle\" font-size=\"14px\" font-family=\"sans\\-serif:style=normal:variant=normal:weight=normal:stretch=normal:size=10.0\">@^0.25</text><circle cx=\"1301.25845703125\" cy=\"145.0\" r=\"10.0\" /><circle cx=\"1373.636796875\" cy=\"195.0\" r=\"10.0\" /><circle cx=\"1373.636796875\" cy=\"45.0\" r=\"10.0\" /><rect x=\"1413.636796875\" y=\"175.0\" width=\"55.849453125\" height=\"40\" stroke=\"black\" fill=\"white\" stroke-width=\"1\" /><text x=\"1441.5615234375\" y=\"195.0\" dominant-baseline=\"middle\" text-anchor=\"middle\" font-size=\"14px\" font-family=\"sans\\-serif:style=normal:variant=normal:weight=normal:stretch=normal:size=10.0\">@^0.5</text><circle cx=\"1441.5615234375\" cy=\"95.0\" r=\"10.0\" /><rect x=\"1489.4862500000002\" y=\"175.0\" width=\"64.7566796875\" height=\"40\" stroke=\"black\" fill=\"white\" stroke-width=\"1\" /><text x=\"1521.86458984375\" y=\"195.0\" dominant-baseline=\"middle\" text-anchor=\"middle\" font-size=\"14px\" font-family=\"sans\\-serif:style=normal:variant=normal:weight=normal:stretch=normal:size=10.0\">@^0.25</text><circle cx=\"1521.86458984375\" cy=\"145.0\" r=\"10.0\" /></svg>"
      ],
      "text/plain": [
       "<cirq.contrib.svg.svg.SVGCircuit at 0x122a06780>"
      ]
     },
     "execution_count": 24,
     "metadata": {},
     "output_type": "execute_result"
    }
   ],
   "source": [
    "SVGCircuit(circuit)"
   ]
  },
  {
   "cell_type": "markdown",
   "id": "d00f0c08",
   "metadata": {},
   "source": [
    "## d=4 SIC fiducial"
   ]
  },
  {
   "cell_type": "code",
   "execution_count": 25,
   "id": "b4053fc0",
   "metadata": {},
   "outputs": [],
   "source": [
    "n = 2\n",
    "globals().update(wh_operators(2**n))\n",
    "\n",
    "w2 = np.sqrt(2)\n",
    "w5 = np.sqrt(5)\n",
    "w10 = w2*w5\n",
    "r1 = np.sqrt(w5 + 1)\n",
    "psi = np.array([8,\\\n",
    "                ((w10 + w2 - 2*w5 - 2)*r1 - 4)*1j + (w10 + w2)*r1 + 4*w2 - 4,\\\n",
    "                 (8*w2 - 8)*1j,\\\n",
    "                ((w10 + w2 - 2*w5 - 2)*r1 + 4)*1j + (w10 + w2)*r1 - 4*w2 + 4])\n",
    "psi = psi/np.linalg.norm(psi)\n",
    "Pi = np.outer(psi, psi.conj())"
   ]
  },
  {
   "cell_type": "markdown",
   "id": "cde79a3a",
   "metadata": {},
   "source": [
    "## Check SIC fiducial"
   ]
  },
  {
   "cell_type": "code",
   "execution_count": 26,
   "id": "e6db28db",
   "metadata": {},
   "outputs": [
    {
     "data": {
      "text/plain": [
       "True"
      ]
     },
     "execution_count": 26,
     "metadata": {},
     "output_type": "execute_result"
    }
   ],
   "source": [
    "SIC = np.array([D[a] @ Pi @ D[a].conj().T for a in np.ndindex(d,d)])/d\n",
    "P = np.array([[(a@b/b.trace()).trace() for b in SIC] for a in SIC]).real\n",
    "P_SIC = np.array([[(d*(1 if i == j else 0) + 1)/(d*(d+1)) for j in range(d**2)] for i in range(d**2)]).real\n",
    "np.allclose(P, P_SIC)"
   ]
  },
  {
   "cell_type": "markdown",
   "id": "1a773dd7",
   "metadata": {},
   "source": [
    "## Qudit Arthurs-Kelly"
   ]
  },
  {
   "cell_type": "markdown",
   "id": "7818c4d1",
   "metadata": {},
   "source": [
    "### Define the unitary"
   ]
  },
  {
   "cell_type": "code",
   "execution_count": 27,
   "id": "ce90b532",
   "metadata": {},
   "outputs": [
    {
     "data": {
      "text/plain": [
       "True"
      ]
     },
     "execution_count": 27,
     "metadata": {},
     "output_type": "execute_result"
    }
   ],
   "source": [
    "Pi_pos = np.array([np.diag(np.eye(d)[i]) for i in range(d)])\n",
    "Pi_mom = np.array([np.outer(F[:,i], F[:,i].conj()) for i in range(d)])\n",
    "U1 = sum([kron(mpow(X, k), np.eye(d), Pi_pos[k]) for k in range(d)])\n",
    "U2 = sum([kron(np.eye(d), mpow(X, m), Pi_mom[m]) for m in range(d)])\n",
    "U = U2 @ U1\n",
    "\n",
    "# Check alternate formulation\n",
    "U_alt = sum([kron(Pi_mom[k], Pi_mom[m], D[m,-k%d]) for m in range(d) for k in range(d)])\n",
    "np.allclose(U, U_alt)"
   ]
  },
  {
   "cell_type": "markdown",
   "id": "1787df5e",
   "metadata": {},
   "source": [
    "### Define initial state of ancillas"
   ]
  },
  {
   "cell_type": "code",
   "execution_count": 28,
   "id": "2b3f1e4b",
   "metadata": {},
   "outputs": [
    {
     "data": {
      "text/plain": [
       "True"
      ]
     },
     "execution_count": 28,
     "metadata": {},
     "output_type": "execute_result"
    }
   ],
   "source": [
    "FPi = F.conj().T @ Pi\n",
    "gamma = np.array([w**(k*m)*FPi[-m%d,-k%d] for k in range(d) for m in range(d)])\n",
    "\n",
    "# Check alternate formulation\n",
    "gamma_alt = d**(-3/2)*np.array([sum([w**(a*m - b*k)*(D[a,b].conj().T @ Pi).trace() for b in range(d) for a in range(d)]) for k in range(d) for m in range(d)])\n",
    "np.allclose(gamma, gamma_alt)"
   ]
  },
  {
   "cell_type": "markdown",
   "id": "1eed2127",
   "metadata": {},
   "source": [
    "### Check if we recover SIC probabilities"
   ]
  },
  {
   "cell_type": "code",
   "execution_count": 29,
   "id": "3caeb5d6",
   "metadata": {},
   "outputs": [
    {
     "data": {
      "text/plain": [
       "True"
      ]
     },
     "execution_count": 29,
     "metadata": {},
     "output_type": "execute_result"
    }
   ],
   "source": [
    "ket = rand_ket(d)\n",
    "sic_p = np.array([ket.conj() @ e @ ket for e in SIC]).real\n",
    "\n",
    "initial_state = kron(gamma, ket)\n",
    "final_state = U @ initial_state\n",
    "ak_p = np.array([final_state.conj() @ kron(Pi_pos[x], Pi_pos[y], np.eye(d)) @ final_state for x in range(d) for y in range(d)]).real\n",
    "np.allclose(sic_p, ak_p)"
   ]
  },
  {
   "cell_type": "markdown",
   "id": "d830a320",
   "metadata": {},
   "source": [
    "### Do it in cirq"
   ]
  },
  {
   "cell_type": "code",
   "execution_count": 30,
   "id": "8cc10239",
   "metadata": {},
   "outputs": [
    {
     "data": {
      "text/plain": [
       "True"
      ]
     },
     "execution_count": 30,
     "metadata": {},
     "output_type": "execute_result"
    }
   ],
   "source": [
    "t1 = cirq.LineQubit.range(n)\n",
    "t2 = cirq.LineQubit.range(n, 2*n)\n",
    "c = cirq.LineQubit.range(2*n, 3*n)\n",
    "circuit = cirq.Circuit((CX_(c, t1), Fdag_(c), CX_(c, t2), F_(c)), strategy=cirq.InsertStrategy.NEW_THEN_INLINE)\n",
    "s = cirq.Simulator()\n",
    "final_state2 = s.simulate(circuit, initial_state=initial_state).final_state_vector\n",
    "np.allclose(final_state, final_state2)"
   ]
  },
  {
   "cell_type": "code",
   "execution_count": 31,
   "id": "75fbb92e",
   "metadata": {},
   "outputs": [
    {
     "data": {
      "text/html": [
       "<pre style=\"overflow: auto; white-space: pre;\">                              ┌──────┐                                                                                 ┌──────┐\n",
       "0: ───H───@───────────×───@─────────@────────────@───────────×───────@────────H────────────────────────────────────────────────────────────────────────────────────────────────────────────\n",
       "          │           │   │         │            │           │       │\n",
       "1: ───────@^0.5───H───×───┼────@────┼────@───────┼───@───────×───H───@^-0.5────────────────────────────────────────────────────────────────────────────────────────────────────────────────\n",
       "                          │    │    │    │       │   │\n",
       "2: ───────────────────────┼────┼────┼────┼───────┼───┼─────────────────────────────────────────H───@───────────×───@─────────@────────────@───────────×───────@────────H───────────────────\n",
       "                          │    │    │    │       │   │                                             │           │   │         │            │           │       │\n",
       "3: ───────────────────────┼────┼────┼────┼───────┼───┼─────────────────────────────────────────────@^0.5───H───×───┼────@────┼────@───────┼───@───────×───H───@^-0.5───────────────────────\n",
       "                          │    │    │    │       │   │                                                             │    │    │    │       │   │\n",
       "4: ───────────────────────┼────┼────@────@^0.5───@───@^0.5────────────────────×───────@────────H───────────────────┼────┼────@────@^0.5───@───@^0.5────────────────────H───@───────────×───\n",
       "                          │    │                                              │       │                            │    │                                                  │           │\n",
       "5: ───────────────────────@────@^0.5──────────────────────────────────────────×───H───@^-0.5───────────────────────@────@^0.5──────────────────────────────────────────────@^0.5───H───×───\n",
       "                              └──────┘                                                                                 └──────┘</pre>"
      ],
      "text/plain": [
       "                              ┌──────┐                                                                                 ┌──────┐\n",
       "0: ───H───@───────────×───@─────────@────────────@───────────×───────@────────H────────────────────────────────────────────────────────────────────────────────────────────────────────────\n",
       "          │           │   │         │            │           │       │\n",
       "1: ───────@^0.5───H───×───┼────@────┼────@───────┼───@───────×───H───@^-0.5────────────────────────────────────────────────────────────────────────────────────────────────────────────────\n",
       "                          │    │    │    │       │   │\n",
       "2: ───────────────────────┼────┼────┼────┼───────┼───┼─────────────────────────────────────────H───@───────────×───@─────────@────────────@───────────×───────@────────H───────────────────\n",
       "                          │    │    │    │       │   │                                             │           │   │         │            │           │       │\n",
       "3: ───────────────────────┼────┼────┼────┼───────┼───┼─────────────────────────────────────────────@^0.5───H───×───┼────@────┼────@───────┼───@───────×───H───@^-0.5───────────────────────\n",
       "                          │    │    │    │       │   │                                                             │    │    │    │       │   │\n",
       "4: ───────────────────────┼────┼────@────@^0.5───@───@^0.5────────────────────×───────@────────H───────────────────┼────┼────@────@^0.5───@───@^0.5────────────────────H───@───────────×───\n",
       "                          │    │                                              │       │                            │    │                                                  │           │\n",
       "5: ───────────────────────@────@^0.5──────────────────────────────────────────×───H───@^-0.5───────────────────────@────@^0.5──────────────────────────────────────────────@^0.5───H───×───\n",
       "                              └──────┘                                                                                 └──────┘"
      ]
     },
     "execution_count": 31,
     "metadata": {},
     "output_type": "execute_result"
    }
   ],
   "source": [
    "circuit"
   ]
  },
  {
   "cell_type": "code",
   "execution_count": 32,
   "id": "ac17b106",
   "metadata": {},
   "outputs": [
    {
     "data": {
      "image/svg+xml": [
       "<svg xmlns=\"http://www.w3.org/2000/svg\" width=\"2245.3487109375005\" height=\"340.0\"><line x1=\"30.0\" x2=\"2215.3487109375005\" y1=\"45.0\" y2=\"45.0\" stroke=\"#1967d2\" stroke-width=\"1\" /><line x1=\"30.0\" x2=\"2215.3487109375005\" y1=\"95.0\" y2=\"95.0\" stroke=\"#1967d2\" stroke-width=\"1\" /><line x1=\"30.0\" x2=\"2215.3487109375005\" y1=\"145.0\" y2=\"145.0\" stroke=\"#1967d2\" stroke-width=\"1\" /><line x1=\"30.0\" x2=\"2215.3487109375005\" y1=\"195.0\" y2=\"195.0\" stroke=\"#1967d2\" stroke-width=\"1\" /><line x1=\"30.0\" x2=\"2215.3487109375005\" y1=\"245.0\" y2=\"245.0\" stroke=\"#1967d2\" stroke-width=\"1\" /><line x1=\"30.0\" x2=\"2215.3487109375005\" y1=\"295.0\" y2=\"295.0\" stroke=\"#1967d2\" stroke-width=\"1\" /><line x1=\"1421.0496875000001\" x2=\"1526.8991406250002\" y1=\"5.0\" y2=\"5.0\" stroke=\"black\" stroke-width=\"1\" /><line x1=\"1421.0496875000001\" x2=\"1526.8991406250002\" y1=\"335.0\" y2=\"335.0\" stroke=\"black\" stroke-width=\"1\" /><line x1=\"375.84945312499997\" x2=\"481.69890625\" y1=\"5.0\" y2=\"5.0\" stroke=\"black\" stroke-width=\"1\" /><line x1=\"375.84945312499997\" x2=\"481.69890625\" y1=\"335.0\" y2=\"335.0\" stroke=\"black\" stroke-width=\"1\" /><line x1=\"157.92472656249998\" x2=\"157.92472656249998\" y1=\"45.0\" y2=\"95.0\" stroke=\"black\" stroke-width=\"3\" /><line x1=\"285.84945312499997\" x2=\"285.84945312499997\" y1=\"45.0\" y2=\"95.0\" stroke=\"black\" stroke-width=\"3\" /><line x1=\"345.84945312499997\" x2=\"345.84945312499997\" y1=\"45.0\" y2=\"295.0\" stroke=\"black\" stroke-width=\"3\" /><line x1=\"403.77417968749995\" x2=\"403.77417968749995\" y1=\"95.0\" y2=\"295.0\" stroke=\"black\" stroke-width=\"3\" /><line x1=\"451.69890625\" x2=\"451.69890625\" y1=\"45.0\" y2=\"245.0\" stroke=\"black\" stroke-width=\"3\" /><line x1=\"529.6236328125\" x2=\"529.6236328125\" y1=\"95.0\" y2=\"245.0\" stroke=\"black\" stroke-width=\"3\" /><line x1=\"597.548359375\" x2=\"597.548359375\" y1=\"45.0\" y2=\"245.0\" stroke=\"black\" stroke-width=\"3\" /><line x1=\"665.4730859375001\" x2=\"665.4730859375001\" y1=\"95.0\" y2=\"245.0\" stroke=\"black\" stroke-width=\"3\" /><line x1=\"733.3978125\" x2=\"733.3978125\" y1=\"45.0\" y2=\"95.0\" stroke=\"black\" stroke-width=\"3\" /><line x1=\"863.84841796875\" x2=\"863.84841796875\" y1=\"45.0\" y2=\"95.0\" stroke=\"black\" stroke-width=\"3\" /><line x1=\"934.2990234375\" x2=\"934.2990234375\" y1=\"245.0\" y2=\"295.0\" stroke=\"black\" stroke-width=\"3\" /><line x1=\"1064.7496289062499\" x2=\"1064.7496289062499\" y1=\"245.0\" y2=\"295.0\" stroke=\"black\" stroke-width=\"3\" /><line x1=\"1203.1249609375\" x2=\"1203.1249609375\" y1=\"145.0\" y2=\"195.0\" stroke=\"black\" stroke-width=\"3\" /><line x1=\"1331.0496875000001\" x2=\"1331.0496875000001\" y1=\"145.0\" y2=\"195.0\" stroke=\"black\" stroke-width=\"3\" /><line x1=\"1391.0496875000001\" x2=\"1391.0496875000001\" y1=\"145.0\" y2=\"295.0\" stroke=\"black\" stroke-width=\"3\" /><line x1=\"1448.9744140625\" x2=\"1448.9744140625\" y1=\"195.0\" y2=\"295.0\" stroke=\"black\" stroke-width=\"3\" /><line x1=\"1496.8991406250002\" x2=\"1496.8991406250002\" y1=\"145.0\" y2=\"245.0\" stroke=\"black\" stroke-width=\"3\" /><line x1=\"1574.8238671875001\" x2=\"1574.8238671875001\" y1=\"195.0\" y2=\"245.0\" stroke=\"black\" stroke-width=\"3\" /><line x1=\"1642.7485937500003\" x2=\"1642.7485937500003\" y1=\"145.0\" y2=\"245.0\" stroke=\"black\" stroke-width=\"3\" /><line x1=\"1710.6733203125002\" x2=\"1710.6733203125002\" y1=\"195.0\" y2=\"245.0\" stroke=\"black\" stroke-width=\"3\" /><line x1=\"1778.5980468750004\" x2=\"1778.5980468750004\" y1=\"145.0\" y2=\"195.0\" stroke=\"black\" stroke-width=\"3\" /><line x1=\"1909.0486523437503\" x2=\"1909.0486523437503\" y1=\"145.0\" y2=\"195.0\" stroke=\"black\" stroke-width=\"3\" /><line x1=\"2047.4239843750004\" x2=\"2047.4239843750004\" y1=\"245.0\" y2=\"295.0\" stroke=\"black\" stroke-width=\"3\" /><line x1=\"2175.3487109375005\" x2=\"2175.3487109375005\" y1=\"245.0\" y2=\"295.0\" stroke=\"black\" stroke-width=\"3\" /><line x1=\"1421.0496875000001\" x2=\"1421.0496875000001\" y1=\"5.0\" y2=\"15.0\" stroke=\"black\" stroke-width=\"3\" /><line x1=\"1526.8991406250002\" x2=\"1526.8991406250002\" y1=\"5.0\" y2=\"15.0\" stroke=\"black\" stroke-width=\"3\" /><line x1=\"1421.0496875000001\" x2=\"1421.0496875000001\" y1=\"325.0\" y2=\"335.0\" stroke=\"black\" stroke-width=\"3\" /><line x1=\"1526.8991406250002\" x2=\"1526.8991406250002\" y1=\"325.0\" y2=\"335.0\" stroke=\"black\" stroke-width=\"3\" /><line x1=\"375.84945312499997\" x2=\"375.84945312499997\" y1=\"5.0\" y2=\"15.0\" stroke=\"black\" stroke-width=\"3\" /><line x1=\"481.69890625\" x2=\"481.69890625\" y1=\"5.0\" y2=\"15.0\" stroke=\"black\" stroke-width=\"3\" /><line x1=\"375.84945312499997\" x2=\"375.84945312499997\" y1=\"325.0\" y2=\"335.0\" stroke=\"black\" stroke-width=\"3\" /><line x1=\"481.69890625\" x2=\"481.69890625\" y1=\"325.0\" y2=\"335.0\" stroke=\"black\" stroke-width=\"3\" /><rect x=\"10.0\" y=\"25.0\" width=\"40\" height=\"40\" stroke=\"black\" fill=\"white\" stroke-width=\"0\" /><text x=\"30.0\" y=\"45.0\" dominant-baseline=\"middle\" text-anchor=\"middle\" font-size=\"14px\" font-family=\"sans\\-serif:style=normal:variant=normal:weight=normal:stretch=normal:size=10.0\">0: </text><rect x=\"10.0\" y=\"75.0\" width=\"40\" height=\"40\" stroke=\"black\" fill=\"white\" stroke-width=\"0\" /><text x=\"30.0\" y=\"95.0\" dominant-baseline=\"middle\" text-anchor=\"middle\" font-size=\"14px\" font-family=\"sans\\-serif:style=normal:variant=normal:weight=normal:stretch=normal:size=10.0\">1: </text><rect x=\"10.0\" y=\"125.0\" width=\"40\" height=\"40\" stroke=\"black\" fill=\"white\" stroke-width=\"0\" /><text x=\"30.0\" y=\"145.0\" dominant-baseline=\"middle\" text-anchor=\"middle\" font-size=\"14px\" font-family=\"sans\\-serif:style=normal:variant=normal:weight=normal:stretch=normal:size=10.0\">2: </text><rect x=\"10.0\" y=\"175.0\" width=\"40\" height=\"40\" stroke=\"black\" fill=\"white\" stroke-width=\"0\" /><text x=\"30.0\" y=\"195.0\" dominant-baseline=\"middle\" text-anchor=\"middle\" font-size=\"14px\" font-family=\"sans\\-serif:style=normal:variant=normal:weight=normal:stretch=normal:size=10.0\">3: </text><rect x=\"10.0\" y=\"225.0\" width=\"40\" height=\"40\" stroke=\"black\" fill=\"white\" stroke-width=\"0\" /><text x=\"30.0\" y=\"245.0\" dominant-baseline=\"middle\" text-anchor=\"middle\" font-size=\"14px\" font-family=\"sans\\-serif:style=normal:variant=normal:weight=normal:stretch=normal:size=10.0\">4: </text><rect x=\"10.0\" y=\"275.0\" width=\"40\" height=\"40\" stroke=\"black\" fill=\"white\" stroke-width=\"0\" /><text x=\"30.0\" y=\"295.0\" dominant-baseline=\"middle\" text-anchor=\"middle\" font-size=\"14px\" font-family=\"sans\\-serif:style=normal:variant=normal:weight=normal:stretch=normal:size=10.0\">5: </text><rect x=\"70.0\" y=\"25.0\" width=\"40\" height=\"40\" stroke=\"black\" fill=\"white\" stroke-width=\"1\" /><text x=\"90.0\" y=\"45.0\" dominant-baseline=\"middle\" text-anchor=\"middle\" font-size=\"18px\" font-family=\"sans\\-serif:style=normal:variant=normal:weight=normal:stretch=normal:size=10.0\">H</text><rect x=\"130.0\" y=\"75.0\" width=\"55.849453125\" height=\"40\" stroke=\"black\" fill=\"white\" stroke-width=\"1\" /><text x=\"157.92472656249998\" y=\"95.0\" dominant-baseline=\"middle\" text-anchor=\"middle\" font-size=\"14px\" font-family=\"sans\\-serif:style=normal:variant=normal:weight=normal:stretch=normal:size=10.0\">@^0.5</text><circle cx=\"157.92472656249998\" cy=\"45.0\" r=\"10.0\" /><rect x=\"205.849453125\" y=\"75.0\" width=\"40\" height=\"40\" stroke=\"black\" fill=\"white\" stroke-width=\"1\" /><text x=\"225.849453125\" y=\"95.0\" dominant-baseline=\"middle\" text-anchor=\"middle\" font-size=\"18px\" font-family=\"sans\\-serif:style=normal:variant=normal:weight=normal:stretch=normal:size=10.0\">H</text><text x=\"285.84945312499997\" y=\"48.0\" dominant-baseline=\"middle\" text-anchor=\"middle\" font-size=\"40px\" font-family=\"sans\\-serif:style=normal:variant=normal:weight=normal:stretch=normal:size=10.0\">×</text><text x=\"285.84945312499997\" y=\"98.0\" dominant-baseline=\"middle\" text-anchor=\"middle\" font-size=\"40px\" font-family=\"sans\\-serif:style=normal:variant=normal:weight=normal:stretch=normal:size=10.0\">×</text><circle cx=\"345.84945312499997\" cy=\"295.0\" r=\"10.0\" /><circle cx=\"345.84945312499997\" cy=\"45.0\" r=\"10.0\" /><rect x=\"375.84945312499997\" y=\"275.0\" width=\"55.849453125000004\" height=\"40\" stroke=\"black\" fill=\"white\" stroke-width=\"1\" /><text x=\"403.77417968749995\" y=\"295.0\" dominant-baseline=\"middle\" text-anchor=\"middle\" font-size=\"14px\" font-family=\"sans\\-serif:style=normal:variant=normal:weight=normal:stretch=normal:size=10.0\">@^0.5</text><circle cx=\"403.77417968749995\" cy=\"95.0\" r=\"10.0\" /><circle cx=\"451.69890625\" cy=\"245.0\" r=\"10.0\" /><circle cx=\"451.69890625\" cy=\"45.0\" r=\"10.0\" /><rect x=\"501.69890625\" y=\"225.0\" width=\"55.849453125\" height=\"40\" stroke=\"black\" fill=\"white\" stroke-width=\"1\" /><text x=\"529.6236328125\" y=\"245.0\" dominant-baseline=\"middle\" text-anchor=\"middle\" font-size=\"14px\" font-family=\"sans\\-serif:style=normal:variant=normal:weight=normal:stretch=normal:size=10.0\">@^0.5</text><circle cx=\"529.6236328125\" cy=\"95.0\" r=\"10.0\" /><circle cx=\"597.548359375\" cy=\"245.0\" r=\"10.0\" /><circle cx=\"597.548359375\" cy=\"45.0\" r=\"10.0\" /><rect x=\"637.548359375\" y=\"225.0\" width=\"55.849453125\" height=\"40\" stroke=\"black\" fill=\"white\" stroke-width=\"1\" /><text x=\"665.4730859375001\" y=\"245.0\" dominant-baseline=\"middle\" text-anchor=\"middle\" font-size=\"14px\" font-family=\"sans\\-serif:style=normal:variant=normal:weight=normal:stretch=normal:size=10.0\">@^0.5</text><circle cx=\"665.4730859375001\" cy=\"95.0\" r=\"10.0\" /><text x=\"733.3978125\" y=\"48.0\" dominant-baseline=\"middle\" text-anchor=\"middle\" font-size=\"40px\" font-family=\"sans\\-serif:style=normal:variant=normal:weight=normal:stretch=normal:size=10.0\">×</text><text x=\"733.3978125\" y=\"98.0\" dominant-baseline=\"middle\" text-anchor=\"middle\" font-size=\"40px\" font-family=\"sans\\-serif:style=normal:variant=normal:weight=normal:stretch=normal:size=10.0\">×</text><rect x=\"773.3978125\" y=\"75.0\" width=\"40\" height=\"40\" stroke=\"black\" fill=\"white\" stroke-width=\"1\" /><text x=\"793.3978125\" y=\"95.0\" dominant-baseline=\"middle\" text-anchor=\"middle\" font-size=\"18px\" font-family=\"sans\\-serif:style=normal:variant=normal:weight=normal:stretch=normal:size=10.0\">H</text><rect x=\"833.3978125\" y=\"75.0\" width=\"60.9012109375\" height=\"40\" stroke=\"black\" fill=\"white\" stroke-width=\"1\" /><text x=\"863.84841796875\" y=\"95.0\" dominant-baseline=\"middle\" text-anchor=\"middle\" font-size=\"14px\" font-family=\"sans\\-serif:style=normal:variant=normal:weight=normal:stretch=normal:size=10.0\">@^-0.5</text><circle cx=\"863.84841796875\" cy=\"45.0\" r=\"10.0\" /><rect x=\"914.2990234375\" y=\"25.0\" width=\"40\" height=\"40\" stroke=\"black\" fill=\"white\" stroke-width=\"1\" /><text x=\"934.2990234375\" y=\"45.0\" dominant-baseline=\"middle\" text-anchor=\"middle\" font-size=\"18px\" font-family=\"sans\\-serif:style=normal:variant=normal:weight=normal:stretch=normal:size=10.0\">H</text><text x=\"934.2990234375\" y=\"248.0\" dominant-baseline=\"middle\" text-anchor=\"middle\" font-size=\"40px\" font-family=\"sans\\-serif:style=normal:variant=normal:weight=normal:stretch=normal:size=10.0\">×</text><text x=\"934.2990234375\" y=\"298.0\" dominant-baseline=\"middle\" text-anchor=\"middle\" font-size=\"40px\" font-family=\"sans\\-serif:style=normal:variant=normal:weight=normal:stretch=normal:size=10.0\">×</text><rect x=\"974.2990234375\" y=\"275.0\" width=\"40\" height=\"40\" stroke=\"black\" fill=\"white\" stroke-width=\"1\" /><text x=\"994.2990234375\" y=\"295.0\" dominant-baseline=\"middle\" text-anchor=\"middle\" font-size=\"18px\" font-family=\"sans\\-serif:style=normal:variant=normal:weight=normal:stretch=normal:size=10.0\">H</text><rect x=\"1034.2990234375\" y=\"275.0\" width=\"60.9012109375\" height=\"40\" stroke=\"black\" fill=\"white\" stroke-width=\"1\" /><text x=\"1064.7496289062499\" y=\"295.0\" dominant-baseline=\"middle\" text-anchor=\"middle\" font-size=\"14px\" font-family=\"sans\\-serif:style=normal:variant=normal:weight=normal:stretch=normal:size=10.0\">@^-0.5</text><circle cx=\"1064.7496289062499\" cy=\"245.0\" r=\"10.0\" /><rect x=\"1115.200234375\" y=\"225.0\" width=\"40\" height=\"40\" stroke=\"black\" fill=\"white\" stroke-width=\"1\" /><text x=\"1135.200234375\" y=\"245.0\" dominant-baseline=\"middle\" text-anchor=\"middle\" font-size=\"18px\" font-family=\"sans\\-serif:style=normal:variant=normal:weight=normal:stretch=normal:size=10.0\">H</text><rect x=\"1115.200234375\" y=\"125.0\" width=\"40\" height=\"40\" stroke=\"black\" fill=\"white\" stroke-width=\"1\" /><text x=\"1135.200234375\" y=\"145.0\" dominant-baseline=\"middle\" text-anchor=\"middle\" font-size=\"18px\" font-family=\"sans\\-serif:style=normal:variant=normal:weight=normal:stretch=normal:size=10.0\">H</text><rect x=\"1175.200234375\" y=\"175.0\" width=\"55.849453125\" height=\"40\" stroke=\"black\" fill=\"white\" stroke-width=\"1\" /><text x=\"1203.1249609375\" y=\"195.0\" dominant-baseline=\"middle\" text-anchor=\"middle\" font-size=\"14px\" font-family=\"sans\\-serif:style=normal:variant=normal:weight=normal:stretch=normal:size=10.0\">@^0.5</text><circle cx=\"1203.1249609375\" cy=\"145.0\" r=\"10.0\" /><rect x=\"1251.0496875000001\" y=\"175.0\" width=\"40\" height=\"40\" stroke=\"black\" fill=\"white\" stroke-width=\"1\" /><text x=\"1271.0496875000001\" y=\"195.0\" dominant-baseline=\"middle\" text-anchor=\"middle\" font-size=\"18px\" font-family=\"sans\\-serif:style=normal:variant=normal:weight=normal:stretch=normal:size=10.0\">H</text><text x=\"1331.0496875000001\" y=\"148.0\" dominant-baseline=\"middle\" text-anchor=\"middle\" font-size=\"40px\" font-family=\"sans\\-serif:style=normal:variant=normal:weight=normal:stretch=normal:size=10.0\">×</text><text x=\"1331.0496875000001\" y=\"198.0\" dominant-baseline=\"middle\" text-anchor=\"middle\" font-size=\"40px\" font-family=\"sans\\-serif:style=normal:variant=normal:weight=normal:stretch=normal:size=10.0\">×</text><circle cx=\"1391.0496875000001\" cy=\"295.0\" r=\"10.0\" /><circle cx=\"1391.0496875000001\" cy=\"145.0\" r=\"10.0\" /><rect x=\"1421.0496875000001\" y=\"275.0\" width=\"55.849453125000004\" height=\"40\" stroke=\"black\" fill=\"white\" stroke-width=\"1\" /><text x=\"1448.9744140625\" y=\"295.0\" dominant-baseline=\"middle\" text-anchor=\"middle\" font-size=\"14px\" font-family=\"sans\\-serif:style=normal:variant=normal:weight=normal:stretch=normal:size=10.0\">@^0.5</text><circle cx=\"1448.9744140625\" cy=\"195.0\" r=\"10.0\" /><circle cx=\"1496.8991406250002\" cy=\"245.0\" r=\"10.0\" /><circle cx=\"1496.8991406250002\" cy=\"145.0\" r=\"10.0\" /><rect x=\"1546.8991406250002\" y=\"225.0\" width=\"55.849453125\" height=\"40\" stroke=\"black\" fill=\"white\" stroke-width=\"1\" /><text x=\"1574.8238671875001\" y=\"245.0\" dominant-baseline=\"middle\" text-anchor=\"middle\" font-size=\"14px\" font-family=\"sans\\-serif:style=normal:variant=normal:weight=normal:stretch=normal:size=10.0\">@^0.5</text><circle cx=\"1574.8238671875001\" cy=\"195.0\" r=\"10.0\" /><circle cx=\"1642.7485937500003\" cy=\"245.0\" r=\"10.0\" /><circle cx=\"1642.7485937500003\" cy=\"145.0\" r=\"10.0\" /><rect x=\"1682.7485937500003\" y=\"225.0\" width=\"55.849453125\" height=\"40\" stroke=\"black\" fill=\"white\" stroke-width=\"1\" /><text x=\"1710.6733203125002\" y=\"245.0\" dominant-baseline=\"middle\" text-anchor=\"middle\" font-size=\"14px\" font-family=\"sans\\-serif:style=normal:variant=normal:weight=normal:stretch=normal:size=10.0\">@^0.5</text><circle cx=\"1710.6733203125002\" cy=\"195.0\" r=\"10.0\" /><text x=\"1778.5980468750004\" y=\"148.0\" dominant-baseline=\"middle\" text-anchor=\"middle\" font-size=\"40px\" font-family=\"sans\\-serif:style=normal:variant=normal:weight=normal:stretch=normal:size=10.0\">×</text><text x=\"1778.5980468750004\" y=\"198.0\" dominant-baseline=\"middle\" text-anchor=\"middle\" font-size=\"40px\" font-family=\"sans\\-serif:style=normal:variant=normal:weight=normal:stretch=normal:size=10.0\">×</text><rect x=\"1818.5980468750004\" y=\"175.0\" width=\"40\" height=\"40\" stroke=\"black\" fill=\"white\" stroke-width=\"1\" /><text x=\"1838.5980468750004\" y=\"195.0\" dominant-baseline=\"middle\" text-anchor=\"middle\" font-size=\"18px\" font-family=\"sans\\-serif:style=normal:variant=normal:weight=normal:stretch=normal:size=10.0\">H</text><rect x=\"1878.5980468750004\" y=\"175.0\" width=\"60.9012109375\" height=\"40\" stroke=\"black\" fill=\"white\" stroke-width=\"1\" /><text x=\"1909.0486523437503\" y=\"195.0\" dominant-baseline=\"middle\" text-anchor=\"middle\" font-size=\"14px\" font-family=\"sans\\-serif:style=normal:variant=normal:weight=normal:stretch=normal:size=10.0\">@^-0.5</text><circle cx=\"1909.0486523437503\" cy=\"145.0\" r=\"10.0\" /><rect x=\"1959.4992578125004\" y=\"125.0\" width=\"40\" height=\"40\" stroke=\"black\" fill=\"white\" stroke-width=\"1\" /><text x=\"1979.4992578125004\" y=\"145.0\" dominant-baseline=\"middle\" text-anchor=\"middle\" font-size=\"18px\" font-family=\"sans\\-serif:style=normal:variant=normal:weight=normal:stretch=normal:size=10.0\">H</text><rect x=\"1959.4992578125004\" y=\"225.0\" width=\"40\" height=\"40\" stroke=\"black\" fill=\"white\" stroke-width=\"1\" /><text x=\"1979.4992578125004\" y=\"245.0\" dominant-baseline=\"middle\" text-anchor=\"middle\" font-size=\"18px\" font-family=\"sans\\-serif:style=normal:variant=normal:weight=normal:stretch=normal:size=10.0\">H</text><rect x=\"2019.4992578125004\" y=\"275.0\" width=\"55.849453125\" height=\"40\" stroke=\"black\" fill=\"white\" stroke-width=\"1\" /><text x=\"2047.4239843750004\" y=\"295.0\" dominant-baseline=\"middle\" text-anchor=\"middle\" font-size=\"14px\" font-family=\"sans\\-serif:style=normal:variant=normal:weight=normal:stretch=normal:size=10.0\">@^0.5</text><circle cx=\"2047.4239843750004\" cy=\"245.0\" r=\"10.0\" /><rect x=\"2095.3487109375005\" y=\"275.0\" width=\"40\" height=\"40\" stroke=\"black\" fill=\"white\" stroke-width=\"1\" /><text x=\"2115.3487109375005\" y=\"295.0\" dominant-baseline=\"middle\" text-anchor=\"middle\" font-size=\"18px\" font-family=\"sans\\-serif:style=normal:variant=normal:weight=normal:stretch=normal:size=10.0\">H</text><text x=\"2175.3487109375005\" y=\"248.0\" dominant-baseline=\"middle\" text-anchor=\"middle\" font-size=\"40px\" font-family=\"sans\\-serif:style=normal:variant=normal:weight=normal:stretch=normal:size=10.0\">×</text><text x=\"2175.3487109375005\" y=\"298.0\" dominant-baseline=\"middle\" text-anchor=\"middle\" font-size=\"40px\" font-family=\"sans\\-serif:style=normal:variant=normal:weight=normal:stretch=normal:size=10.0\">×</text></svg>"
      ],
      "text/plain": [
       "<cirq.contrib.svg.svg.SVGCircuit at 0x12286a540>"
      ]
     },
     "execution_count": 32,
     "metadata": {},
     "output_type": "execute_result"
    }
   ],
   "source": [
    "SVGCircuit(circuit)"
   ]
  },
  {
   "cell_type": "markdown",
   "id": "164e87a2",
   "metadata": {},
   "source": [
    "## Alterative Kraus operators (sans $F$)"
   ]
  },
  {
   "cell_type": "code",
   "execution_count": 33,
   "id": "1917884e",
   "metadata": {},
   "outputs": [
    {
     "data": {
      "text/plain": [
       "True"
      ]
     },
     "execution_count": 33,
     "metadata": {},
     "output_type": "execute_result"
    }
   ],
   "source": [
    "U_sans = sum([kron(np.eye(d), mpow(X, k), Pi_pos[k]) for k in range(d)]) @ kron(np.eye(d), np.eye(d), F.conj().T) @ sum([kron(mpow(X, k), np.eye(d), Pi_pos[k]) for k in range(d)])\n",
    "final_state3 = U_sans @ initial_state\n",
    "ak_p3 = np.array([final_state.conj() @ kron(Pi_pos[x], Pi_pos[y], np.eye(d)) @ final_state for x in range(d) for y in range(d)]).real\n",
    "np.allclose(ak_p, ak_p3)"
   ]
  },
  {
   "cell_type": "code",
   "execution_count": 34,
   "id": "7d448701",
   "metadata": {},
   "outputs": [
    {
     "data": {
      "text/plain": [
       "True"
      ]
     },
     "execution_count": 34,
     "metadata": {},
     "output_type": "execute_result"
    }
   ],
   "source": [
    "# Usual Kraus operators \n",
    "K = np.array([kron(np.eye(d)[i], np.eye(d)[j], np.eye(d)) @ U @ kron(gamma, np.eye(d)).T for i in range(d) for j in range(d)])\n",
    "E2 = np.array([k.conj().T @ k for k in K])\n",
    "np.allclose(np.array([ket.conj() @ e @ ket for e in E2]).real, ak_p)"
   ]
  },
  {
   "cell_type": "code",
   "execution_count": 35,
   "id": "b1c71fb0",
   "metadata": {},
   "outputs": [
    {
     "data": {
      "text/plain": [
       "True"
      ]
     },
     "execution_count": 35,
     "metadata": {},
     "output_type": "execute_result"
    }
   ],
   "source": [
    "# Alternate Kraus operators (sans F)\n",
    "K_sans = np.array([kron(np.eye(d)[i], np.eye(d)[j], np.eye(d)) @ U_sans @ kron(gamma, np.eye(d)).T for i in range(d) for j in range(d)])\n",
    "E_sans = np.array([k.conj().T @ k for k in K_sans])\n",
    "np.allclose(np.array([ket.conj() @ e @ ket for e in E_sans]).real, ak_p)"
   ]
  },
  {
   "cell_type": "code",
   "execution_count": 36,
   "id": "0ebc5777",
   "metadata": {},
   "outputs": [
    {
     "data": {
      "text/plain": [
       "(array([ 0. +0.j,  0.5-0.j, -0. +0.j, -0. +0.j]),\n",
       " array([ 0.354-0.069j,  0.   +0.j   , -0.   +0.j   , -0.   -0.j   ]))"
      ]
     },
     "execution_count": 36,
     "metadata": {},
     "output_type": "execute_result"
    }
   ],
   "source": [
    "np.linalg.eigvals(K[0]), np.linalg.eigvals(K_sans[0])"
   ]
  },
  {
   "cell_type": "code",
   "execution_count": 37,
   "id": "998824a4",
   "metadata": {},
   "outputs": [],
   "source": [
    "rho = np.outer(ket, ket.conj())"
   ]
  },
  {
   "cell_type": "code",
   "execution_count": 38,
   "id": "da581f1b",
   "metadata": {},
   "outputs": [
    {
     "data": {
      "text/plain": [
       "array([[ 0.236-0.j   ,  0.292+0.219j,  0.   -0.098j,  0.194-0.017j],\n",
       "       [ 0.292-0.219j,  0.563+0.j   , -0.091-0.121j,  0.224-0.201j],\n",
       "       [ 0.   +0.098j, -0.091+0.121j,  0.04 -0.j   ,  0.007+0.08j ],\n",
       "       [ 0.194+0.017j,  0.224+0.201j,  0.007-0.08j ,  0.161-0.j   ]])"
      ]
     },
     "execution_count": 38,
     "metadata": {},
     "output_type": "execute_result"
    }
   ],
   "source": [
    "rho0 = (K[0] @ rho @ K[0].conj().T)/(K[0] @ rho @ K[0].conj().T).trace(); rho0"
   ]
  },
  {
   "cell_type": "code",
   "execution_count": 39,
   "id": "0a75d8c2",
   "metadata": {},
   "outputs": [
    {
     "data": {
      "text/plain": [
       "array([[ 0.563+0.j   ,  0.021+0.149j, -0.224-0.201j,  0.361-0.052j],\n",
       "       [ 0.021-0.149j,  0.04 -0.j   , -0.062+0.052j,  0.   -0.098j],\n",
       "       [-0.224+0.201j, -0.062-0.052j,  0.161-0.j   , -0.125+0.149j],\n",
       "       [ 0.361+0.052j,  0.   +0.098j, -0.125-0.149j,  0.236-0.j   ]])"
      ]
     },
     "execution_count": 39,
     "metadata": {},
     "output_type": "execute_result"
    }
   ],
   "source": [
    "rho0_sans = (K_sans[0] @ rho @ K_sans[0].conj().T)/(K_sans[0] @ rho @ K_sans[0].conj().T).trace(); rho0_sans"
   ]
  },
  {
   "cell_type": "code",
   "execution_count": 40,
   "id": "7eb1097c",
   "metadata": {},
   "outputs": [
    {
     "data": {
      "text/plain": [
       "array([[ 0.236-0.j   ,  0.292+0.219j, -0.   -0.098j,  0.194-0.017j],\n",
       "       [ 0.292-0.219j,  0.563+0.j   , -0.091-0.121j,  0.224-0.201j],\n",
       "       [-0.   +0.098j, -0.091+0.121j,  0.04 +0.j   ,  0.007+0.08j ],\n",
       "       [ 0.194+0.017j,  0.224+0.201j,  0.007-0.08j ,  0.161+0.j   ]])"
      ]
     },
     "execution_count": 40,
     "metadata": {},
     "output_type": "execute_result"
    }
   ],
   "source": [
    "E2[0]/E2[0].trace()"
   ]
  },
  {
   "cell_type": "code",
   "execution_count": 41,
   "id": "68ca519f",
   "metadata": {},
   "outputs": [
    {
     "data": {
      "text/plain": [
       "array([[ 0.236+0.j   ,  0.292+0.219j, -0.   -0.098j,  0.194-0.017j],\n",
       "       [ 0.292-0.219j,  0.563-0.j   , -0.091-0.121j,  0.224-0.201j],\n",
       "       [-0.   +0.098j, -0.091+0.121j,  0.04 +0.j   ,  0.007+0.08j ],\n",
       "       [ 0.194+0.017j,  0.224+0.201j,  0.007-0.08j ,  0.161+0.j   ]])"
      ]
     },
     "execution_count": 41,
     "metadata": {},
     "output_type": "execute_result"
    }
   ],
   "source": [
    "E_sans[0]/E_sans[0].trace()"
   ]
  }
 ],
 "metadata": {
  "kernelspec": {
   "display_name": "spring2025",
   "language": "python",
   "name": "python3"
  },
  "language_info": {
   "codemirror_mode": {
    "name": "ipython",
    "version": 3
   },
   "file_extension": ".py",
   "mimetype": "text/x-python",
   "name": "python",
   "nbconvert_exporter": "python",
   "pygments_lexer": "ipython3",
   "version": "3.12.8"
  }
 },
 "nbformat": 4,
 "nbformat_minor": 5
}
