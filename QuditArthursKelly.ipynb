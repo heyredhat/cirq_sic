{
 "cells": [
  {
   "cell_type": "code",
   "execution_count": 1,
   "id": "3b38fee6",
   "metadata": {},
   "outputs": [],
   "source": [
    "import numpy as np\n",
    "np.set_printoptions(precision=3, suppress=True)\n",
    "\n",
    "import cirq \n",
    "from cirq.contrib.svg import SVGCircuit\n",
    "\n",
    "from circuits import *\n",
    "from utils import *"
   ]
  },
  {
   "cell_type": "code",
   "execution_count": 2,
   "id": "3315da60",
   "metadata": {},
   "outputs": [],
   "source": [
    "n = 2\n",
    "t1 = cirq.LineQubit.range(n)\n",
    "t2 = cirq.LineQubit.range(n, 2*n)\n",
    "c = cirq.LineQubit.range(2*n, 3*n)\n",
    "circuit = cirq.Circuit((d4_fiducial(t1, conjugate=True),\\\n",
    "                        d4_fiducial(t2),\\\n",
    "                        AP(t1,t2),\\\n",
    "                        AK(c, t1, t2)),\\\n",
    "                        cirq.measure(*(t1+t2), key=\"result\"),\\\n",
    "                        strategy=cirq.InsertStrategy.NEW_THEN_INLINE)"
   ]
  },
  {
   "cell_type": "code",
   "execution_count": 3,
   "id": "3dad5151",
   "metadata": {},
   "outputs": [
    {
     "data": {
      "image/svg+xml": [
       "<svg xmlns=\"http://www.w3.org/2000/svg\" width=\"5116.0814453124985\" height=\"340.0\"><line x1=\"30.0\" x2=\"5086.0814453124985\" y1=\"45.0\" y2=\"45.0\" stroke=\"#1967d2\" stroke-width=\"1\" /><line x1=\"30.0\" x2=\"5086.0814453124985\" y1=\"95.0\" y2=\"95.0\" stroke=\"#1967d2\" stroke-width=\"1\" /><line x1=\"30.0\" x2=\"5086.0814453124985\" y1=\"145.0\" y2=\"145.0\" stroke=\"#1967d2\" stroke-width=\"1\" /><line x1=\"30.0\" x2=\"5086.0814453124985\" y1=\"195.0\" y2=\"195.0\" stroke=\"#1967d2\" stroke-width=\"1\" /><line x1=\"30.0\" x2=\"5086.0814453124985\" y1=\"245.0\" y2=\"245.0\" stroke=\"#1967d2\" stroke-width=\"1\" /><line x1=\"30.0\" x2=\"5086.0814453124985\" y1=\"295.0\" y2=\"295.0\" stroke=\"#1967d2\" stroke-width=\"1\" /><line x1=\"4400.705937499999\" x2=\"4511.607148437499\" y1=\"5.0\" y2=\"5.0\" stroke=\"black\" stroke-width=\"1\" /><line x1=\"4400.705937499999\" x2=\"4511.607148437499\" y1=\"335.0\" y2=\"335.0\" stroke=\"black\" stroke-width=\"1\" /><line x1=\"3340.3504296874994\" x2=\"3451.2516406249993\" y1=\"5.0\" y2=\"5.0\" stroke=\"black\" stroke-width=\"1\" /><line x1=\"3340.3504296874994\" x2=\"3451.2516406249993\" y1=\"335.0\" y2=\"335.0\" stroke=\"black\" stroke-width=\"1\" /><line x1=\"2535.1501953125003\" x2=\"2640.9996484375\" y1=\"5.0\" y2=\"5.0\" stroke=\"black\" stroke-width=\"1\" /><line x1=\"2535.1501953125003\" x2=\"2640.9996484375\" y1=\"335.0\" y2=\"335.0\" stroke=\"black\" stroke-width=\"1\" /><line x1=\"298.19546875000003\" x2=\"298.19546875000003\" y1=\"45.0\" y2=\"95.0\" stroke=\"black\" stroke-width=\"3\" /><line x1=\"467.34496093750005\" x2=\"467.34496093750005\" y1=\"45.0\" y2=\"95.0\" stroke=\"black\" stroke-width=\"3\" /><line x1=\"622.5354687500001\" x2=\"622.5354687500001\" y1=\"45.0\" y2=\"95.0\" stroke=\"black\" stroke-width=\"3\" /><line x1=\"782.777734375\" x2=\"782.777734375\" y1=\"45.0\" y2=\"95.0\" stroke=\"black\" stroke-width=\"3\" /><line x1=\"902.777734375\" x2=\"902.777734375\" y1=\"45.0\" y2=\"95.0\" stroke=\"black\" stroke-width=\"3\" /><line x1=\"1048.4701171875\" x2=\"1048.4701171875\" y1=\"45.0\" y2=\"95.0\" stroke=\"black\" stroke-width=\"3\" /><line x1=\"1316.6655859375\" x2=\"1316.6655859375\" y1=\"145.0\" y2=\"195.0\" stroke=\"black\" stroke-width=\"3\" /><line x1=\"1485.8150781250001\" x2=\"1485.8150781250001\" y1=\"145.0\" y2=\"195.0\" stroke=\"black\" stroke-width=\"3\" /><line x1=\"1641.0055859375002\" x2=\"1641.0055859375002\" y1=\"145.0\" y2=\"195.0\" stroke=\"black\" stroke-width=\"3\" /><line x1=\"1801.2478515625003\" x2=\"1801.2478515625003\" y1=\"145.0\" y2=\"195.0\" stroke=\"black\" stroke-width=\"3\" /><line x1=\"1921.2478515625003\" x2=\"1921.2478515625003\" y1=\"145.0\" y2=\"195.0\" stroke=\"black\" stroke-width=\"3\" /><line x1=\"2061.8884765625003\" x2=\"2061.8884765625003\" y1=\"145.0\" y2=\"195.0\" stroke=\"black\" stroke-width=\"3\" /><line x1=\"2244.2489843750004\" x2=\"2244.2489843750004\" y1=\"145.0\" y2=\"195.0\" stroke=\"black\" stroke-width=\"3\" /><line x1=\"2374.6995898437503\" x2=\"2374.6995898437503\" y1=\"145.0\" y2=\"195.0\" stroke=\"black\" stroke-width=\"3\" /><line x1=\"2505.1501953125003\" x2=\"2505.1501953125003\" y1=\"95.0\" y2=\"145.0\" stroke=\"black\" stroke-width=\"3\" /><line x1=\"2563.074921875\" x2=\"2563.074921875\" y1=\"95.0\" y2=\"195.0\" stroke=\"black\" stroke-width=\"3\" /><line x1=\"2610.9996484375\" x2=\"2610.9996484375\" y1=\"45.0\" y2=\"145.0\" stroke=\"black\" stroke-width=\"3\" /><line x1=\"2688.924375\" x2=\"2688.924375\" y1=\"45.0\" y2=\"195.0\" stroke=\"black\" stroke-width=\"3\" /><line x1=\"2756.8491015625\" x2=\"2756.8491015625\" y1=\"45.0\" y2=\"145.0\" stroke=\"black\" stroke-width=\"3\" /><line x1=\"2824.773828125\" x2=\"2824.773828125\" y1=\"45.0\" y2=\"195.0\" stroke=\"black\" stroke-width=\"3\" /><line x1=\"2960.6232812499998\" x2=\"2960.6232812499998\" y1=\"45.0\" y2=\"95.0\" stroke=\"black\" stroke-width=\"3\" /><line x1=\"3088.5480078124997\" x2=\"3088.5480078124997\" y1=\"45.0\" y2=\"95.0\" stroke=\"black\" stroke-width=\"3\" /><line x1=\"3158.9986132812496\" x2=\"3158.9986132812496\" y1=\"95.0\" y2=\"245.0\" stroke=\"black\" stroke-width=\"3\" /><line x1=\"3229.4492187499995\" x2=\"3229.4492187499995\" y1=\"45.0\" y2=\"245.0\" stroke=\"black\" stroke-width=\"3\" /><line x1=\"3299.8998242187495\" x2=\"3299.8998242187495\" y1=\"95.0\" y2=\"245.0\" stroke=\"black\" stroke-width=\"3\" /><line x1=\"3360.3504296874994\" x2=\"3360.3504296874994\" y1=\"45.0\" y2=\"245.0\" stroke=\"black\" stroke-width=\"3\" /><line x1=\"3410.8010351562493\" x2=\"3410.8010351562493\" y1=\"95.0\" y2=\"295.0\" stroke=\"black\" stroke-width=\"3\" /><line x1=\"3491.2516406249993\" x2=\"3491.2516406249993\" y1=\"45.0\" y2=\"295.0\" stroke=\"black\" stroke-width=\"3\" /><line x1=\"3551.2516406249993\" x2=\"3551.2516406249993\" y1=\"45.0\" y2=\"95.0\" stroke=\"black\" stroke-width=\"3\" /><line x1=\"3681.702246093749\" x2=\"3681.702246093749\" y1=\"45.0\" y2=\"95.0\" stroke=\"black\" stroke-width=\"3\" /><line x1=\"3752.152851562499\" x2=\"3752.152851562499\" y1=\"245.0\" y2=\"295.0\" stroke=\"black\" stroke-width=\"3\" /><line x1=\"3882.603457031249\" x2=\"3882.603457031249\" y1=\"245.0\" y2=\"295.0\" stroke=\"black\" stroke-width=\"3\" /><line x1=\"4020.978789062499\" x2=\"4020.978789062499\" y1=\"145.0\" y2=\"195.0\" stroke=\"black\" stroke-width=\"3\" /><line x1=\"4148.903515624999\" x2=\"4148.903515624999\" y1=\"145.0\" y2=\"195.0\" stroke=\"black\" stroke-width=\"3\" /><line x1=\"4219.354121093749\" x2=\"4219.354121093749\" y1=\"195.0\" y2=\"245.0\" stroke=\"black\" stroke-width=\"3\" /><line x1=\"4289.804726562499\" x2=\"4289.804726562499\" y1=\"145.0\" y2=\"245.0\" stroke=\"black\" stroke-width=\"3\" /><line x1=\"4360.255332031249\" x2=\"4360.255332031249\" y1=\"195.0\" y2=\"245.0\" stroke=\"black\" stroke-width=\"3\" /><line x1=\"4420.705937499999\" x2=\"4420.705937499999\" y1=\"145.0\" y2=\"245.0\" stroke=\"black\" stroke-width=\"3\" /><line x1=\"4471.156542968749\" x2=\"4471.156542968749\" y1=\"195.0\" y2=\"295.0\" stroke=\"black\" stroke-width=\"3\" /><line x1=\"4551.607148437499\" x2=\"4551.607148437499\" y1=\"145.0\" y2=\"295.0\" stroke=\"black\" stroke-width=\"3\" /><line x1=\"4611.607148437499\" x2=\"4611.607148437499\" y1=\"145.0\" y2=\"195.0\" stroke=\"black\" stroke-width=\"3\" /><line x1=\"4742.057753906249\" x2=\"4742.057753906249\" y1=\"145.0\" y2=\"195.0\" stroke=\"black\" stroke-width=\"3\" /><line x1=\"4880.433085937499\" x2=\"4880.433085937499\" y1=\"245.0\" y2=\"295.0\" stroke=\"black\" stroke-width=\"3\" /><line x1=\"5027.2196289062485\" x2=\"5027.2196289062485\" y1=\"245.0\" y2=\"295.0\" stroke=\"black\" stroke-width=\"3\" /><line x1=\"5027.2196289062485\" x2=\"5027.2196289062485\" y1=\"45.0\" y2=\"195.0\" stroke=\"black\" stroke-width=\"3\" /><line x1=\"4400.705937499999\" x2=\"4400.705937499999\" y1=\"5.0\" y2=\"15.0\" stroke=\"black\" stroke-width=\"3\" /><line x1=\"4511.607148437499\" x2=\"4511.607148437499\" y1=\"5.0\" y2=\"15.0\" stroke=\"black\" stroke-width=\"3\" /><line x1=\"4400.705937499999\" x2=\"4400.705937499999\" y1=\"325.0\" y2=\"335.0\" stroke=\"black\" stroke-width=\"3\" /><line x1=\"4511.607148437499\" x2=\"4511.607148437499\" y1=\"325.0\" y2=\"335.0\" stroke=\"black\" stroke-width=\"3\" /><line x1=\"3340.3504296874994\" x2=\"3340.3504296874994\" y1=\"5.0\" y2=\"15.0\" stroke=\"black\" stroke-width=\"3\" /><line x1=\"3451.2516406249993\" x2=\"3451.2516406249993\" y1=\"5.0\" y2=\"15.0\" stroke=\"black\" stroke-width=\"3\" /><line x1=\"3340.3504296874994\" x2=\"3340.3504296874994\" y1=\"325.0\" y2=\"335.0\" stroke=\"black\" stroke-width=\"3\" /><line x1=\"3451.2516406249993\" x2=\"3451.2516406249993\" y1=\"325.0\" y2=\"335.0\" stroke=\"black\" stroke-width=\"3\" /><line x1=\"2535.1501953125003\" x2=\"2535.1501953125003\" y1=\"5.0\" y2=\"15.0\" stroke=\"black\" stroke-width=\"3\" /><line x1=\"2640.9996484375\" x2=\"2640.9996484375\" y1=\"5.0\" y2=\"15.0\" stroke=\"black\" stroke-width=\"3\" /><line x1=\"2535.1501953125003\" x2=\"2535.1501953125003\" y1=\"325.0\" y2=\"335.0\" stroke=\"black\" stroke-width=\"3\" /><line x1=\"2640.9996484375\" x2=\"2640.9996484375\" y1=\"325.0\" y2=\"335.0\" stroke=\"black\" stroke-width=\"3\" /><rect x=\"10.0\" y=\"25.0\" width=\"40\" height=\"40\" stroke=\"black\" fill=\"white\" stroke-width=\"0\" /><text x=\"30.0\" y=\"45.0\" dominant-baseline=\"middle\" text-anchor=\"middle\" font-size=\"14px\" font-family=\"sans\\-serif:style=normal:variant=normal:weight=normal:stretch=normal:size=10.0\">0: </text><rect x=\"10.0\" y=\"75.0\" width=\"40\" height=\"40\" stroke=\"black\" fill=\"white\" stroke-width=\"0\" /><text x=\"30.0\" y=\"95.0\" dominant-baseline=\"middle\" text-anchor=\"middle\" font-size=\"14px\" font-family=\"sans\\-serif:style=normal:variant=normal:weight=normal:stretch=normal:size=10.0\">1: </text><rect x=\"10.0\" y=\"125.0\" width=\"40\" height=\"40\" stroke=\"black\" fill=\"white\" stroke-width=\"0\" /><text x=\"30.0\" y=\"145.0\" dominant-baseline=\"middle\" text-anchor=\"middle\" font-size=\"14px\" font-family=\"sans\\-serif:style=normal:variant=normal:weight=normal:stretch=normal:size=10.0\">2: </text><rect x=\"10.0\" y=\"175.0\" width=\"40\" height=\"40\" stroke=\"black\" fill=\"white\" stroke-width=\"0\" /><text x=\"30.0\" y=\"195.0\" dominant-baseline=\"middle\" text-anchor=\"middle\" font-size=\"14px\" font-family=\"sans\\-serif:style=normal:variant=normal:weight=normal:stretch=normal:size=10.0\">3: </text><rect x=\"10.0\" y=\"225.0\" width=\"40\" height=\"40\" stroke=\"black\" fill=\"white\" stroke-width=\"0\" /><text x=\"30.0\" y=\"245.0\" dominant-baseline=\"middle\" text-anchor=\"middle\" font-size=\"14px\" font-family=\"sans\\-serif:style=normal:variant=normal:weight=normal:stretch=normal:size=10.0\">4: </text><rect x=\"10.0\" y=\"275.0\" width=\"40\" height=\"40\" stroke=\"black\" fill=\"white\" stroke-width=\"0\" /><text x=\"30.0\" y=\"295.0\" dominant-baseline=\"middle\" text-anchor=\"middle\" font-size=\"14px\" font-family=\"sans\\-serif:style=normal:variant=normal:weight=normal:stretch=normal:size=10.0\">5: </text><rect x=\"70.0\" y=\"25.0\" width=\"84.097734375\" height=\"40\" stroke=\"black\" fill=\"white\" stroke-width=\"1\" /><text x=\"112.04886718750001\" y=\"45.0\" dominant-baseline=\"middle\" text-anchor=\"middle\" font-size=\"14px\" font-family=\"sans\\-serif:style=normal:variant=normal:weight=normal:stretch=normal:size=10.0\">Ry(0.352π)</text><rect x=\"174.09773437500002\" y=\"25.0\" width=\"84.097734375\" height=\"40\" stroke=\"black\" fill=\"white\" stroke-width=\"1\" /><text x=\"216.14660156250002\" y=\"45.0\" dominant-baseline=\"middle\" text-anchor=\"middle\" font-size=\"18px\" font-family=\"sans\\-serif:style=normal:variant=normal:weight=normal:stretch=normal:size=10.0\">X</text><rect x=\"174.09773437500002\" y=\"75.0\" width=\"84.097734375\" height=\"40\" stroke=\"black\" fill=\"white\" stroke-width=\"1\" /><text x=\"216.14660156250002\" y=\"95.0\" dominant-baseline=\"middle\" text-anchor=\"middle\" font-size=\"14px\" font-family=\"sans\\-serif:style=normal:variant=normal:weight=normal:stretch=normal:size=10.0\">Ry(0.144π)</text><circle cx=\"298.19546875000003\" cy=\"45.0\" r=\"10.0\" /><rect x=\"278.19546875000003\" y=\"75.0\" width=\"40\" height=\"40\" stroke=\"black\" fill=\"white\" stroke-width=\"1\" /><text x=\"298.19546875000003\" y=\"95.0\" dominant-baseline=\"middle\" text-anchor=\"middle\" font-size=\"18px\" font-family=\"sans\\-serif:style=normal:variant=normal:weight=normal:stretch=normal:size=10.0\">X</text><rect x=\"338.19546875000003\" y=\"75.0\" width=\"89.1494921875\" height=\"40\" stroke=\"black\" fill=\"white\" stroke-width=\"1\" /><text x=\"382.77021484375\" y=\"95.0\" dominant-baseline=\"middle\" text-anchor=\"middle\" font-size=\"14px\" font-family=\"sans\\-serif:style=normal:variant=normal:weight=normal:stretch=normal:size=10.0\">Ry(-0.144π)</text><circle cx=\"467.34496093750005\" cy=\"45.0\" r=\"10.0\" /><rect x=\"447.34496093750005\" y=\"75.0\" width=\"40\" height=\"40\" stroke=\"black\" fill=\"white\" stroke-width=\"1\" /><text x=\"467.34496093750005\" y=\"95.0\" dominant-baseline=\"middle\" text-anchor=\"middle\" font-size=\"18px\" font-family=\"sans\\-serif:style=normal:variant=normal:weight=normal:stretch=normal:size=10.0\">X</text><rect x=\"507.34496093750005\" y=\"25.0\" width=\"75.1905078125\" height=\"40\" stroke=\"black\" fill=\"white\" stroke-width=\"1\" /><text x=\"544.94021484375\" y=\"45.0\" dominant-baseline=\"middle\" text-anchor=\"middle\" font-size=\"18px\" font-family=\"sans\\-serif:style=normal:variant=normal:weight=normal:stretch=normal:size=10.0\">X</text><rect x=\"507.34496093750005\" y=\"75.0\" width=\"75.1905078125\" height=\"40\" stroke=\"black\" fill=\"white\" stroke-width=\"1\" /><text x=\"544.94021484375\" y=\"95.0\" dominant-baseline=\"middle\" text-anchor=\"middle\" font-size=\"14px\" font-family=\"sans\\-serif:style=normal:variant=normal:weight=normal:stretch=normal:size=10.0\">Ry(0.25π)</text><circle cx=\"622.5354687500001\" cy=\"45.0\" r=\"10.0\" /><rect x=\"602.5354687500001\" y=\"75.0\" width=\"40\" height=\"40\" stroke=\"black\" fill=\"white\" stroke-width=\"1\" /><text x=\"622.5354687500001\" y=\"95.0\" dominant-baseline=\"middle\" text-anchor=\"middle\" font-size=\"18px\" font-family=\"sans\\-serif:style=normal:variant=normal:weight=normal:stretch=normal:size=10.0\">X</text><rect x=\"662.5354687500001\" y=\"75.0\" width=\"80.242265625\" height=\"40\" stroke=\"black\" fill=\"white\" stroke-width=\"1\" /><text x=\"702.6566015625001\" y=\"95.0\" dominant-baseline=\"middle\" text-anchor=\"middle\" font-size=\"14px\" font-family=\"sans\\-serif:style=normal:variant=normal:weight=normal:stretch=normal:size=10.0\">Ry(-0.25π)</text><circle cx=\"782.777734375\" cy=\"45.0\" r=\"10.0\" /><rect x=\"762.777734375\" y=\"75.0\" width=\"40\" height=\"40\" stroke=\"black\" fill=\"white\" stroke-width=\"1\" /><text x=\"782.777734375\" y=\"95.0\" dominant-baseline=\"middle\" text-anchor=\"middle\" font-size=\"18px\" font-family=\"sans\\-serif:style=normal:variant=normal:weight=normal:stretch=normal:size=10.0\">X</text><rect x=\"822.777734375\" y=\"25.0\" width=\"40\" height=\"40\" stroke=\"black\" fill=\"white\" stroke-width=\"1\" /><text x=\"842.777734375\" y=\"45.0\" dominant-baseline=\"middle\" text-anchor=\"middle\" font-size=\"18px\" font-family=\"sans\\-serif:style=normal:variant=normal:weight=normal:stretch=normal:size=10.0\">S</text><circle cx=\"902.777734375\" cy=\"45.0\" r=\"10.0\" /><rect x=\"882.777734375\" y=\"75.0\" width=\"40\" height=\"40\" stroke=\"black\" fill=\"white\" stroke-width=\"1\" /><text x=\"902.777734375\" y=\"95.0\" dominant-baseline=\"middle\" text-anchor=\"middle\" font-size=\"18px\" font-family=\"sans\\-serif:style=normal:variant=normal:weight=normal:stretch=normal:size=10.0\">X</text><rect x=\"942.777734375\" y=\"75.0\" width=\"65.6923828125\" height=\"40\" stroke=\"black\" fill=\"white\" stroke-width=\"1\" /><text x=\"975.62392578125\" y=\"95.0\" dominant-baseline=\"middle\" text-anchor=\"middle\" font-size=\"14px\" font-family=\"sans\\-serif:style=normal:variant=normal:weight=normal:stretch=normal:size=10.0\">Z^-0.75</text><circle cx=\"1048.4701171875\" cy=\"45.0\" r=\"10.0\" /><rect x=\"1028.4701171875\" y=\"75.0\" width=\"40\" height=\"40\" stroke=\"black\" fill=\"white\" stroke-width=\"1\" /><text x=\"1048.4701171875\" y=\"95.0\" dominant-baseline=\"middle\" text-anchor=\"middle\" font-size=\"18px\" font-family=\"sans\\-serif:style=normal:variant=normal:weight=normal:stretch=normal:size=10.0\">X</text><rect x=\"1088.4701171875\" y=\"75.0\" width=\"84.097734375\" height=\"40\" stroke=\"black\" fill=\"white\" stroke-width=\"1\" /><text x=\"1130.518984375\" y=\"95.0\" dominant-baseline=\"middle\" text-anchor=\"middle\" font-size=\"18px\" font-family=\"sans\\-serif:style=normal:variant=normal:weight=normal:stretch=normal:size=10.0\">Z</text><rect x=\"1088.4701171875\" y=\"25.0\" width=\"84.097734375\" height=\"40\" stroke=\"black\" fill=\"white\" stroke-width=\"1\" /><text x=\"1130.518984375\" y=\"45.0\" dominant-baseline=\"middle\" text-anchor=\"middle\" font-size=\"18px\" font-family=\"sans\\-serif:style=normal:variant=normal:weight=normal:stretch=normal:size=10.0\">H</text><rect x=\"1088.4701171875\" y=\"125.0\" width=\"84.097734375\" height=\"40\" stroke=\"black\" fill=\"white\" stroke-width=\"1\" /><text x=\"1130.518984375\" y=\"145.0\" dominant-baseline=\"middle\" text-anchor=\"middle\" font-size=\"14px\" font-family=\"sans\\-serif:style=normal:variant=normal:weight=normal:stretch=normal:size=10.0\">Ry(0.352π)</text><rect x=\"1192.5678515625\" y=\"125.0\" width=\"84.097734375\" height=\"40\" stroke=\"black\" fill=\"white\" stroke-width=\"1\" /><text x=\"1234.61671875\" y=\"145.0\" dominant-baseline=\"middle\" text-anchor=\"middle\" font-size=\"18px\" font-family=\"sans\\-serif:style=normal:variant=normal:weight=normal:stretch=normal:size=10.0\">X</text><rect x=\"1192.5678515625\" y=\"175.0\" width=\"84.097734375\" height=\"40\" stroke=\"black\" fill=\"white\" stroke-width=\"1\" /><text x=\"1234.61671875\" y=\"195.0\" dominant-baseline=\"middle\" text-anchor=\"middle\" font-size=\"14px\" font-family=\"sans\\-serif:style=normal:variant=normal:weight=normal:stretch=normal:size=10.0\">Ry(0.144π)</text><circle cx=\"1316.6655859375\" cy=\"145.0\" r=\"10.0\" /><rect x=\"1296.6655859375\" y=\"175.0\" width=\"40\" height=\"40\" stroke=\"black\" fill=\"white\" stroke-width=\"1\" /><text x=\"1316.6655859375\" y=\"195.0\" dominant-baseline=\"middle\" text-anchor=\"middle\" font-size=\"18px\" font-family=\"sans\\-serif:style=normal:variant=normal:weight=normal:stretch=normal:size=10.0\">X</text><rect x=\"1356.6655859375\" y=\"175.0\" width=\"89.1494921875\" height=\"40\" stroke=\"black\" fill=\"white\" stroke-width=\"1\" /><text x=\"1401.24033203125\" y=\"195.0\" dominant-baseline=\"middle\" text-anchor=\"middle\" font-size=\"14px\" font-family=\"sans\\-serif:style=normal:variant=normal:weight=normal:stretch=normal:size=10.0\">Ry(-0.144π)</text><circle cx=\"1485.8150781250001\" cy=\"145.0\" r=\"10.0\" /><rect x=\"1465.8150781250001\" y=\"175.0\" width=\"40\" height=\"40\" stroke=\"black\" fill=\"white\" stroke-width=\"1\" /><text x=\"1485.8150781250001\" y=\"195.0\" dominant-baseline=\"middle\" text-anchor=\"middle\" font-size=\"18px\" font-family=\"sans\\-serif:style=normal:variant=normal:weight=normal:stretch=normal:size=10.0\">X</text><rect x=\"1525.8150781250001\" y=\"125.0\" width=\"75.1905078125\" height=\"40\" stroke=\"black\" fill=\"white\" stroke-width=\"1\" /><text x=\"1563.4103320312502\" y=\"145.0\" dominant-baseline=\"middle\" text-anchor=\"middle\" font-size=\"18px\" font-family=\"sans\\-serif:style=normal:variant=normal:weight=normal:stretch=normal:size=10.0\">X</text><rect x=\"1525.8150781250001\" y=\"175.0\" width=\"75.1905078125\" height=\"40\" stroke=\"black\" fill=\"white\" stroke-width=\"1\" /><text x=\"1563.4103320312502\" y=\"195.0\" dominant-baseline=\"middle\" text-anchor=\"middle\" font-size=\"14px\" font-family=\"sans\\-serif:style=normal:variant=normal:weight=normal:stretch=normal:size=10.0\">Ry(0.25π)</text><circle cx=\"1641.0055859375002\" cy=\"145.0\" r=\"10.0\" /><rect x=\"1621.0055859375002\" y=\"175.0\" width=\"40\" height=\"40\" stroke=\"black\" fill=\"white\" stroke-width=\"1\" /><text x=\"1641.0055859375002\" y=\"195.0\" dominant-baseline=\"middle\" text-anchor=\"middle\" font-size=\"18px\" font-family=\"sans\\-serif:style=normal:variant=normal:weight=normal:stretch=normal:size=10.0\">X</text><rect x=\"1681.0055859375002\" y=\"175.0\" width=\"80.242265625\" height=\"40\" stroke=\"black\" fill=\"white\" stroke-width=\"1\" /><text x=\"1721.1267187500002\" y=\"195.0\" dominant-baseline=\"middle\" text-anchor=\"middle\" font-size=\"14px\" font-family=\"sans\\-serif:style=normal:variant=normal:weight=normal:stretch=normal:size=10.0\">Ry(-0.25π)</text><circle cx=\"1801.2478515625003\" cy=\"145.0\" r=\"10.0\" /><rect x=\"1781.2478515625003\" y=\"175.0\" width=\"40\" height=\"40\" stroke=\"black\" fill=\"white\" stroke-width=\"1\" /><text x=\"1801.2478515625003\" y=\"195.0\" dominant-baseline=\"middle\" text-anchor=\"middle\" font-size=\"18px\" font-family=\"sans\\-serif:style=normal:variant=normal:weight=normal:stretch=normal:size=10.0\">X</text><rect x=\"1841.2478515625003\" y=\"175.0\" width=\"40\" height=\"40\" stroke=\"black\" fill=\"white\" stroke-width=\"1\" /><text x=\"1861.2478515625003\" y=\"195.0\" dominant-baseline=\"middle\" text-anchor=\"middle\" font-size=\"18px\" font-family=\"sans\\-serif:style=normal:variant=normal:weight=normal:stretch=normal:size=10.0\">Z</text><circle cx=\"1921.2478515625003\" cy=\"145.0\" r=\"10.0\" /><rect x=\"1901.2478515625003\" y=\"175.0\" width=\"40\" height=\"40\" stroke=\"black\" fill=\"white\" stroke-width=\"1\" /><text x=\"1921.2478515625003\" y=\"195.0\" dominant-baseline=\"middle\" text-anchor=\"middle\" font-size=\"18px\" font-family=\"sans\\-serif:style=normal:variant=normal:weight=normal:stretch=normal:size=10.0\">X</text><rect x=\"1961.2478515625003\" y=\"175.0\" width=\"60.640625\" height=\"40\" stroke=\"black\" fill=\"white\" stroke-width=\"1\" /><text x=\"1991.5681640625003\" y=\"195.0\" dominant-baseline=\"middle\" text-anchor=\"middle\" font-size=\"14px\" font-family=\"sans\\-serif:style=normal:variant=normal:weight=normal:stretch=normal:size=10.0\">Z^0.75</text><circle cx=\"2061.8884765625003\" cy=\"145.0\" r=\"10.0\" /><rect x=\"2041.8884765625003\" y=\"175.0\" width=\"40\" height=\"40\" stroke=\"black\" fill=\"white\" stroke-width=\"1\" /><text x=\"2061.8884765625003\" y=\"195.0\" dominant-baseline=\"middle\" text-anchor=\"middle\" font-size=\"18px\" font-family=\"sans\\-serif:style=normal:variant=normal:weight=normal:stretch=normal:size=10.0\">X</text><rect x=\"2101.8884765625003\" y=\"125.0\" width=\"42.3605078125\" height=\"40\" stroke=\"black\" fill=\"white\" stroke-width=\"1\" /><text x=\"2123.0687304687503\" y=\"145.0\" dominant-baseline=\"middle\" text-anchor=\"middle\" font-size=\"14px\" font-family=\"sans\\-serif:style=normal:variant=normal:weight=normal:stretch=normal:size=10.0\">S^-1</text><rect x=\"2164.2489843750004\" y=\"125.0\" width=\"40\" height=\"40\" stroke=\"black\" fill=\"white\" stroke-width=\"1\" /><text x=\"2184.2489843750004\" y=\"145.0\" dominant-baseline=\"middle\" text-anchor=\"middle\" font-size=\"18px\" font-family=\"sans\\-serif:style=normal:variant=normal:weight=normal:stretch=normal:size=10.0\">H</text><text x=\"2244.2489843750004\" y=\"148.0\" dominant-baseline=\"middle\" text-anchor=\"middle\" font-size=\"40px\" font-family=\"sans\\-serif:style=normal:variant=normal:weight=normal:stretch=normal:size=10.0\">×</text><text x=\"2244.2489843750004\" y=\"198.0\" dominant-baseline=\"middle\" text-anchor=\"middle\" font-size=\"40px\" font-family=\"sans\\-serif:style=normal:variant=normal:weight=normal:stretch=normal:size=10.0\">×</text><rect x=\"2284.2489843750004\" y=\"175.0\" width=\"40\" height=\"40\" stroke=\"black\" fill=\"white\" stroke-width=\"1\" /><text x=\"2304.2489843750004\" y=\"195.0\" dominant-baseline=\"middle\" text-anchor=\"middle\" font-size=\"18px\" font-family=\"sans\\-serif:style=normal:variant=normal:weight=normal:stretch=normal:size=10.0\">H</text><rect x=\"2344.2489843750004\" y=\"175.0\" width=\"60.9012109375\" height=\"40\" stroke=\"black\" fill=\"white\" stroke-width=\"1\" /><text x=\"2374.6995898437503\" y=\"195.0\" dominant-baseline=\"middle\" text-anchor=\"middle\" font-size=\"14px\" font-family=\"sans\\-serif:style=normal:variant=normal:weight=normal:stretch=normal:size=10.0\">@^-0.5</text><circle cx=\"2374.6995898437503\" cy=\"145.0\" r=\"10.0\" /><rect x=\"2425.1501953125003\" y=\"125.0\" width=\"40\" height=\"40\" stroke=\"black\" fill=\"white\" stroke-width=\"1\" /><text x=\"2445.1501953125003\" y=\"145.0\" dominant-baseline=\"middle\" text-anchor=\"middle\" font-size=\"18px\" font-family=\"sans\\-serif:style=normal:variant=normal:weight=normal:stretch=normal:size=10.0\">H</text><circle cx=\"2505.1501953125003\" cy=\"95.0\" r=\"10.0\" /><circle cx=\"2505.1501953125003\" cy=\"145.0\" r=\"10.0\" /><circle cx=\"2563.074921875\" cy=\"95.0\" r=\"10.0\" /><rect x=\"2535.1501953125003\" y=\"175.0\" width=\"55.849453125000004\" height=\"40\" stroke=\"black\" fill=\"white\" stroke-width=\"1\" /><text x=\"2563.074921875\" y=\"195.0\" dominant-baseline=\"middle\" text-anchor=\"middle\" font-size=\"14px\" font-family=\"sans\\-serif:style=normal:variant=normal:weight=normal:stretch=normal:size=10.0\">@^0.5</text><circle cx=\"2610.9996484375\" cy=\"45.0\" r=\"10.0\" /><circle cx=\"2610.9996484375\" cy=\"145.0\" r=\"10.0\" /><circle cx=\"2688.924375\" cy=\"45.0\" r=\"10.0\" /><rect x=\"2660.9996484375\" y=\"175.0\" width=\"55.849453125\" height=\"40\" stroke=\"black\" fill=\"white\" stroke-width=\"1\" /><text x=\"2688.924375\" y=\"195.0\" dominant-baseline=\"middle\" text-anchor=\"middle\" font-size=\"14px\" font-family=\"sans\\-serif:style=normal:variant=normal:weight=normal:stretch=normal:size=10.0\">@^0.5</text><circle cx=\"2756.8491015625\" cy=\"45.0\" r=\"10.0\" /><circle cx=\"2756.8491015625\" cy=\"145.0\" r=\"10.0\" /><circle cx=\"2824.773828125\" cy=\"45.0\" r=\"10.0\" /><rect x=\"2796.8491015625\" y=\"175.0\" width=\"55.849453125\" height=\"40\" stroke=\"black\" fill=\"white\" stroke-width=\"1\" /><text x=\"2824.773828125\" y=\"195.0\" dominant-baseline=\"middle\" text-anchor=\"middle\" font-size=\"14px\" font-family=\"sans\\-serif:style=normal:variant=normal:weight=normal:stretch=normal:size=10.0\">@^0.5</text><rect x=\"2872.6985546875\" y=\"25.0\" width=\"40\" height=\"40\" stroke=\"black\" fill=\"white\" stroke-width=\"1\" /><text x=\"2892.6985546875\" y=\"45.0\" dominant-baseline=\"middle\" text-anchor=\"middle\" font-size=\"18px\" font-family=\"sans\\-serif:style=normal:variant=normal:weight=normal:stretch=normal:size=10.0\">H</text><rect x=\"2932.6985546875\" y=\"75.0\" width=\"55.849453125\" height=\"40\" stroke=\"black\" fill=\"white\" stroke-width=\"1\" /><text x=\"2960.6232812499998\" y=\"95.0\" dominant-baseline=\"middle\" text-anchor=\"middle\" font-size=\"14px\" font-family=\"sans\\-serif:style=normal:variant=normal:weight=normal:stretch=normal:size=10.0\">@^0.5</text><circle cx=\"2960.6232812499998\" cy=\"45.0\" r=\"10.0\" /><rect x=\"3008.5480078124997\" y=\"75.0\" width=\"40\" height=\"40\" stroke=\"black\" fill=\"white\" stroke-width=\"1\" /><text x=\"3028.5480078124997\" y=\"95.0\" dominant-baseline=\"middle\" text-anchor=\"middle\" font-size=\"18px\" font-family=\"sans\\-serif:style=normal:variant=normal:weight=normal:stretch=normal:size=10.0\">H</text><text x=\"3088.5480078124997\" y=\"48.0\" dominant-baseline=\"middle\" text-anchor=\"middle\" font-size=\"40px\" font-family=\"sans\\-serif:style=normal:variant=normal:weight=normal:stretch=normal:size=10.0\">×</text><text x=\"3088.5480078124997\" y=\"98.0\" dominant-baseline=\"middle\" text-anchor=\"middle\" font-size=\"40px\" font-family=\"sans\\-serif:style=normal:variant=normal:weight=normal:stretch=normal:size=10.0\">×</text><rect x=\"3128.5480078124997\" y=\"225.0\" width=\"60.9012109375\" height=\"40\" stroke=\"black\" fill=\"white\" stroke-width=\"1\" /><text x=\"3158.9986132812496\" y=\"245.0\" dominant-baseline=\"middle\" text-anchor=\"middle\" font-size=\"14px\" font-family=\"sans\\-serif:style=normal:variant=normal:weight=normal:stretch=normal:size=10.0\">@^-0.5</text><circle cx=\"3158.9986132812496\" cy=\"95.0\" r=\"10.0\" /><circle cx=\"3229.4492187499995\" cy=\"245.0\" r=\"10.0\" /><circle cx=\"3229.4492187499995\" cy=\"45.0\" r=\"10.0\" /><rect x=\"3269.4492187499995\" y=\"225.0\" width=\"60.9012109375\" height=\"40\" stroke=\"black\" fill=\"white\" stroke-width=\"1\" /><text x=\"3299.8998242187495\" y=\"245.0\" dominant-baseline=\"middle\" text-anchor=\"middle\" font-size=\"14px\" font-family=\"sans\\-serif:style=normal:variant=normal:weight=normal:stretch=normal:size=10.0\">@^-0.5</text><circle cx=\"3299.8998242187495\" cy=\"95.0\" r=\"10.0\" /><circle cx=\"3360.3504296874994\" cy=\"245.0\" r=\"10.0\" /><circle cx=\"3360.3504296874994\" cy=\"45.0\" r=\"10.0\" /><rect x=\"3380.3504296874994\" y=\"275.0\" width=\"60.901210937500004\" height=\"40\" stroke=\"black\" fill=\"white\" stroke-width=\"1\" /><text x=\"3410.8010351562493\" y=\"295.0\" dominant-baseline=\"middle\" text-anchor=\"middle\" font-size=\"14px\" font-family=\"sans\\-serif:style=normal:variant=normal:weight=normal:stretch=normal:size=10.0\">@^-0.5</text><circle cx=\"3410.8010351562493\" cy=\"95.0\" r=\"10.0\" /><circle cx=\"3491.2516406249993\" cy=\"295.0\" r=\"10.0\" /><circle cx=\"3491.2516406249993\" cy=\"45.0\" r=\"10.0\" /><text x=\"3551.2516406249993\" y=\"48.0\" dominant-baseline=\"middle\" text-anchor=\"middle\" font-size=\"40px\" font-family=\"sans\\-serif:style=normal:variant=normal:weight=normal:stretch=normal:size=10.0\">×</text><text x=\"3551.2516406249993\" y=\"98.0\" dominant-baseline=\"middle\" text-anchor=\"middle\" font-size=\"40px\" font-family=\"sans\\-serif:style=normal:variant=normal:weight=normal:stretch=normal:size=10.0\">×</text><rect x=\"3591.2516406249993\" y=\"75.0\" width=\"40\" height=\"40\" stroke=\"black\" fill=\"white\" stroke-width=\"1\" /><text x=\"3611.2516406249993\" y=\"95.0\" dominant-baseline=\"middle\" text-anchor=\"middle\" font-size=\"18px\" font-family=\"sans\\-serif:style=normal:variant=normal:weight=normal:stretch=normal:size=10.0\">H</text><rect x=\"3651.2516406249993\" y=\"75.0\" width=\"60.9012109375\" height=\"40\" stroke=\"black\" fill=\"white\" stroke-width=\"1\" /><text x=\"3681.702246093749\" y=\"95.0\" dominant-baseline=\"middle\" text-anchor=\"middle\" font-size=\"14px\" font-family=\"sans\\-serif:style=normal:variant=normal:weight=normal:stretch=normal:size=10.0\">@^-0.5</text><circle cx=\"3681.702246093749\" cy=\"45.0\" r=\"10.0\" /><rect x=\"3732.152851562499\" y=\"25.0\" width=\"40\" height=\"40\" stroke=\"black\" fill=\"white\" stroke-width=\"1\" /><text x=\"3752.152851562499\" y=\"45.0\" dominant-baseline=\"middle\" text-anchor=\"middle\" font-size=\"18px\" font-family=\"sans\\-serif:style=normal:variant=normal:weight=normal:stretch=normal:size=10.0\">H</text><text x=\"3752.152851562499\" y=\"248.0\" dominant-baseline=\"middle\" text-anchor=\"middle\" font-size=\"40px\" font-family=\"sans\\-serif:style=normal:variant=normal:weight=normal:stretch=normal:size=10.0\">×</text><text x=\"3752.152851562499\" y=\"298.0\" dominant-baseline=\"middle\" text-anchor=\"middle\" font-size=\"40px\" font-family=\"sans\\-serif:style=normal:variant=normal:weight=normal:stretch=normal:size=10.0\">×</text><rect x=\"3792.152851562499\" y=\"275.0\" width=\"40\" height=\"40\" stroke=\"black\" fill=\"white\" stroke-width=\"1\" /><text x=\"3812.152851562499\" y=\"295.0\" dominant-baseline=\"middle\" text-anchor=\"middle\" font-size=\"18px\" font-family=\"sans\\-serif:style=normal:variant=normal:weight=normal:stretch=normal:size=10.0\">H</text><rect x=\"3852.152851562499\" y=\"275.0\" width=\"60.9012109375\" height=\"40\" stroke=\"black\" fill=\"white\" stroke-width=\"1\" /><text x=\"3882.603457031249\" y=\"295.0\" dominant-baseline=\"middle\" text-anchor=\"middle\" font-size=\"14px\" font-family=\"sans\\-serif:style=normal:variant=normal:weight=normal:stretch=normal:size=10.0\">@^-0.5</text><circle cx=\"3882.603457031249\" cy=\"245.0\" r=\"10.0\" /><rect x=\"3933.054062499999\" y=\"225.0\" width=\"40\" height=\"40\" stroke=\"black\" fill=\"white\" stroke-width=\"1\" /><text x=\"3953.054062499999\" y=\"245.0\" dominant-baseline=\"middle\" text-anchor=\"middle\" font-size=\"18px\" font-family=\"sans\\-serif:style=normal:variant=normal:weight=normal:stretch=normal:size=10.0\">H</text><rect x=\"3933.054062499999\" y=\"125.0\" width=\"40\" height=\"40\" stroke=\"black\" fill=\"white\" stroke-width=\"1\" /><text x=\"3953.054062499999\" y=\"145.0\" dominant-baseline=\"middle\" text-anchor=\"middle\" font-size=\"18px\" font-family=\"sans\\-serif:style=normal:variant=normal:weight=normal:stretch=normal:size=10.0\">H</text><rect x=\"3993.054062499999\" y=\"175.0\" width=\"55.849453125\" height=\"40\" stroke=\"black\" fill=\"white\" stroke-width=\"1\" /><text x=\"4020.978789062499\" y=\"195.0\" dominant-baseline=\"middle\" text-anchor=\"middle\" font-size=\"14px\" font-family=\"sans\\-serif:style=normal:variant=normal:weight=normal:stretch=normal:size=10.0\">@^0.5</text><circle cx=\"4020.978789062499\" cy=\"145.0\" r=\"10.0\" /><rect x=\"4068.903515624999\" y=\"175.0\" width=\"40\" height=\"40\" stroke=\"black\" fill=\"white\" stroke-width=\"1\" /><text x=\"4088.903515624999\" y=\"195.0\" dominant-baseline=\"middle\" text-anchor=\"middle\" font-size=\"18px\" font-family=\"sans\\-serif:style=normal:variant=normal:weight=normal:stretch=normal:size=10.0\">H</text><text x=\"4148.903515624999\" y=\"148.0\" dominant-baseline=\"middle\" text-anchor=\"middle\" font-size=\"40px\" font-family=\"sans\\-serif:style=normal:variant=normal:weight=normal:stretch=normal:size=10.0\">×</text><text x=\"4148.903515624999\" y=\"198.0\" dominant-baseline=\"middle\" text-anchor=\"middle\" font-size=\"40px\" font-family=\"sans\\-serif:style=normal:variant=normal:weight=normal:stretch=normal:size=10.0\">×</text><rect x=\"4188.903515624999\" y=\"225.0\" width=\"60.9012109375\" height=\"40\" stroke=\"black\" fill=\"white\" stroke-width=\"1\" /><text x=\"4219.354121093749\" y=\"245.0\" dominant-baseline=\"middle\" text-anchor=\"middle\" font-size=\"14px\" font-family=\"sans\\-serif:style=normal:variant=normal:weight=normal:stretch=normal:size=10.0\">@^-0.5</text><circle cx=\"4219.354121093749\" cy=\"195.0\" r=\"10.0\" /><circle cx=\"4289.804726562499\" cy=\"245.0\" r=\"10.0\" /><circle cx=\"4289.804726562499\" cy=\"145.0\" r=\"10.0\" /><rect x=\"4329.804726562499\" y=\"225.0\" width=\"60.9012109375\" height=\"40\" stroke=\"black\" fill=\"white\" stroke-width=\"1\" /><text x=\"4360.255332031249\" y=\"245.0\" dominant-baseline=\"middle\" text-anchor=\"middle\" font-size=\"14px\" font-family=\"sans\\-serif:style=normal:variant=normal:weight=normal:stretch=normal:size=10.0\">@^-0.5</text><circle cx=\"4360.255332031249\" cy=\"195.0\" r=\"10.0\" /><circle cx=\"4420.705937499999\" cy=\"245.0\" r=\"10.0\" /><circle cx=\"4420.705937499999\" cy=\"145.0\" r=\"10.0\" /><rect x=\"4440.705937499999\" y=\"275.0\" width=\"60.901210937500004\" height=\"40\" stroke=\"black\" fill=\"white\" stroke-width=\"1\" /><text x=\"4471.156542968749\" y=\"295.0\" dominant-baseline=\"middle\" text-anchor=\"middle\" font-size=\"14px\" font-family=\"sans\\-serif:style=normal:variant=normal:weight=normal:stretch=normal:size=10.0\">@^-0.5</text><circle cx=\"4471.156542968749\" cy=\"195.0\" r=\"10.0\" /><circle cx=\"4551.607148437499\" cy=\"295.0\" r=\"10.0\" /><circle cx=\"4551.607148437499\" cy=\"145.0\" r=\"10.0\" /><text x=\"4611.607148437499\" y=\"148.0\" dominant-baseline=\"middle\" text-anchor=\"middle\" font-size=\"40px\" font-family=\"sans\\-serif:style=normal:variant=normal:weight=normal:stretch=normal:size=10.0\">×</text><text x=\"4611.607148437499\" y=\"198.0\" dominant-baseline=\"middle\" text-anchor=\"middle\" font-size=\"40px\" font-family=\"sans\\-serif:style=normal:variant=normal:weight=normal:stretch=normal:size=10.0\">×</text><rect x=\"4651.607148437499\" y=\"175.0\" width=\"40\" height=\"40\" stroke=\"black\" fill=\"white\" stroke-width=\"1\" /><text x=\"4671.607148437499\" y=\"195.0\" dominant-baseline=\"middle\" text-anchor=\"middle\" font-size=\"18px\" font-family=\"sans\\-serif:style=normal:variant=normal:weight=normal:stretch=normal:size=10.0\">H</text><rect x=\"4711.607148437499\" y=\"175.0\" width=\"60.9012109375\" height=\"40\" stroke=\"black\" fill=\"white\" stroke-width=\"1\" /><text x=\"4742.057753906249\" y=\"195.0\" dominant-baseline=\"middle\" text-anchor=\"middle\" font-size=\"14px\" font-family=\"sans\\-serif:style=normal:variant=normal:weight=normal:stretch=normal:size=10.0\">@^-0.5</text><circle cx=\"4742.057753906249\" cy=\"145.0\" r=\"10.0\" /><rect x=\"4792.508359374999\" y=\"125.0\" width=\"40\" height=\"40\" stroke=\"black\" fill=\"white\" stroke-width=\"1\" /><text x=\"4812.508359374999\" y=\"145.0\" dominant-baseline=\"middle\" text-anchor=\"middle\" font-size=\"18px\" font-family=\"sans\\-serif:style=normal:variant=normal:weight=normal:stretch=normal:size=10.0\">H</text><rect x=\"4792.508359374999\" y=\"225.0\" width=\"40\" height=\"40\" stroke=\"black\" fill=\"white\" stroke-width=\"1\" /><text x=\"4812.508359374999\" y=\"245.0\" dominant-baseline=\"middle\" text-anchor=\"middle\" font-size=\"18px\" font-family=\"sans\\-serif:style=normal:variant=normal:weight=normal:stretch=normal:size=10.0\">H</text><rect x=\"4852.508359374999\" y=\"275.0\" width=\"55.849453125\" height=\"40\" stroke=\"black\" fill=\"white\" stroke-width=\"1\" /><text x=\"4880.433085937499\" y=\"295.0\" dominant-baseline=\"middle\" text-anchor=\"middle\" font-size=\"14px\" font-family=\"sans\\-serif:style=normal:variant=normal:weight=normal:stretch=normal:size=10.0\">@^0.5</text><circle cx=\"4880.433085937499\" cy=\"245.0\" r=\"10.0\" /><rect x=\"4928.3578124999985\" y=\"275.0\" width=\"40\" height=\"40\" stroke=\"black\" fill=\"white\" stroke-width=\"1\" /><text x=\"4948.3578124999985\" y=\"295.0\" dominant-baseline=\"middle\" text-anchor=\"middle\" font-size=\"18px\" font-family=\"sans\\-serif:style=normal:variant=normal:weight=normal:stretch=normal:size=10.0\">H</text><text x=\"5027.2196289062485\" y=\"248.0\" dominant-baseline=\"middle\" text-anchor=\"middle\" font-size=\"40px\" font-family=\"sans\\-serif:style=normal:variant=normal:weight=normal:stretch=normal:size=10.0\">×</text><text x=\"5027.2196289062485\" y=\"298.0\" dominant-baseline=\"middle\" text-anchor=\"middle\" font-size=\"40px\" font-family=\"sans\\-serif:style=normal:variant=normal:weight=normal:stretch=normal:size=10.0\">×</text><rect x=\"4988.3578124999985\" y=\"25.0\" width=\"77.7236328125\" height=\"40\" stroke=\"black\" fill=\"white\" stroke-width=\"1\" /><text x=\"5027.2196289062485\" y=\"45.0\" dominant-baseline=\"middle\" text-anchor=\"middle\" font-size=\"14px\" font-family=\"sans\\-serif:style=normal:variant=normal:weight=normal:stretch=normal:size=10.0\">M('result')</text><rect x=\"4988.3578124999985\" y=\"75.0\" width=\"77.7236328125\" height=\"40\" stroke=\"black\" fill=\"white\" stroke-width=\"1\" /><text x=\"5027.2196289062485\" y=\"95.0\" dominant-baseline=\"middle\" text-anchor=\"middle\" font-size=\"18px\" font-family=\"sans\\-serif:style=normal:variant=normal:weight=normal:stretch=normal:size=10.0\">M</text><rect x=\"4988.3578124999985\" y=\"125.0\" width=\"77.7236328125\" height=\"40\" stroke=\"black\" fill=\"white\" stroke-width=\"1\" /><text x=\"5027.2196289062485\" y=\"145.0\" dominant-baseline=\"middle\" text-anchor=\"middle\" font-size=\"18px\" font-family=\"sans\\-serif:style=normal:variant=normal:weight=normal:stretch=normal:size=10.0\">M</text><rect x=\"4988.3578124999985\" y=\"175.0\" width=\"77.7236328125\" height=\"40\" stroke=\"black\" fill=\"white\" stroke-width=\"1\" /><text x=\"5027.2196289062485\" y=\"195.0\" dominant-baseline=\"middle\" text-anchor=\"middle\" font-size=\"18px\" font-family=\"sans\\-serif:style=normal:variant=normal:weight=normal:stretch=normal:size=10.0\">M</text></svg>"
      ],
      "text/plain": [
       "<cirq.contrib.svg.svg.SVGCircuit at 0x11bc3af60>"
      ]
     },
     "execution_count": 3,
     "metadata": {},
     "output_type": "execute_result"
    }
   ],
   "source": [
    "SVGCircuit(circuit)"
   ]
  },
  {
   "cell_type": "code",
   "execution_count": 4,
   "id": "a1fd56a0",
   "metadata": {},
   "outputs": [
    {
     "data": {
      "text/plain": [
       "array([0.143, 0.141, 0.141, 0.141, 0.01 , 0.01 , 0.01 , 0.011, 0.04 ,\n",
       "       0.04 , 0.041, 0.039, 0.058, 0.058, 0.059, 0.057])"
      ]
     },
     "execution_count": 4,
     "metadata": {},
     "output_type": "execute_result"
    }
   ],
   "source": [
    "N = 100000\n",
    "s = cirq.Simulator()\n",
    "samples = s.run(circuit, repetitions=N)\n",
    "counts = samples.histogram(key=\"result\")\n",
    "freqs =  np.array([v for k, v in sorted(counts.items())])/N\n",
    "freqs"
   ]
  },
  {
   "cell_type": "code",
   "execution_count": 5,
   "id": "3c99d9f2",
   "metadata": {},
   "outputs": [
    {
     "data": {
      "text/plain": [
       "array([0.141, 0.141, 0.141, 0.141, 0.01 , 0.01 , 0.01 , 0.01 , 0.04 ,\n",
       "       0.04 , 0.04 , 0.04 , 0.059, 0.059, 0.059, 0.059])"
      ]
     },
     "execution_count": 5,
     "metadata": {},
     "output_type": "execute_result"
    }
   ],
   "source": [
    "d = 2**n\n",
    "E = wh_povm(d4_fiducial_ket())\n",
    "rho0 = np.outer(np.eye(d)[0], np.eye(d)[0]) # The |0,0> state\n",
    "p = np.array([(e@rho0).trace() for e in E]).real; p"
   ]
  },
  {
   "cell_type": "markdown",
   "id": "5f944a40",
   "metadata": {},
   "source": [
    "## Gate counts"
   ]
  },
  {
   "cell_type": "code",
   "execution_count": 8,
   "id": "c55925f6",
   "metadata": {},
   "outputs": [
    {
     "name": "stdout",
     "output_type": "stream",
     "text": [
      "--- Gate Counts (by type) ---\n",
      "Ry: 5\n",
      "_PauliX: 2\n",
      "CXPowGate: 6\n",
      "ZPowGate: 3\n",
      "HPowGate: 1\n"
     ]
    }
   ],
   "source": [
    "fiducial_circuit = cirq.Circuit((d4_fiducial(t1)))\n",
    "get_gate_counts(fiducial_circuit)"
   ]
  },
  {
   "cell_type": "code",
   "execution_count": 9,
   "id": "28e81c93",
   "metadata": {},
   "outputs": [
    {
     "name": "stdout",
     "output_type": "stream",
     "text": [
      "--- Gate Counts (by type) ---\n",
      "SwapPowGate: 1\n",
      "HPowGate: 2\n",
      "CZPowGate: 7\n"
     ]
    }
   ],
   "source": [
    "ancilla_prep_circuit = cirq.Circuit((AP(t1,t2)))\n",
    "get_gate_counts(ancilla_prep_circuit)"
   ]
  },
  {
   "cell_type": "code",
   "execution_count": 11,
   "id": "a90435d7",
   "metadata": {},
   "outputs": [
    {
     "name": "stdout",
     "output_type": "stream",
     "text": [
      "--- Gate Counts (by type) ---\n",
      "HPowGate: 12\n",
      "CZPowGate: 18\n",
      "SwapPowGate: 6\n"
     ]
    }
   ],
   "source": [
    "ak_circuit = cirq.Circuit((AK(c, t1, t2)))\n",
    "get_gate_counts(ak_circuit)"
   ]
  },
  {
   "cell_type": "code",
   "execution_count": 12,
   "id": "812a5673",
   "metadata": {},
   "outputs": [
    {
     "name": "stdout",
     "output_type": "stream",
     "text": [
      "--- Gate Counts (by type) ---\n",
      "Ry: 10\n",
      "_PauliX: 4\n",
      "CXPowGate: 12\n",
      "ZPowGate: 6\n",
      "HPowGate: 16\n",
      "SwapPowGate: 7\n",
      "CZPowGate: 25\n",
      "MeasurementGate: 1\n"
     ]
    }
   ],
   "source": [
    "get_gate_counts(circuit)"
   ]
  },
  {
   "cell_type": "code",
   "execution_count": 14,
   "id": "b71f23c6",
   "metadata": {},
   "outputs": [
    {
     "data": {
      "text/plain": [
       "68"
      ]
     },
     "execution_count": 14,
     "metadata": {},
     "output_type": "execute_result"
    }
   ],
   "source": [
    "len(circuit.moments)"
   ]
  }
 ],
 "metadata": {
  "kernelspec": {
   "display_name": "spring2025",
   "language": "python",
   "name": "python3"
  },
  "language_info": {
   "codemirror_mode": {
    "name": "ipython",
    "version": 3
   },
   "file_extension": ".py",
   "mimetype": "text/x-python",
   "name": "python",
   "nbconvert_exporter": "python",
   "pygments_lexer": "ipython3",
   "version": "3.12.8"
  }
 },
 "nbformat": 4,
 "nbformat_minor": 5
}
