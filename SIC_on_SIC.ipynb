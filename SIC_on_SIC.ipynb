{
 "cells": [
  {
   "cell_type": "code",
   "execution_count": 1,
   "id": "28d9b98b",
   "metadata": {},
   "outputs": [],
   "source": [
    "import pickle \n",
    "\n",
    "import numpy as np\n",
    "np.set_printoptions(precision=3, suppress=True)\n",
    "\n",
    "import cirq \n",
    "import cirq_google\n",
    "import qsimcirq\n",
    "\n",
    "from circuits import *\n",
    "from utils import *\n",
    "\n",
    "import matplotlib.pyplot as plt"
   ]
  },
  {
   "cell_type": "markdown",
   "id": "0bc1537b",
   "metadata": {},
   "source": [
    "## Initializing the simulator"
   ]
  },
  {
   "cell_type": "code",
   "execution_count": 105,
   "id": "f08cbd17",
   "metadata": {},
   "outputs": [],
   "source": [
    "processor_id = \"willow_pink\"\n",
    "device = cirq_google.engine.create_device_from_processor_id(processor_id)\n",
    "gateset = device.metadata.compilation_target_gatesets[0]\n",
    "connectivity_graph = device.metadata.nx_graph\n",
    "\n",
    "noise_props = cirq_google.engine.load_device_noise_properties(processor_id)\n",
    "noise_model = cirq_google.NoiseModelFromGoogleNoiseProperties(noise_props)\n",
    "sim = qsimcirq.QSimSimulator(noise=noise_model)\n",
    "cal = cirq_google.engine.load_median_device_calibration(processor_id)\n",
    "sim_processor = cirq_google.engine.SimulatedLocalProcessor(\n",
    "    processor_id=processor_id, sampler=sim, device=device, calibrations={cal.timestamp // 1000: cal})\n",
    "sim_engine = cirq_google.engine.SimulatedLocalEngine([sim_processor])\n",
    "\n",
    "def process_circuit(circuit, mapping, connectivity_graph, gateset):\n",
    "    router = cirq.RouteCQC(connectivity_graph)\n",
    "    routed_circuit, initial_map, final_map =\\\n",
    "        router.route_circuit(circuit, initial_mapper=cirq.HardCodedInitialMapper(mapping))\n",
    "    optimized_circuit = cirq.optimize_for_target_gateset(routed_circuit,\\\n",
    "                                context=cirq.TransformerContext(deep=True), gateset=gateset)\n",
    "    device.validate_circuit(optimized_circuit)\n",
    "    logical_to_physical_qubits = dict([(k, final_map[v]) for k, v in initial_map.items()])\n",
    "    return optimized_circuit, logical_to_physical_qubits\n",
    "\n",
    "def noisy_simulation(sim_engine, processor_id, circuit, N=10000, n_outcomes=None):\n",
    "    samples = sim_engine.get_sampler(processor_id).run(circuit, repetitions=N)\n",
    "    counts = samples.histogram(key=\"result\")\n",
    "    if type(n_outcomes) != None:\n",
    "        for i in range(n_outcomes):\n",
    "            if i not in counts:\n",
    "                counts[i] = 0\n",
    "    noisy_freqs = np.array([v for k, v in sorted(counts.items())])/N\n",
    "    return noisy_freqs"
   ]
  },
  {
   "cell_type": "markdown",
   "id": "3f73cae1",
   "metadata": {},
   "source": [
    "## Simple sky/ground circuits\n",
    "\n",
    "Background: Do a SIC measurement on each SIC state, to get $P$ and $\\Phi=P^{-1}$.\n",
    "\n",
    "Ground: Prepare the |0> state, and do a computational basis measurement to get $q$.\n",
    "\n",
    "Sky: \n",
    "1. Prepare the |0> state, and do a SIC to get $p$.\n",
    "2. For each SIC state, do a computational basis measurement to get $C$.\n",
    "\n",
    "We should have:\n",
    "\n",
    "$$ q = C \\Phi p $$"
   ]
  },
  {
   "cell_type": "code",
   "execution_count": 3,
   "id": "3be88ec6",
   "metadata": {},
   "outputs": [],
   "source": [
    "n = 2\n",
    "d = 2**n\n",
    "P_sic = np.array([[(d*(1 if i == j else 0) + 1)/(d*(d+1)) for j in range(d**2)] for i in range(d**2)])\n",
    "Phi_sic = np.linalg.inv(P_sic)"
   ]
  },
  {
   "cell_type": "code",
   "execution_count": null,
   "id": "bf987894",
   "metadata": {},
   "outputs": [],
   "source": [
    "q = cirq.LineQubit.range(2*n)\n",
    "A, B = q[:n], q[n:2*n]\n",
    "\n",
    "def sic_state(A, a1, a2):\n",
    "    yield d4_fiducial(A)\n",
    "    for i in range(a2):\n",
    "        yield Z(A)\n",
    "    for j in range(a1):\n",
    "        yield X(A)\n",
    "\n",
    "def simple_ak(A, B):\n",
    "    yield d4_fiducial(B, conjugate=True)\n",
    "    yield CXdag(B, A)\n",
    "    yield Fdag(B)\n",
    "    yield cirq.measure(*(A+B), key=\"result\")\n",
    "\n",
    "def sic_on_sic(A, B, a1, a2):\n",
    "    yield sic_state(A, a1, a2)\n",
    "    yield simple_ak(A, B)\n",
    "\n",
    "def sic_on_state(A, B):\n",
    "    # 0 state\n",
    "    yield simple_ak(A, B)\n",
    "\n",
    "def povm_on_sic(A, a1, a2):\n",
    "    yield sic_state(A, a1, a2)\n",
    "    yield cirq.measure(A, key=\"result\") # basis measurement\n",
    "\n",
    "def povm_on_state(A):\n",
    "    # 0 state\n",
    "    yield cirq.measure(A, key=\"result\") # basis measurement"
   ]
  },
  {
   "cell_type": "markdown",
   "id": "61948228",
   "metadata": {},
   "source": [
    "## Sky/ground experiments"
   ]
  },
  {
   "cell_type": "code",
   "execution_count": null,
   "id": "6b2db8b0",
   "metadata": {},
   "outputs": [],
   "source": [
    "mapping = {A[0]: cirq.GridQubit(5,9),\\\n",
    "           A[1]: cirq.GridQubit(6,9),\\\n",
    "           B[0]: cirq.GridQubit(5,10),\\\n",
    "           B[1]: cirq.GridQubit(6,10)}\n",
    "\n",
    "def sic_on_sic_experiment(N):\n",
    "    results = []\n",
    "    for a1 in range(d):\n",
    "        for a2 in range(d):\n",
    "            circuit, qubit_map = process_circuit(cirq.Circuit(sic_on_sic(A, B, a1, a2)), mapping, connectivity_graph, gateset)\n",
    "            results.append(noisy_simulation(sim_engine, processor_id, circuit, N=N, n_outcomes=d**2))\n",
    "    P = np.array(results)\n",
    "    Phi = np.linalg.inv(P)\n",
    "    data = {\"N\": N, \"P\": P, \"Phi\": Phi, \"simple_circuit\": True,\\\n",
    "            \"err\": {\"|P - P_sic|\": np.linalg.norm(P - P_sic),\\\n",
    "                    \"|Phi - Phi_sic|\": np.linalg.norm(Phi - Phi_sic),\\\n",
    "                    \"|I - Phi|\": np.linalg.norm(np.eye(d**2) - Phi),\\\n",
    "                    \"|I - Phi_sic|\": np.linalg.norm(np.eye(d**2) - Phi_sic)}}\n",
    "    with open(\"data/simple_sic_on_sic_N%d.pkl\" % N, \"wb\") as f:\n",
    "        pickle.dump(data, f)   \n",
    "    return data\n",
    "\n",
    "def sic_on_state_experiment(N):\n",
    "    circuit, qubit_map = process_circuit(cirq.Circuit(sic_on_state(A, B)), mapping, connectivity_graph, gateset)\n",
    "    p = noisy_simulation(sim_engine, processor_id, circuit, N=N, n_outcomes=d**2)\n",
    "    data = {\"N\": N, \"p\": p}\n",
    "    with open(\"data/simple_sic_on_state_N%d.pkl\" % N, \"wb\") as f:\n",
    "        pickle.dump(data, f)   \n",
    "    return data\n",
    "\n",
    "def povm_on_sic_experiment(N):\n",
    "    results = []\n",
    "    for a1 in range(d):\n",
    "        for a2 in range(d):\n",
    "            circuit, qubit_map = process_circuit(cirq.Circuit(povm_on_sic(A, a1, a2)), mapping, connectivity_graph, gateset)\n",
    "            results.append(noisy_simulation(sim_engine, processor_id, circuit, N=N, n_outcomes=d))\n",
    "    C = np.array(results).T\n",
    "    data = {\"N\": N, \"C\": C}\n",
    "    with open(\"data/simple_povm_on_sic_N%d.pkl\" % N, \"wb\") as f:\n",
    "        pickle.dump(data, f)   \n",
    "    return data\n",
    "\n",
    "def povm_on_state_experiment(N):\n",
    "    circuit, qubit_map = process_circuit(cirq.Circuit(povm_on_state(A)), mapping, connectivity_graph, gateset)\n",
    "    p = noisy_simulation(sim_engine, processor_id, circuit, N=N, n_outcomes=d)\n",
    "    data = {\"N\": N, \"q\": p}\n",
    "    with open(\"data/simple_povm_on_state_N%d.pkl\" % N, \"wb\") as f:\n",
    "        pickle.dump(data, f)   \n",
    "    return data"
   ]
  },
  {
   "cell_type": "markdown",
   "id": "9aa30cb0",
   "metadata": {},
   "source": [
    "## How good is P as a function of N?"
   ]
  },
  {
   "cell_type": "code",
   "execution_count": 25,
   "id": "54aaf281",
   "metadata": {},
   "outputs": [],
   "source": [
    "data = sic_on_sic_experiment(20000)"
   ]
  },
  {
   "cell_type": "code",
   "execution_count": 74,
   "id": "3ee843cb",
   "metadata": {},
   "outputs": [
    {
     "name": "stdout",
     "output_type": "stream",
     "text": [
      "N: 1000\n",
      "|P - P_sic|: 0.277744\n",
      "|Phi - Phi_sic|: 9.620661\n",
      "|I - Phi|: 21.050341\n",
      "|I - Phi_sic|: 15.491933\n",
      "|P_sym - P_sic|: 0.196766\n",
      "\n",
      "N: 5000\n",
      "|P - P_sic|: 0.247965\n",
      "|Phi - Phi_sic|: 8.209092\n",
      "|I - Phi|: 20.437388\n",
      "|I - Phi_sic|: 15.491933\n",
      "|P_sym - P_sic|: 0.179474\n",
      "\n",
      "N: 10000\n",
      "|P - P_sic|: 0.254331\n",
      "|Phi - Phi_sic|: 8.688257\n",
      "|I - Phi|: 20.950817\n",
      "|I - Phi_sic|: 15.491933\n",
      "|P_sym - P_sic|: 0.186931\n",
      "\n",
      "N: 20000\n",
      "|P - P_sic|: 0.251227\n",
      "|Phi - Phi_sic|: 8.435793\n",
      "|I - Phi|: 20.794731\n",
      "|I - Phi_sic|: 15.491933\n",
      "|P_sym - P_sic|: 0.184802\n",
      "\n"
     ]
    }
   ],
   "source": [
    "N_values = [1000, 5000, 10000, 20000]\n",
    "data_sets = {}\n",
    "for N in N_values:\n",
    "    with open(\"data/simple_sic_on_sic_N%d.pkl\" % N, \"rb\") as f:\n",
    "        data = pickle.load(f)\n",
    "        data_sets[N] = data\n",
    "        print(\"N: %d\" % data[\"N\"])\n",
    "        for k, v in data[\"err\"].items():\n",
    "            print(\"%s: %f\" % (k, v))\n",
    "        Psym = symmetrize(data[\"P\"])\n",
    "        print(\"|P_sym - P_sic|: %f\" % np.linalg.norm(Psym - P_sic))\n",
    "        print()"
   ]
  },
  {
   "cell_type": "markdown",
   "id": "47e31ce2",
   "metadata": {},
   "source": [
    "## Testing sky/ground coherence"
   ]
  },
  {
   "cell_type": "code",
   "execution_count": null,
   "id": "33e5347e",
   "metadata": {},
   "outputs": [],
   "source": [
    "N = 5000\n",
    "sic_on_sic_experiment(N)\n",
    "sic_on_state_experiment(N)\n",
    "povm_on_sic_experiment(N)\n",
    "povm_on_state_experiment(N);"
   ]
  },
  {
   "cell_type": "code",
   "execution_count": 116,
   "id": "86fdde97",
   "metadata": {},
   "outputs": [],
   "source": [
    "N = 5000\n",
    "with open(\"data/simple_sic_on_sic_N%d.pkl\" % N, \"rb\") as f:\n",
    "    data = pickle.load(f)\n",
    "    P = data[\"P\"]\n",
    "    Phi = np.linalg.inv(P)\n",
    "\n",
    "with open(\"data/simple_sic_on_state_N%d.pkl\" % N, \"rb\") as f:\n",
    "    data = pickle.load(f)\n",
    "    p = data[\"p\"]\n",
    "\n",
    "with open(\"data/simple_povm_on_sic_N%d.pkl\" % N, \"rb\") as f:\n",
    "    data = pickle.load(f)\n",
    "    C = data[\"C\"]\n",
    "\n",
    "with open(\"data/simple_povm_on_state_N%d.pkl\" % N, \"rb\") as f:\n",
    "    data = pickle.load(f)\n",
    "    q = data[\"q\"]"
   ]
  },
  {
   "cell_type": "code",
   "execution_count": 117,
   "id": "4c5ff84a",
   "metadata": {},
   "outputs": [
    {
     "data": {
      "text/plain": [
       "array([ 0.793, -0.076,  0.04 ,  0.06 ])"
      ]
     },
     "execution_count": 117,
     "metadata": {},
     "output_type": "execute_result"
    }
   ],
   "source": [
    "q_ = C @ Phi @ p; q_"
   ]
  },
  {
   "cell_type": "code",
   "execution_count": 118,
   "id": "c1bb842c",
   "metadata": {},
   "outputs": [
    {
     "data": {
      "text/plain": [
       "array([0.989, 0.002, 0.008, 0.   ])"
      ]
     },
     "execution_count": 118,
     "metadata": {},
     "output_type": "execute_result"
    }
   ],
   "source": [
    "q"
   ]
  },
  {
   "cell_type": "code",
   "execution_count": 119,
   "id": "8d960f43",
   "metadata": {},
   "outputs": [
    {
     "data": {
      "text/plain": [
       "np.float64(0.22189509214760644)"
      ]
     },
     "execution_count": 119,
     "metadata": {},
     "output_type": "execute_result"
    }
   ],
   "source": [
    "np.linalg.norm(q - q_)"
   ]
  },
  {
   "cell_type": "code",
   "execution_count": null,
   "id": "6e06a58c",
   "metadata": {},
   "outputs": [
    {
     "data": {
      "text/plain": [
       "array([0.888, 0.   , 0.045, 0.067])"
      ]
     },
     "execution_count": 124,
     "metadata": {},
     "output_type": "execute_result"
    }
   ],
   "source": [
    "q_fixed = q_[:]\n",
    "q_fixed[q_fixed < 0] = 0\n",
    "q_fixed = q_fixed/sum(q_fixed)\n",
    "q_fixed"
   ]
  },
  {
   "cell_type": "code",
   "execution_count": 126,
   "id": "19cfb6fb",
   "metadata": {},
   "outputs": [
    {
     "data": {
      "text/plain": [
       "np.float64(0.12687373831670243)"
      ]
     },
     "execution_count": 126,
     "metadata": {},
     "output_type": "execute_result"
    }
   ],
   "source": [
    "np.linalg.norm(q - q_fixed)"
   ]
  }
 ],
 "metadata": {
  "kernelspec": {
   "display_name": "spring2025",
   "language": "python",
   "name": "python3"
  },
  "language_info": {
   "codemirror_mode": {
    "name": "ipython",
    "version": 3
   },
   "file_extension": ".py",
   "mimetype": "text/x-python",
   "name": "python",
   "nbconvert_exporter": "python",
   "pygments_lexer": "ipython3",
   "version": "3.12.8"
  }
 },
 "nbformat": 4,
 "nbformat_minor": 5
}
