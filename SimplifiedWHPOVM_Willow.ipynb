{
 "cells": [
  {
   "cell_type": "code",
   "execution_count": 24,
   "id": "3b38fee6",
   "metadata": {},
   "outputs": [],
   "source": [
    "import numpy as np\n",
    "np.set_printoptions(precision=3, suppress=True)\n",
    "\n",
    "import cirq \n",
    "import cirq_google\n",
    "import qsimcirq\n",
    "\n",
    "from circuits import *\n",
    "from utils import *\n",
    "\n",
    "import matplotlib.pyplot as plt"
   ]
  },
  {
   "cell_type": "code",
   "execution_count": 25,
   "id": "8c13fa76",
   "metadata": {},
   "outputs": [],
   "source": [
    "processor_id = \"willow_pink\"\n",
    "device = cirq_google.engine.create_device_from_processor_id(processor_id)\n",
    "gateset = device.metadata.compilation_target_gatesets[0]\n",
    "connectivity_graph = device.metadata.nx_graph\n",
    "\n",
    "noise_props = cirq_google.engine.load_device_noise_properties(processor_id)\n",
    "noise_model = cirq_google.NoiseModelFromGoogleNoiseProperties(noise_props)\n",
    "sim = qsimcirq.QSimSimulator(noise=noise_model)\n",
    "cal = cirq_google.engine.load_median_device_calibration(processor_id)\n",
    "sim_processor = cirq_google.engine.SimulatedLocalProcessor(\n",
    "    processor_id=processor_id, sampler=sim, device=device, calibrations={cal.timestamp // 1000: cal})\n",
    "sim_engine = cirq_google.engine.SimulatedLocalEngine([sim_processor])"
   ]
  },
  {
   "cell_type": "code",
   "execution_count": 32,
   "id": "3315da60",
   "metadata": {},
   "outputs": [
    {
     "name": "stdout",
     "output_type": "stream",
     "text": [
      "(3, 7): ───PhX(0.0405)^0.579───@───PhX(-0.307)^0.5─────@───PhXZ(a=0.301,x=0.755,z=-0.456)──────────────────────────────────────────────────────────────────────────────────────@─────────────────────────────────────────PhXZ(a=0.5,x=0.5,z=0)──────────@───PhX(-0.5)^0.5──────@───PhX(0.5)^0.5─────────────────────────────────────────────────────────────────PhXZ(a=-1.0,x=0.75,z=0)──────────@───PhX(8.88e-16)^0.5───@───PhX(-1.0)^0.5────@───PhXZ(a=-0.5,x=0.5,z=1.0)─────M─────────────\n",
      "                               │                       │                                                                                                                       │                                                                        │                      │                                                                                                                 │                       │                    │                                │\n",
      "(4, 7): ───PhX(-0.429)^0.109───@───PhX(-0.496)^0.5─────@───PhXZ(a=0.00394,x=0.913,z=-0.0777)───@───PhX(-0.0738)^0.5───@───PhX(0.926)^0.5────@───PhXZ(a=0.25,x=0,z=0.25)────────@───PhX(-0.5)^0.5───@───PhX(1)^0.25───@───PhXZ(a=-1.11e-16,x=0.25,z=0)───@───PhX(0.5)^0.5───────@───PhX(-0.5)^0.5─────────PhXZ(a=0.5,x=0.5,z=0)──────────@───PhX(-0.5)^0.5───@───PhXZ(a=0,x=0.75,z=0.75)──────────@───PhX(-0.75)^0.5──────@───PhX(0.25)^0.75───@───PhXZ(a=-0.25,x=0.5,z=0.75)───M─────────────\n",
      "                                                                                               │                      │                     │                                                      │                 │                                                                                                                  │                   │                                                                                                                  │\n",
      "(5, 7): ───PhX(0.0742)^0.638───@───PhX(0.238)^(4/15)───@───PhXZ(a=-0.327,x=0.534,z=0.602)──────@───PhX(-0.574)^0.5────@───PhX(0.426)^0.75───@───PhXZ(a=-0.0738,x=0.5,z=0.75)───────────────────────@─────────────────@───PhXZ(a=0.676,x=0.5,z=-0.25)────@───PhX(-0.0738)^0.5───@───PhX(0.926)^0.5────@───PhXZ(a=-0.75,x=0.5,z=0.25)─────@───PhX(0.5)^0.5────@───PhXZ(a=0.75,x=0.5,z=0.75)────────@───PhX(8.88e-16)^0.5───@───PhX(-1.0)^0.5────@───PhXZ(a=-0.5,x=0.5,z=1.0)─────M('result')───\n",
      "                               │                       │                                                                                                                                                                                                │                      │                     │                                                                                           │                       │                    │                                │\n",
      "(6, 7): ───PhX(-0.394)^0.601───@───────────────────────@───PhXZ(a=0.14,x=0.855,z=0.86)───────────────────────────────────────────────────────────────────────────────────────────────────────────────────────────────────PhXZ(a=0.426,x=0.5,z=0)────────@───PhX(-0.574)^0.5────@───PhX(0.426)^0.75───@───PhXZ(a=-0.0738,x=0.5,z=0.75)───────────────────────────PhXZ(a=0.25,x=0.5,z=-1.11e-16)───@───PhX(-0.75)^0.5──────@───PhX(0.25)^0.75───@───PhXZ(a=-0.25,x=0.5,z=0.75)───M─────────────\n"
     ]
    }
   ],
   "source": [
    "A = [cirq.GridQubit(5,9), cirq.GridQubit(6,9)]\n",
    "B = [cirq.GridQubit(5,10), cirq.GridQubit(6,10)]\n",
    "\n",
    "# 1) Prepare fiducial in A (system) and fiducial in B (ancilla).\n",
    "# 2) Apply controlled shift (A: target, B: control)\n",
    "# 3) Inverse fourier transform B. This implements the operator D.\n",
    "# 4) Measuring in computational basis realize the WH-POVM.\n",
    "circuit = cirq.Circuit((d4_fiducial(A),\\\n",
    "                        d4_fiducial(B, conjugate=True),\\\n",
    "                        CXdag(B, A),\\\n",
    "                        Fdag(B),\\\n",
    "                        cirq.measure(*(A+B),key=\"result\")))\n",
    "optimized_circuit = cirq.optimize_for_target_gateset(cirq.RouteCQC(connectivity_graph)(circuit),\\\n",
    "                                                     context=cirq.TransformerContext(deep=True), gateset=gateset)\n",
    "device.validate_circuit(optimized_circuit)\n",
    "print(optimized_circuit)"
   ]
  },
  {
   "cell_type": "code",
   "execution_count": 33,
   "id": "c0e366dc",
   "metadata": {},
   "outputs": [
    {
     "data": {
      "text/plain": [
       "array([0.221, 0.05 , 0.057, 0.063, 0.052, 0.026, 0.022, 0.054, 0.09 ,\n",
       "       0.041, 0.066, 0.039, 0.051, 0.066, 0.051, 0.051])"
      ]
     },
     "execution_count": 33,
     "metadata": {},
     "output_type": "execute_result"
    }
   ],
   "source": [
    "# Realistic simulation\n",
    "N = 50000\n",
    "samples = sim_engine.get_sampler(processor_id).run(optimized_circuit, repetitions=N)\n",
    "counts = samples.histogram(key=\"result\")\n",
    "\n",
    "# To compare this side by side with the AK result, we reorder the probabilities to reflect that\n",
    "# we've changed convention from D^\\dag \\Pi D to D \\Pi D^\\dag\n",
    "noisy_freqs = change_conjugate_convention(np.array([v for k, v in sorted(counts.items())])/N)\n",
    "noisy_freqs"
   ]
  },
  {
   "cell_type": "code",
   "execution_count": 35,
   "id": "bb78dfb6",
   "metadata": {},
   "outputs": [
    {
     "data": {
      "text/plain": [
       "array([0.252, 0.049, 0.051, 0.049, 0.051, 0.05 , 0.051, 0.051, 0.049,\n",
       "       0.047, 0.049, 0.05 , 0.051, 0.049, 0.051, 0.049])"
      ]
     },
     "execution_count": 35,
     "metadata": {},
     "output_type": "execute_result"
    }
   ],
   "source": [
    "# Exact simulation \n",
    "s = cirq.Simulator()\n",
    "samples = s.run(circuit, repetitions=N)\n",
    "counts = samples.histogram(key=\"result\")\n",
    "exact_freqs = change_conjugate_convention(np.array([v for k, v in sorted(counts.items())])/N)\n",
    "exact_freqs"
   ]
  },
  {
   "cell_type": "code",
   "execution_count": 36,
   "id": "3c99d9f2",
   "metadata": {},
   "outputs": [
    {
     "data": {
      "text/plain": [
       "array([0.25, 0.05, 0.05, 0.05, 0.05, 0.05, 0.05, 0.05, 0.05, 0.05, 0.05,\n",
       "       0.05, 0.05, 0.05, 0.05, 0.05])"
      ]
     },
     "execution_count": 36,
     "metadata": {},
     "output_type": "execute_result"
    }
   ],
   "source": [
    "# Direct calculation\n",
    "d = 4\n",
    "phi = d4_fiducial_ket()\n",
    "Pi = np.outer(phi, phi.conj())\n",
    "E = wh_povm(phi)\n",
    "p = np.array([(e@Pi).trace() for e in E]).real; p"
   ]
  },
  {
   "cell_type": "code",
   "execution_count": 37,
   "id": "c221bd01",
   "metadata": {},
   "outputs": [
    {
     "data": {
      "image/png": "[encoded data removed]",
      "text/plain": [
       "<Figure size 1000x600 with 1 Axes>"
      ]
     },
     "metadata": {},
     "output_type": "display_data"
    }
   ],
   "source": [
    "x_pos = np.arange(2**4) \n",
    "bar_width = 0.35\n",
    "plt.figure(figsize=(10, 6))\n",
    "plt.bar(x_pos - bar_width/2, p, width=bar_width, label='Exact', color='red')\n",
    "plt.bar(x_pos + bar_width/2, noisy_freqs, width=bar_width, label='Willow simulation', color='blue')\n",
    "plt.ylabel('p')\n",
    "plt.xlabel('Outcome')\n",
    "plt.title('Simple WH-POVM: Theory vs. \"Experiment\" (N=%d)' % N)\n",
    "plt.xticks(x_pos)\n",
    "plt.legend()\n",
    "plt.tight_layout()"
   ]
  },
  {
   "cell_type": "code",
   "execution_count": null,
   "id": "d51e6411",
   "metadata": {},
   "outputs": [
    {
     "name": "stdout",
     "output_type": "stream",
     "text": [
      "--- Gate Counts (by type) ---\n",
      "Ry: 10\n",
      "_PauliX: 4\n",
      "CXPowGate: 12\n",
      "ZPowGate: 6\n",
      "HPowGate: 8\n",
      "CZPowGate: 9\n",
      "SwapPowGate: 3\n",
      "MeasurementGate: 1\n"
     ]
    }
   ],
   "source": [
    "get_gate_counts(circuit)"
   ]
  },
  {
   "cell_type": "code",
   "execution_count": null,
   "id": "94ac86f1",
   "metadata": {},
   "outputs": [
    {
     "name": "stdout",
     "output_type": "stream",
     "text": [
      "--- Gate Counts (by type) ---\n",
      "PhasedXPowGate: 31\n",
      "CZPowGate: 23\n",
      "PhasedXZGate: 21\n",
      "MeasurementGate: 1\n"
     ]
    }
   ],
   "source": [
    "get_gate_counts(optimized_circuit)"
   ]
  },
  {
   "cell_type": "code",
   "execution_count": null,
   "id": "c66d83db",
   "metadata": {},
   "outputs": [],
   "source": []
  }
 ],
 "metadata": {
  "kernelspec": {
   "display_name": "spring2025",
   "language": "python",
   "name": "python3"
  },
  "language_info": {
   "codemirror_mode": {
    "name": "ipython",
    "version": 3
   },
   "file_extension": ".py",
   "mimetype": "text/x-python",
   "name": "python",
   "nbconvert_exporter": "python",
   "pygments_lexer": "ipython3",
   "version": "3.12.8"
  }
 },
 "nbformat": 4,
 "nbformat_minor": 5
}
